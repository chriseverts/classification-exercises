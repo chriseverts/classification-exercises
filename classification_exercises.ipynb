{
 "cells": [
  {
   "cell_type": "code",
   "execution_count": null,
   "id": "96e55c69",
   "metadata": {},
   "outputs": [],
   "source": [
    "import numpy as np\n",
    "import pandas as pd\n",
    "import matplotlib.pyplot as plt\n",
    "import seaborn as sns\n",
    "from env import host, username, password\n",
    "from pydataset import data\n",
    "import os\n",
    "from env import get_db_url\n",
    "from aquire import get_titanic_data, get_iris_data\n",
    "import scipy"
   ]
  },
  {
   "cell_type": "code",
   "execution_count": null,
   "id": "f10d1c12",
   "metadata": {},
   "outputs": [],
   "source": [
    "##In a jupyter notebook, classification_exercises.ipynb, \n",
    "##use a python module (pydata or seaborn datasets) containing datasets as a source from the iris data. \n",
    "##Create a pandas dataframe, df_iris, from this data.\n",
    "\n"
   ]
  },
  {
   "cell_type": "code",
   "execution_count": null,
   "id": "6566c1a3",
   "metadata": {},
   "outputs": [],
   "source": [
    "df_iris = data('iris')"
   ]
  },
  {
   "cell_type": "code",
   "execution_count": null,
   "id": "0a7e7a2d",
   "metadata": {},
   "outputs": [],
   "source": [
    "#1a.) print the first 3 rows\n",
    "\n",
    "df_iris.head(3)"
   ]
  },
  {
   "cell_type": "code",
   "execution_count": null,
   "id": "21e2f4c6",
   "metadata": {},
   "outputs": [],
   "source": [
    "#1b.) print the number of rows and columns (shape)\n",
    "\n",
    "df_iris.shape\n"
   ]
  },
  {
   "cell_type": "code",
   "execution_count": null,
   "id": "ea0955cb",
   "metadata": {},
   "outputs": [],
   "source": [
    "#1c.) print the column names\n",
    "\n",
    "list(df_iris)"
   ]
  },
  {
   "cell_type": "code",
   "execution_count": null,
   "id": "28d9f6aa",
   "metadata": {},
   "outputs": [],
   "source": [
    "df_iris.columns.to_list()"
   ]
  },
  {
   "cell_type": "code",
   "execution_count": null,
   "id": "02196b7f",
   "metadata": {},
   "outputs": [],
   "source": [
    "#1d.) print the data type of each column\n",
    "df_iris.dtypes"
   ]
  },
  {
   "cell_type": "code",
   "execution_count": null,
   "id": "659a7812",
   "metadata": {},
   "outputs": [],
   "source": [
    "#1e.) print the summary statistics for each of the numeric variables. \n",
    " #Would you recommend rescaling the data based on these statistics?\n",
    "    \n",
    "stats = df_iris.describe().T\n",
    "stats    \n",
    "    \n",
    "    "
   ]
  },
  {
   "cell_type": "code",
   "execution_count": null,
   "id": "cc26401d",
   "metadata": {},
   "outputs": [],
   "source": [
    "##Not seeing a need to rescale2.) Read the Table1_CustDetails table from the Excel_Exercises.xlsx file into a dataframe named df_excel.\n",
    "\n",
    "df_excel = pd.read_csv('Spreadsheets_Exercises.csv')\n",
    "df_excel_sample = df_excel.head(100)\n",
    "\n",
    "numeric = df_excel_sample.select_dtypes(include = ['int64', 'float64'])\n",
    "temp = numeric.describe()\n",
    "temp.to_markdown\n",
    "\n",
    "\n",
    "\n"
   ]
  },
  {
   "cell_type": "code",
   "execution_count": null,
   "id": "a035b254",
   "metadata": {},
   "outputs": [],
   "source": [
    "#2c.) print the first 5 column names\n",
    "print(list(df_excel)[0:5])"
   ]
  },
  {
   "cell_type": "code",
   "execution_count": null,
   "id": "dd0c2c07",
   "metadata": {},
   "outputs": [],
   "source": [
    "#2d.) print the column names that have a data type of object\n",
    "print(df_excel.columns[df_excel.dtypes==object])"
   ]
  },
  {
   "cell_type": "code",
   "execution_count": null,
   "id": "3dbeddef",
   "metadata": {},
   "outputs": [],
   "source": [
    "#2e.) compute the range for each of the numeric variables."
   ]
  },
  {
   "cell_type": "code",
   "execution_count": null,
   "id": "3767d186",
   "metadata": {},
   "outputs": [],
   "source": [
    "stats_ex = df_excel.describe().T\n",
    "stats_ex['range'] = stats_ex['max'] - stats_ex['min']\n",
    "stats_ex"
   ]
  },
  {
   "cell_type": "code",
   "execution_count": null,
   "id": "d7fcb357",
   "metadata": {},
   "outputs": [],
   "source": [
    "df_excel.select_dtypes('number').max() - df_excel.select_dtypes('number').min()"
   ]
  },
  {
   "cell_type": "code",
   "execution_count": null,
   "id": "39eee4ee",
   "metadata": {},
   "outputs": [],
   "source": [
    "#3.) https://docs.google.com/spreadsheets/d/1Uhtml8KY19LILuZsrDtlsHHDC9wuDGUSe8LTEwvdI5g/edit?usp=sharing\n",
    "#Turn into df_google"
   ]
  },
  {
   "cell_type": "code",
   "execution_count": null,
   "id": "a8afe8dd",
   "metadata": {},
   "outputs": [],
   "source": [
    "sheet_url = 'https://docs.google.com/spreadsheets/d/1Uhtml8KY19LILuZsrDtlsHHDC9wuDGUSe8LTEwvdI5g/edit#gid=341089357'    \n",
    "csv_export_url = sheet_url.replace('/edit#gid=', '/export?format=csv&gid=')\n",
    "df_google = pd.read_csv(csv_export_url)"
   ]
  },
  {
   "cell_type": "code",
   "execution_count": null,
   "id": "a6bab3b2",
   "metadata": {},
   "outputs": [],
   "source": [
    "#3a.) print the first 3 rows\n",
    "df_google.head(3)"
   ]
  },
  {
   "cell_type": "code",
   "execution_count": null,
   "id": "1f69e920",
   "metadata": {},
   "outputs": [],
   "source": [
    "df_google.shape"
   ]
  },
  {
   "cell_type": "code",
   "execution_count": null,
   "id": "2f934ce9",
   "metadata": {},
   "outputs": [],
   "source": [
    "#3c.) print the column names\n",
    "print(df_google.columns.to_list())"
   ]
  },
  {
   "cell_type": "code",
   "execution_count": null,
   "id": "1ff15484",
   "metadata": {},
   "outputs": [],
   "source": [
    "#3d.) print the data type of each column\n",
    "df_google.dtypes"
   ]
  },
  {
   "cell_type": "code",
   "execution_count": null,
   "id": "15b15edf",
   "metadata": {},
   "outputs": [],
   "source": [
    "##print the summary statistics for each of the numeric variables\n",
    "\n",
    "df_google.describe().T"
   ]
  },
  {
   "cell_type": "code",
   "execution_count": null,
   "id": "30120192",
   "metadata": {},
   "outputs": [],
   "source": [
    "#3f.) print the unique values for each of your categorical variables\n",
    "\n",
    "for col in df_google.columns:\n",
    "    if df_google[col].dtypes == 'object':\n",
    "        print(f'{col} has {df_google[col].nunique()} unique values.')"
   ]
  },
  {
   "cell_type": "code",
   "execution_count": null,
   "id": "00ed6b70",
   "metadata": {},
   "outputs": [],
   "source": [
    "df_google.Survived.value_counts(dropna=False)"
   ]
  },
  {
   "cell_type": "code",
   "execution_count": null,
   "id": "6bce0b33",
   "metadata": {},
   "outputs": [],
   "source": [
    "df_google.Survived.value_counts(dropna=False)"
   ]
  },
  {
   "cell_type": "code",
   "execution_count": null,
   "id": "d3cf1fc2",
   "metadata": {},
   "outputs": [],
   "source": [
    "df_google.Sex.value_counts(dropna=False)"
   ]
  },
  {
   "cell_type": "code",
   "execution_count": null,
   "id": "5f7f1df2",
   "metadata": {},
   "outputs": [],
   "source": [
    "df_obj_only = df_google.select_dtypes(include='object')\n",
    "for i in df_obj_only.columns:\n",
    "     print(df_google[i].unique())"
   ]
  },
  {
   "cell_type": "code",
   "execution_count": null,
   "id": "39938147",
   "metadata": {},
   "outputs": [],
   "source": [
    "titanic_df = get_titanic_data()"
   ]
  },
  {
   "cell_type": "code",
   "execution_count": null,
   "id": "087d309b",
   "metadata": {},
   "outputs": [],
   "source": [
    "iris_df = get_iris_data()"
   ]
  },
  {
   "cell_type": "code",
   "execution_count": null,
   "id": "48adaae7",
   "metadata": {},
   "outputs": [],
   "source": [
    "os.path.isfile('titanic_df.csv')"
   ]
  },
  {
   "cell_type": "code",
   "execution_count": null,
   "id": "558a1c15",
   "metadata": {},
   "outputs": [],
   "source": [
    "titanic_df.to_csv('titanic_df.csv')"
   ]
  },
  {
   "cell_type": "code",
   "execution_count": null,
   "id": "12725205",
   "metadata": {},
   "outputs": [],
   "source": [
    "iris_df.to_csv('iris_df.csv')"
   ]
  },
  {
   "cell_type": "code",
   "execution_count": null,
   "id": "357437f5",
   "metadata": {},
   "outputs": [],
   "source": [
    "titanic_df.describe().T"
   ]
  },
  {
   "cell_type": "markdown",
   "id": "976d8b2d",
   "metadata": {},
   "source": [
    "Exercises\n",
    "The end product of this exercise should be the specified functions in a python script named prepare.py. Do these in your classification_exercises.ipynb first, then transfer to the prepare.py file.\n",
    "\n",
    "This work should all be saved in your local classification-exercises repo. Then add, commit, and push your changes.\n",
    "\n",
    "Using the Iris Data:\n",
    "\n",
    "Use the function defined in acquire.py to load the iris data.\n",
    "\n",
    "Drop the species_id and measurement_id columns.\n",
    "\n",
    "Rename the species_name column to just species.\n",
    "\n",
    "Create dummy variables of the species name.\n",
    "\n",
    "Create a function named prep_iris that accepts the untransformed iris data, and returns the data with the transformations above applied."
   ]
  },
  {
   "cell_type": "code",
   "execution_count": null,
   "id": "faaace4b",
   "metadata": {},
   "outputs": [],
   "source": [
    "import pandas as pd\n",
    "import numpy as np\n",
    "import matplotlib.pyplot as plt\n",
    "\n",
    "from sklearn.model_selection import train_test_split\n",
    "from sklearn.impute import SimpleImputer\n",
    "\n",
    "import warnings\n",
    "warnings.filterwarnings(\"ignore\")\n",
    "\n",
    "import aquire"
   ]
  },
  {
   "cell_type": "code",
   "execution_count": null,
   "id": "ee6638fe",
   "metadata": {},
   "outputs": [],
   "source": [
    "iris_df = aquire.get_iris_data()"
   ]
  },
  {
   "cell_type": "code",
   "execution_count": null,
   "id": "b5e25967",
   "metadata": {},
   "outputs": [],
   "source": [
    "#2.) Drop the species_id and measurement_id columns.\n",
    "iris_df = iris_df.drop(columns = ['species_id', 'measurement_id'])\n",
    "iris_df"
   ]
  },
  {
   "cell_type": "code",
   "execution_count": null,
   "id": "700c2c3b",
   "metadata": {},
   "outputs": [],
   "source": [
    "#3.) Rename the species_name column to just species.\n",
    "iris_df.rename(columns=({'species_name': 'species'}))"
   ]
  },
  {
   "cell_type": "code",
   "execution_count": null,
   "id": "74a128df",
   "metadata": {},
   "outputs": [],
   "source": [
    "#4.) Create dummy variables of the species name."
   ]
  },
  {
   "cell_type": "code",
   "execution_count": null,
   "id": "8ed476ac",
   "metadata": {},
   "outputs": [],
   "source": [
    "pd.get_dummies(iris_df, prefix = ['species'])"
   ]
  },
  {
   "cell_type": "code",
   "execution_count": null,
   "id": "301295dc",
   "metadata": {},
   "outputs": [],
   "source": [
    "#5.) Create a function named prep_iris that accepts the untransformed iris data, \n",
    "#and returns the data with the transformations above applied.\n",
    "\n",
    "def clean_iris_data(iris_df):\n",
    "    iris_df = iris_df.drop(columns = ['species_id', 'measurement_id'])\n",
    "    iris_df = iris_df.rename(columns=({'species_name': 'species'}))\n",
    "    iris_df = pd.get_dummies(iris_df, prefix = ['species'])\n",
    "    return iris_df\n"
   ]
  },
  {
   "cell_type": "code",
   "execution_count": null,
   "id": "1ad49148",
   "metadata": {},
   "outputs": [],
   "source": [
    "def prep_iris(iris_df):\n",
    "    iris_df = clean_iris_data(iris_df)\n",
    "    return iris_df"
   ]
  },
  {
   "cell_type": "code",
   "execution_count": null,
   "id": "bf170205",
   "metadata": {},
   "outputs": [],
   "source": [
    "df = get_iris_data()\n",
    "df"
   ]
  },
  {
   "cell_type": "code",
   "execution_count": null,
   "id": "1c0b3152",
   "metadata": {},
   "outputs": [],
   "source": [
    "clean_iris_data(df)"
   ]
  },
  {
   "cell_type": "code",
   "execution_count": null,
   "id": "c5aefc93",
   "metadata": {},
   "outputs": [],
   "source": [
    "prep_iris(df)"
   ]
  },
  {
   "cell_type": "code",
   "execution_count": null,
   "id": "9cc35229",
   "metadata": {},
   "outputs": [],
   "source": [
    "from Prepare import clean_data, prep_iris"
   ]
  },
  {
   "cell_type": "code",
   "execution_count": null,
   "id": "6c6a81fb",
   "metadata": {},
   "outputs": [],
   "source": [
    "clean_data(df)"
   ]
  },
  {
   "cell_type": "code",
   "execution_count": null,
   "id": "a05f3fe6",
   "metadata": {},
   "outputs": [],
   "source": [
    "prep_iris(df)"
   ]
  },
  {
   "cell_type": "code",
   "execution_count": null,
   "id": "13a3058c",
   "metadata": {},
   "outputs": [],
   "source": []
  }
 ],
 "metadata": {
  "kernelspec": {
   "display_name": "Python 3",
   "language": "python",
   "name": "python3"
  },
  "language_info": {
   "codemirror_mode": {
    "name": "ipython",
    "version": 3
   },
   "file_extension": ".py",
   "mimetype": "text/x-python",
   "name": "python",
   "nbconvert_exporter": "python",
   "pygments_lexer": "ipython3",
   "version": "3.8.8"
  }
 },
 "nbformat": 4,
 "nbformat_minor": 5
}
