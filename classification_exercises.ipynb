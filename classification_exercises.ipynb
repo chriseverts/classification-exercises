{
 "cells": [
  {
   "cell_type": "code",
   "execution_count": 1,
   "id": "96e55c69",
   "metadata": {},
   "outputs": [
    {
     "ename": "ModuleNotFoundError",
     "evalue": "No module named 'acquire'",
     "output_type": "error",
     "traceback": [
      "\u001b[0;31m---------------------------------------------------------------------------\u001b[0m",
      "\u001b[0;31mModuleNotFoundError\u001b[0m                       Traceback (most recent call last)",
      "\u001b[0;32m<ipython-input-1-e3ad1577ec00>\u001b[0m in \u001b[0;36m<module>\u001b[0;34m\u001b[0m\n\u001b[1;32m      7\u001b[0m \u001b[0;32mimport\u001b[0m \u001b[0mos\u001b[0m\u001b[0;34m\u001b[0m\u001b[0;34m\u001b[0m\u001b[0m\n\u001b[1;32m      8\u001b[0m \u001b[0;32mfrom\u001b[0m \u001b[0menv\u001b[0m \u001b[0;32mimport\u001b[0m \u001b[0mget_db_url\u001b[0m\u001b[0;34m\u001b[0m\u001b[0;34m\u001b[0m\u001b[0m\n\u001b[0;32m----> 9\u001b[0;31m \u001b[0;32mfrom\u001b[0m \u001b[0macquire\u001b[0m \u001b[0;32mimport\u001b[0m \u001b[0mget_titanic_data\u001b[0m\u001b[0;34m,\u001b[0m \u001b[0mget_iris_data\u001b[0m\u001b[0;34m\u001b[0m\u001b[0;34m\u001b[0m\u001b[0m\n\u001b[0m\u001b[1;32m     10\u001b[0m \u001b[0;32mfrom\u001b[0m \u001b[0mprepare\u001b[0m \u001b[0;32mimport\u001b[0m \u001b[0mprep_iris\u001b[0m\u001b[0;34m\u001b[0m\u001b[0;34m\u001b[0m\u001b[0m\n\u001b[1;32m     11\u001b[0m \u001b[0;32mimport\u001b[0m \u001b[0mscipy\u001b[0m\u001b[0;34m\u001b[0m\u001b[0;34m\u001b[0m\u001b[0m\n",
      "\u001b[0;31mModuleNotFoundError\u001b[0m: No module named 'acquire'"
     ]
    }
   ],
   "source": [
    "import numpy as np\n",
    "import pandas as pd\n",
    "import matplotlib.pyplot as plt\n",
    "import seaborn as sns\n",
    "from env import host, username, password\n",
    "from pydataset import data\n",
    "import os\n",
    "from env import get_db_url\n",
    "from acquire import get_titanic_data, get_iris_data\n",
    "from prepare import prep_iris\n",
    "import scipy"
   ]
  },
  {
   "cell_type": "code",
   "execution_count": null,
   "id": "f10d1c12",
   "metadata": {},
   "outputs": [],
   "source": [
    "##In a jupyter notebook, classification_exercises.ipynb, \n",
    "##use a python module (pydata or seaborn datasets) containing datasets as a source from the iris data. \n",
    "##Create a pandas dataframe, df_iris, from this data.\n",
    "\n"
   ]
  },
  {
   "cell_type": "code",
   "execution_count": null,
   "id": "6566c1a3",
   "metadata": {},
   "outputs": [],
   "source": [
    "df_iris = data('iris')"
   ]
  },
  {
   "cell_type": "code",
   "execution_count": null,
   "id": "0a7e7a2d",
   "metadata": {},
   "outputs": [],
   "source": [
    "#1a.) print the first 3 rows\n",
    "\n",
    "df_iris.head(3)"
   ]
  },
  {
   "cell_type": "code",
   "execution_count": null,
   "id": "21e2f4c6",
   "metadata": {},
   "outputs": [],
   "source": [
    "#1b.) print the number of rows and columns (shape)\n",
    "\n",
    "df_iris.shape\n"
   ]
  },
  {
   "cell_type": "code",
   "execution_count": null,
   "id": "ea0955cb",
   "metadata": {},
   "outputs": [],
   "source": [
    "#1c.) print the column names\n",
    "\n",
    "list(df_iris)"
   ]
  },
  {
   "cell_type": "code",
   "execution_count": null,
   "id": "28d9f6aa",
   "metadata": {},
   "outputs": [],
   "source": [
    "df_iris.columns.to_list()"
   ]
  },
  {
   "cell_type": "code",
   "execution_count": null,
   "id": "02196b7f",
   "metadata": {},
   "outputs": [],
   "source": [
    "#1d.) print the data type of each column\n",
    "df_iris.dtypes"
   ]
  },
  {
   "cell_type": "code",
   "execution_count": null,
   "id": "659a7812",
   "metadata": {},
   "outputs": [],
   "source": [
    "#1e.) print the summary statistics for each of the numeric variables. \n",
    " #Would you recommend rescaling the data based on these statistics?\n",
    "    \n",
    "stats = df_iris.describe().T\n",
    "stats    \n",
    "    \n",
    "    "
   ]
  },
  {
   "cell_type": "code",
   "execution_count": null,
   "id": "cc26401d",
   "metadata": {},
   "outputs": [],
   "source": [
    "##Not seeing a need to rescale2.) Read the Table1_CustDetails table from the Excel_Exercises.xlsx file into a dataframe named df_excel.\n",
    "\n",
    "df_excel = pd.read_csv('Spreadsheets_Exercises.csv')\n",
    "df_excel_sample = df_excel.head(100)\n",
    "\n",
    "numeric = df_excel_sample.select_dtypes(include = ['int64', 'float64'])\n",
    "temp = numeric.describe()\n",
    "temp.to_markdown\n",
    "\n",
    "\n",
    "\n"
   ]
  },
  {
   "cell_type": "code",
   "execution_count": null,
   "id": "a035b254",
   "metadata": {},
   "outputs": [],
   "source": [
    "#2c.) print the first 5 column names\n",
    "print(list(df_excel)[0:5])"
   ]
  },
  {
   "cell_type": "code",
   "execution_count": null,
   "id": "dd0c2c07",
   "metadata": {},
   "outputs": [],
   "source": [
    "#2d.) print the column names that have a data type of object\n",
    "print(df_excel.columns[df_excel.dtypes==object])"
   ]
  },
  {
   "cell_type": "code",
   "execution_count": null,
   "id": "3dbeddef",
   "metadata": {},
   "outputs": [],
   "source": [
    "#2e.) compute the range for each of the numeric variables."
   ]
  },
  {
   "cell_type": "code",
   "execution_count": null,
   "id": "3767d186",
   "metadata": {},
   "outputs": [],
   "source": [
    "stats_ex = df_excel.describe().T\n",
    "stats_ex['range'] = stats_ex['max'] - stats_ex['min']\n",
    "stats_ex"
   ]
  },
  {
   "cell_type": "code",
   "execution_count": null,
   "id": "d7fcb357",
   "metadata": {},
   "outputs": [],
   "source": [
    "df_excel.select_dtypes('number').max() - df_excel.select_dtypes('number').min()"
   ]
  },
  {
   "cell_type": "code",
   "execution_count": null,
   "id": "39eee4ee",
   "metadata": {},
   "outputs": [],
   "source": [
    "#3.) https://docs.google.com/spreadsheets/d/1Uhtml8KY19LILuZsrDtlsHHDC9wuDGUSe8LTEwvdI5g/edit?usp=sharing\n",
    "#Turn into df_google"
   ]
  },
  {
   "cell_type": "code",
   "execution_count": null,
   "id": "a8afe8dd",
   "metadata": {},
   "outputs": [],
   "source": [
    "sheet_url = 'https://docs.google.com/spreadsheets/d/1Uhtml8KY19LILuZsrDtlsHHDC9wuDGUSe8LTEwvdI5g/edit#gid=341089357'    \n",
    "csv_export_url = sheet_url.replace('/edit#gid=', '/export?format=csv&gid=')\n",
    "df_google = pd.read_csv(csv_export_url)"
   ]
  },
  {
   "cell_type": "code",
   "execution_count": null,
   "id": "a6bab3b2",
   "metadata": {},
   "outputs": [],
   "source": [
    "#3a.) print the first 3 rows\n",
    "df_google.head(3)"
   ]
  },
  {
   "cell_type": "code",
   "execution_count": null,
   "id": "1f69e920",
   "metadata": {},
   "outputs": [],
   "source": [
    "df_google.shape"
   ]
  },
  {
   "cell_type": "code",
   "execution_count": null,
   "id": "2f934ce9",
   "metadata": {},
   "outputs": [],
   "source": [
    "#3c.) print the column names\n",
    "print(df_google.columns.to_list())"
   ]
  },
  {
   "cell_type": "code",
   "execution_count": null,
   "id": "1ff15484",
   "metadata": {},
   "outputs": [],
   "source": [
    "#3d.) print the data type of each column\n",
    "df_google.dtypes"
   ]
  },
  {
   "cell_type": "code",
   "execution_count": null,
   "id": "15b15edf",
   "metadata": {},
   "outputs": [],
   "source": [
    "##print the summary statistics for each of the numeric variables\n",
    "\n",
    "df_google.describe()"
   ]
  },
  {
   "cell_type": "code",
   "execution_count": null,
   "id": "30120192",
   "metadata": {},
   "outputs": [],
   "source": [
    "#3f.) print the unique values for each of your categorical variables\n",
    "\n",
    "for col in df_google.columns:\n",
    "    if df_google[col].dtypes == 'object':\n",
    "        print(f'{col} has {df_google[col].nunique()} unique values.')"
   ]
  },
  {
   "cell_type": "code",
   "execution_count": null,
   "id": "00ed6b70",
   "metadata": {},
   "outputs": [],
   "source": [
    "df_google.Survived.value_counts(dropna=False)"
   ]
  },
  {
   "cell_type": "code",
   "execution_count": null,
   "id": "6bce0b33",
   "metadata": {},
   "outputs": [],
   "source": [
    "df_google.Survived.value_counts(dropna=False)"
   ]
  },
  {
   "cell_type": "code",
   "execution_count": null,
   "id": "d3cf1fc2",
   "metadata": {},
   "outputs": [],
   "source": [
    "df_google.Sex.value_counts(dropna=False)"
   ]
  },
  {
   "cell_type": "code",
   "execution_count": null,
   "id": "5f7f1df2",
   "metadata": {},
   "outputs": [],
   "source": [
    "df_obj_only = df_google.select_dtypes(include='object')\n",
    "for i in df_obj_only.columns:\n",
    "     print(df_google[i].unique())"
   ]
  },
  {
   "cell_type": "code",
   "execution_count": null,
   "id": "39938147",
   "metadata": {},
   "outputs": [],
   "source": [
    "\n",
    "titanic_df = get_titanic_data()"
   ]
  },
  {
   "cell_type": "code",
   "execution_count": null,
   "id": "087d309b",
   "metadata": {},
   "outputs": [],
   "source": []
  }
 ],
 "metadata": {
  "kernelspec": {
   "display_name": "Python 3",
   "language": "python",
   "name": "python3"
  },
  "language_info": {
   "codemirror_mode": {
    "name": "ipython",
    "version": 3
   },
   "file_extension": ".py",
   "mimetype": "text/x-python",
   "name": "python",
   "nbconvert_exporter": "python",
   "pygments_lexer": "ipython3",
   "version": "3.8.8"
  }
 },
 "nbformat": 4,
 "nbformat_minor": 5
}
