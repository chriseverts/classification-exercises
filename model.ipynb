{
 "cells": [
  {
   "cell_type": "code",
   "execution_count": 1,
   "id": "28373c34",
   "metadata": {},
   "outputs": [],
   "source": [
    "# ignore warnings\n",
    "import warnings\n",
    "warnings.filterwarnings(\"ignore\")\n",
    "\n",
    "from sklearn.metrics import accuracy_score\n",
    "from sklearn.model_selection import train_test_split\n",
    "from sklearn.tree import DecisionTreeClassifier\n",
    "from sklearn.tree import export_graphviz\n",
    "from sklearn.metrics import classification_report\n",
    "from sklearn.metrics import confusion_matrix\n",
    "import sklearn.metrics as metrics\n",
    "import numpy as np\n",
    "import pandas as pd\n",
    "import matplotlib.pyplot as plt\n",
    "import seaborn as sns\n",
    "from env import host, username, password\n",
    "from pydataset import data\n",
    "import os\n",
    "from env import get_db_url\n",
    "import acquire\n",
    "import prepare\n",
    "import scipy"
   ]
  },
  {
   "cell_type": "code",
   "execution_count": 2,
   "id": "b75673f8",
   "metadata": {
    "scrolled": true
   },
   "outputs": [],
   "source": [
    "#acquire data\n",
    "df = acquire.get_titanic_data()"
   ]
  },
  {
   "cell_type": "code",
   "execution_count": 3,
   "id": "bda3b8e9",
   "metadata": {},
   "outputs": [
    {
     "data": {
      "text/html": [
       "<div>\n",
       "<style scoped>\n",
       "    .dataframe tbody tr th:only-of-type {\n",
       "        vertical-align: middle;\n",
       "    }\n",
       "\n",
       "    .dataframe tbody tr th {\n",
       "        vertical-align: top;\n",
       "    }\n",
       "\n",
       "    .dataframe thead th {\n",
       "        text-align: right;\n",
       "    }\n",
       "</style>\n",
       "<table border=\"1\" class=\"dataframe\">\n",
       "  <thead>\n",
       "    <tr style=\"text-align: right;\">\n",
       "      <th></th>\n",
       "      <th>passenger_id</th>\n",
       "      <th>survived</th>\n",
       "      <th>pclass</th>\n",
       "      <th>sex</th>\n",
       "      <th>age</th>\n",
       "      <th>sibsp</th>\n",
       "      <th>parch</th>\n",
       "      <th>fare</th>\n",
       "      <th>embarked</th>\n",
       "      <th>class</th>\n",
       "      <th>deck</th>\n",
       "      <th>embark_town</th>\n",
       "      <th>alone</th>\n",
       "    </tr>\n",
       "  </thead>\n",
       "  <tbody>\n",
       "    <tr>\n",
       "      <th>0</th>\n",
       "      <td>0</td>\n",
       "      <td>0</td>\n",
       "      <td>3</td>\n",
       "      <td>male</td>\n",
       "      <td>22.0</td>\n",
       "      <td>1</td>\n",
       "      <td>0</td>\n",
       "      <td>7.2500</td>\n",
       "      <td>S</td>\n",
       "      <td>Third</td>\n",
       "      <td>NaN</td>\n",
       "      <td>Southampton</td>\n",
       "      <td>0</td>\n",
       "    </tr>\n",
       "    <tr>\n",
       "      <th>1</th>\n",
       "      <td>1</td>\n",
       "      <td>1</td>\n",
       "      <td>1</td>\n",
       "      <td>female</td>\n",
       "      <td>38.0</td>\n",
       "      <td>1</td>\n",
       "      <td>0</td>\n",
       "      <td>71.2833</td>\n",
       "      <td>C</td>\n",
       "      <td>First</td>\n",
       "      <td>C</td>\n",
       "      <td>Cherbourg</td>\n",
       "      <td>0</td>\n",
       "    </tr>\n",
       "    <tr>\n",
       "      <th>2</th>\n",
       "      <td>2</td>\n",
       "      <td>1</td>\n",
       "      <td>3</td>\n",
       "      <td>female</td>\n",
       "      <td>26.0</td>\n",
       "      <td>0</td>\n",
       "      <td>0</td>\n",
       "      <td>7.9250</td>\n",
       "      <td>S</td>\n",
       "      <td>Third</td>\n",
       "      <td>NaN</td>\n",
       "      <td>Southampton</td>\n",
       "      <td>1</td>\n",
       "    </tr>\n",
       "    <tr>\n",
       "      <th>3</th>\n",
       "      <td>3</td>\n",
       "      <td>1</td>\n",
       "      <td>1</td>\n",
       "      <td>female</td>\n",
       "      <td>35.0</td>\n",
       "      <td>1</td>\n",
       "      <td>0</td>\n",
       "      <td>53.1000</td>\n",
       "      <td>S</td>\n",
       "      <td>First</td>\n",
       "      <td>C</td>\n",
       "      <td>Southampton</td>\n",
       "      <td>0</td>\n",
       "    </tr>\n",
       "    <tr>\n",
       "      <th>4</th>\n",
       "      <td>4</td>\n",
       "      <td>0</td>\n",
       "      <td>3</td>\n",
       "      <td>male</td>\n",
       "      <td>35.0</td>\n",
       "      <td>0</td>\n",
       "      <td>0</td>\n",
       "      <td>8.0500</td>\n",
       "      <td>S</td>\n",
       "      <td>Third</td>\n",
       "      <td>NaN</td>\n",
       "      <td>Southampton</td>\n",
       "      <td>1</td>\n",
       "    </tr>\n",
       "    <tr>\n",
       "      <th>...</th>\n",
       "      <td>...</td>\n",
       "      <td>...</td>\n",
       "      <td>...</td>\n",
       "      <td>...</td>\n",
       "      <td>...</td>\n",
       "      <td>...</td>\n",
       "      <td>...</td>\n",
       "      <td>...</td>\n",
       "      <td>...</td>\n",
       "      <td>...</td>\n",
       "      <td>...</td>\n",
       "      <td>...</td>\n",
       "      <td>...</td>\n",
       "    </tr>\n",
       "    <tr>\n",
       "      <th>886</th>\n",
       "      <td>886</td>\n",
       "      <td>0</td>\n",
       "      <td>2</td>\n",
       "      <td>male</td>\n",
       "      <td>27.0</td>\n",
       "      <td>0</td>\n",
       "      <td>0</td>\n",
       "      <td>13.0000</td>\n",
       "      <td>S</td>\n",
       "      <td>Second</td>\n",
       "      <td>NaN</td>\n",
       "      <td>Southampton</td>\n",
       "      <td>1</td>\n",
       "    </tr>\n",
       "    <tr>\n",
       "      <th>887</th>\n",
       "      <td>887</td>\n",
       "      <td>1</td>\n",
       "      <td>1</td>\n",
       "      <td>female</td>\n",
       "      <td>19.0</td>\n",
       "      <td>0</td>\n",
       "      <td>0</td>\n",
       "      <td>30.0000</td>\n",
       "      <td>S</td>\n",
       "      <td>First</td>\n",
       "      <td>B</td>\n",
       "      <td>Southampton</td>\n",
       "      <td>1</td>\n",
       "    </tr>\n",
       "    <tr>\n",
       "      <th>888</th>\n",
       "      <td>888</td>\n",
       "      <td>0</td>\n",
       "      <td>3</td>\n",
       "      <td>female</td>\n",
       "      <td>NaN</td>\n",
       "      <td>1</td>\n",
       "      <td>2</td>\n",
       "      <td>23.4500</td>\n",
       "      <td>S</td>\n",
       "      <td>Third</td>\n",
       "      <td>NaN</td>\n",
       "      <td>Southampton</td>\n",
       "      <td>0</td>\n",
       "    </tr>\n",
       "    <tr>\n",
       "      <th>889</th>\n",
       "      <td>889</td>\n",
       "      <td>1</td>\n",
       "      <td>1</td>\n",
       "      <td>male</td>\n",
       "      <td>26.0</td>\n",
       "      <td>0</td>\n",
       "      <td>0</td>\n",
       "      <td>30.0000</td>\n",
       "      <td>C</td>\n",
       "      <td>First</td>\n",
       "      <td>C</td>\n",
       "      <td>Cherbourg</td>\n",
       "      <td>1</td>\n",
       "    </tr>\n",
       "    <tr>\n",
       "      <th>890</th>\n",
       "      <td>890</td>\n",
       "      <td>0</td>\n",
       "      <td>3</td>\n",
       "      <td>male</td>\n",
       "      <td>32.0</td>\n",
       "      <td>0</td>\n",
       "      <td>0</td>\n",
       "      <td>7.7500</td>\n",
       "      <td>Q</td>\n",
       "      <td>Third</td>\n",
       "      <td>NaN</td>\n",
       "      <td>Queenstown</td>\n",
       "      <td>1</td>\n",
       "    </tr>\n",
       "  </tbody>\n",
       "</table>\n",
       "<p>891 rows × 13 columns</p>\n",
       "</div>"
      ],
      "text/plain": [
       "     passenger_id  survived  pclass     sex   age  sibsp  parch     fare  \\\n",
       "0               0         0       3    male  22.0      1      0   7.2500   \n",
       "1               1         1       1  female  38.0      1      0  71.2833   \n",
       "2               2         1       3  female  26.0      0      0   7.9250   \n",
       "3               3         1       1  female  35.0      1      0  53.1000   \n",
       "4               4         0       3    male  35.0      0      0   8.0500   \n",
       "..            ...       ...     ...     ...   ...    ...    ...      ...   \n",
       "886           886         0       2    male  27.0      0      0  13.0000   \n",
       "887           887         1       1  female  19.0      0      0  30.0000   \n",
       "888           888         0       3  female   NaN      1      2  23.4500   \n",
       "889           889         1       1    male  26.0      0      0  30.0000   \n",
       "890           890         0       3    male  32.0      0      0   7.7500   \n",
       "\n",
       "    embarked   class deck  embark_town  alone  \n",
       "0          S   Third  NaN  Southampton      0  \n",
       "1          C   First    C    Cherbourg      0  \n",
       "2          S   Third  NaN  Southampton      1  \n",
       "3          S   First    C  Southampton      0  \n",
       "4          S   Third  NaN  Southampton      1  \n",
       "..       ...     ...  ...          ...    ...  \n",
       "886        S  Second  NaN  Southampton      1  \n",
       "887        S   First    B  Southampton      1  \n",
       "888        S   Third  NaN  Southampton      0  \n",
       "889        C   First    C    Cherbourg      1  \n",
       "890        Q   Third  NaN   Queenstown      1  \n",
       "\n",
       "[891 rows x 13 columns]"
      ]
     },
     "execution_count": 3,
     "metadata": {},
     "output_type": "execute_result"
    }
   ],
   "source": [
    "df"
   ]
  },
  {
   "cell_type": "code",
   "execution_count": 4,
   "id": "a78bf44d",
   "metadata": {},
   "outputs": [],
   "source": [
    "\n",
    "dummy1 = pd.get_dummies(df[['embark_town']],drop_first=True)\n",
    "dummy2 = pd.get_dummies(df[['class']],drop_first=True)\n",
    "df[\"is_female\"] = (df.sex == \"female\")"
   ]
  },
  {
   "cell_type": "code",
   "execution_count": 5,
   "id": "ca2bd756",
   "metadata": {},
   "outputs": [],
   "source": [
    "df = pd.concat([df, dummy1, dummy2], axis=1)"
   ]
  },
  {
   "cell_type": "code",
   "execution_count": 6,
   "id": "d5497a36",
   "metadata": {},
   "outputs": [
    {
     "data": {
      "text/html": [
       "<div>\n",
       "<style scoped>\n",
       "    .dataframe tbody tr th:only-of-type {\n",
       "        vertical-align: middle;\n",
       "    }\n",
       "\n",
       "    .dataframe tbody tr th {\n",
       "        vertical-align: top;\n",
       "    }\n",
       "\n",
       "    .dataframe thead th {\n",
       "        text-align: right;\n",
       "    }\n",
       "</style>\n",
       "<table border=\"1\" class=\"dataframe\">\n",
       "  <thead>\n",
       "    <tr style=\"text-align: right;\">\n",
       "      <th></th>\n",
       "      <th>passenger_id</th>\n",
       "      <th>survived</th>\n",
       "      <th>pclass</th>\n",
       "      <th>sex</th>\n",
       "      <th>age</th>\n",
       "      <th>sibsp</th>\n",
       "      <th>parch</th>\n",
       "      <th>fare</th>\n",
       "      <th>embarked</th>\n",
       "      <th>class</th>\n",
       "      <th>deck</th>\n",
       "      <th>embark_town</th>\n",
       "      <th>alone</th>\n",
       "      <th>is_female</th>\n",
       "      <th>embark_town_Queenstown</th>\n",
       "      <th>embark_town_Southampton</th>\n",
       "      <th>class_Second</th>\n",
       "      <th>class_Third</th>\n",
       "    </tr>\n",
       "  </thead>\n",
       "  <tbody>\n",
       "    <tr>\n",
       "      <th>0</th>\n",
       "      <td>0</td>\n",
       "      <td>0</td>\n",
       "      <td>3</td>\n",
       "      <td>male</td>\n",
       "      <td>22.0</td>\n",
       "      <td>1</td>\n",
       "      <td>0</td>\n",
       "      <td>7.2500</td>\n",
       "      <td>S</td>\n",
       "      <td>Third</td>\n",
       "      <td>NaN</td>\n",
       "      <td>Southampton</td>\n",
       "      <td>0</td>\n",
       "      <td>False</td>\n",
       "      <td>0</td>\n",
       "      <td>1</td>\n",
       "      <td>0</td>\n",
       "      <td>1</td>\n",
       "    </tr>\n",
       "    <tr>\n",
       "      <th>1</th>\n",
       "      <td>1</td>\n",
       "      <td>1</td>\n",
       "      <td>1</td>\n",
       "      <td>female</td>\n",
       "      <td>38.0</td>\n",
       "      <td>1</td>\n",
       "      <td>0</td>\n",
       "      <td>71.2833</td>\n",
       "      <td>C</td>\n",
       "      <td>First</td>\n",
       "      <td>C</td>\n",
       "      <td>Cherbourg</td>\n",
       "      <td>0</td>\n",
       "      <td>True</td>\n",
       "      <td>0</td>\n",
       "      <td>0</td>\n",
       "      <td>0</td>\n",
       "      <td>0</td>\n",
       "    </tr>\n",
       "    <tr>\n",
       "      <th>2</th>\n",
       "      <td>2</td>\n",
       "      <td>1</td>\n",
       "      <td>3</td>\n",
       "      <td>female</td>\n",
       "      <td>26.0</td>\n",
       "      <td>0</td>\n",
       "      <td>0</td>\n",
       "      <td>7.9250</td>\n",
       "      <td>S</td>\n",
       "      <td>Third</td>\n",
       "      <td>NaN</td>\n",
       "      <td>Southampton</td>\n",
       "      <td>1</td>\n",
       "      <td>True</td>\n",
       "      <td>0</td>\n",
       "      <td>1</td>\n",
       "      <td>0</td>\n",
       "      <td>1</td>\n",
       "    </tr>\n",
       "    <tr>\n",
       "      <th>3</th>\n",
       "      <td>3</td>\n",
       "      <td>1</td>\n",
       "      <td>1</td>\n",
       "      <td>female</td>\n",
       "      <td>35.0</td>\n",
       "      <td>1</td>\n",
       "      <td>0</td>\n",
       "      <td>53.1000</td>\n",
       "      <td>S</td>\n",
       "      <td>First</td>\n",
       "      <td>C</td>\n",
       "      <td>Southampton</td>\n",
       "      <td>0</td>\n",
       "      <td>True</td>\n",
       "      <td>0</td>\n",
       "      <td>1</td>\n",
       "      <td>0</td>\n",
       "      <td>0</td>\n",
       "    </tr>\n",
       "    <tr>\n",
       "      <th>4</th>\n",
       "      <td>4</td>\n",
       "      <td>0</td>\n",
       "      <td>3</td>\n",
       "      <td>male</td>\n",
       "      <td>35.0</td>\n",
       "      <td>0</td>\n",
       "      <td>0</td>\n",
       "      <td>8.0500</td>\n",
       "      <td>S</td>\n",
       "      <td>Third</td>\n",
       "      <td>NaN</td>\n",
       "      <td>Southampton</td>\n",
       "      <td>1</td>\n",
       "      <td>False</td>\n",
       "      <td>0</td>\n",
       "      <td>1</td>\n",
       "      <td>0</td>\n",
       "      <td>1</td>\n",
       "    </tr>\n",
       "  </tbody>\n",
       "</table>\n",
       "</div>"
      ],
      "text/plain": [
       "   passenger_id  survived  pclass     sex   age  sibsp  parch     fare  \\\n",
       "0             0         0       3    male  22.0      1      0   7.2500   \n",
       "1             1         1       1  female  38.0      1      0  71.2833   \n",
       "2             2         1       3  female  26.0      0      0   7.9250   \n",
       "3             3         1       1  female  35.0      1      0  53.1000   \n",
       "4             4         0       3    male  35.0      0      0   8.0500   \n",
       "\n",
       "  embarked  class deck  embark_town  alone  is_female  embark_town_Queenstown  \\\n",
       "0        S  Third  NaN  Southampton      0      False                       0   \n",
       "1        C  First    C    Cherbourg      0       True                       0   \n",
       "2        S  Third  NaN  Southampton      1       True                       0   \n",
       "3        S  First    C  Southampton      0       True                       0   \n",
       "4        S  Third  NaN  Southampton      1      False                       0   \n",
       "\n",
       "   embark_town_Southampton  class_Second  class_Third  \n",
       "0                        1             0            1  \n",
       "1                        0             0            0  \n",
       "2                        1             0            1  \n",
       "3                        1             0            0  \n",
       "4                        1             0            1  "
      ]
     },
     "execution_count": 6,
     "metadata": {},
     "output_type": "execute_result"
    }
   ],
   "source": [
    "df.head()"
   ]
  },
  {
   "cell_type": "code",
   "execution_count": 7,
   "id": "edb63c42",
   "metadata": {},
   "outputs": [],
   "source": [
    "df = df.drop(columns=['passenger_id','age','sex', 'pclass','class', 'embarked','embark_town','deck','sibsp','parch'])"
   ]
  },
  {
   "cell_type": "code",
   "execution_count": 8,
   "id": "6fbeca5e",
   "metadata": {},
   "outputs": [
    {
     "data": {
      "text/html": [
       "<div>\n",
       "<style scoped>\n",
       "    .dataframe tbody tr th:only-of-type {\n",
       "        vertical-align: middle;\n",
       "    }\n",
       "\n",
       "    .dataframe tbody tr th {\n",
       "        vertical-align: top;\n",
       "    }\n",
       "\n",
       "    .dataframe thead th {\n",
       "        text-align: right;\n",
       "    }\n",
       "</style>\n",
       "<table border=\"1\" class=\"dataframe\">\n",
       "  <thead>\n",
       "    <tr style=\"text-align: right;\">\n",
       "      <th></th>\n",
       "      <th>survived</th>\n",
       "      <th>fare</th>\n",
       "      <th>alone</th>\n",
       "      <th>is_female</th>\n",
       "      <th>embark_town_Queenstown</th>\n",
       "      <th>embark_town_Southampton</th>\n",
       "      <th>class_Second</th>\n",
       "      <th>class_Third</th>\n",
       "    </tr>\n",
       "  </thead>\n",
       "  <tbody>\n",
       "    <tr>\n",
       "      <th>0</th>\n",
       "      <td>0</td>\n",
       "      <td>7.2500</td>\n",
       "      <td>0</td>\n",
       "      <td>False</td>\n",
       "      <td>0</td>\n",
       "      <td>1</td>\n",
       "      <td>0</td>\n",
       "      <td>1</td>\n",
       "    </tr>\n",
       "    <tr>\n",
       "      <th>1</th>\n",
       "      <td>1</td>\n",
       "      <td>71.2833</td>\n",
       "      <td>0</td>\n",
       "      <td>True</td>\n",
       "      <td>0</td>\n",
       "      <td>0</td>\n",
       "      <td>0</td>\n",
       "      <td>0</td>\n",
       "    </tr>\n",
       "    <tr>\n",
       "      <th>2</th>\n",
       "      <td>1</td>\n",
       "      <td>7.9250</td>\n",
       "      <td>1</td>\n",
       "      <td>True</td>\n",
       "      <td>0</td>\n",
       "      <td>1</td>\n",
       "      <td>0</td>\n",
       "      <td>1</td>\n",
       "    </tr>\n",
       "    <tr>\n",
       "      <th>3</th>\n",
       "      <td>1</td>\n",
       "      <td>53.1000</td>\n",
       "      <td>0</td>\n",
       "      <td>True</td>\n",
       "      <td>0</td>\n",
       "      <td>1</td>\n",
       "      <td>0</td>\n",
       "      <td>0</td>\n",
       "    </tr>\n",
       "    <tr>\n",
       "      <th>4</th>\n",
       "      <td>0</td>\n",
       "      <td>8.0500</td>\n",
       "      <td>1</td>\n",
       "      <td>False</td>\n",
       "      <td>0</td>\n",
       "      <td>1</td>\n",
       "      <td>0</td>\n",
       "      <td>1</td>\n",
       "    </tr>\n",
       "  </tbody>\n",
       "</table>\n",
       "</div>"
      ],
      "text/plain": [
       "   survived     fare  alone  is_female  embark_town_Queenstown  \\\n",
       "0         0   7.2500      0      False                       0   \n",
       "1         1  71.2833      0       True                       0   \n",
       "2         1   7.9250      1       True                       0   \n",
       "3         1  53.1000      0       True                       0   \n",
       "4         0   8.0500      1      False                       0   \n",
       "\n",
       "   embark_town_Southampton  class_Second  class_Third  \n",
       "0                        1             0            1  \n",
       "1                        0             0            0  \n",
       "2                        1             0            1  \n",
       "3                        1             0            0  \n",
       "4                        1             0            1  "
      ]
     },
     "execution_count": 8,
     "metadata": {},
     "output_type": "execute_result"
    }
   ],
   "source": [
    "df.head()"
   ]
  },
  {
   "cell_type": "code",
   "execution_count": 9,
   "id": "02d8ad76",
   "metadata": {},
   "outputs": [
    {
     "name": "stdout",
     "output_type": "stream",
     "text": [
      "<class 'pandas.core.frame.DataFrame'>\n",
      "Int64Index: 891 entries, 0 to 890\n",
      "Data columns (total 8 columns):\n",
      " #   Column                   Non-Null Count  Dtype  \n",
      "---  ------                   --------------  -----  \n",
      " 0   survived                 891 non-null    int64  \n",
      " 1   fare                     891 non-null    float64\n",
      " 2   alone                    891 non-null    int64  \n",
      " 3   is_female                891 non-null    bool   \n",
      " 4   embark_town_Queenstown   891 non-null    uint8  \n",
      " 5   embark_town_Southampton  891 non-null    uint8  \n",
      " 6   class_Second             891 non-null    uint8  \n",
      " 7   class_Third              891 non-null    uint8  \n",
      "dtypes: bool(1), float64(1), int64(2), uint8(4)\n",
      "memory usage: 32.2 KB\n"
     ]
    }
   ],
   "source": [
    "df.dropna(inplace = True)\n",
    "df.info()"
   ]
  },
  {
   "cell_type": "code",
   "execution_count": 10,
   "id": "0857a669",
   "metadata": {},
   "outputs": [],
   "source": [
    "from sklearn.model_selection import train_test_split\n",
    "\n",
    "def train_validate_test_split(df, target, seed=123):\n",
    "    '''\n",
    "    This function takes in a dataframe, the name of the target variable\n",
    "    (for stratification purposes), and an integer for a setting a seed\n",
    "    and splits the data into train, validate and test. \n",
    "    Test is 20% of the original dataset, validate is .30*.80= 24% of the \n",
    "    original dataset, and train is .70*.80= 56% of the original dataset. \n",
    "    The function returns, in this order, train, validate and test dataframes. \n",
    "    '''\n",
    "    train_validate, test = train_test_split(df, test_size=0.2, \n",
    "                                            random_state=seed, \n",
    "                                            stratify=df[target])\n",
    "    train, validate = train_test_split(train_validate, test_size=0.3, \n",
    "                                       random_state=seed,\n",
    "                                       stratify=train_validate[target])\n",
    "    return train, validate, test"
   ]
  },
  {
   "cell_type": "code",
   "execution_count": 11,
   "id": "10efc20d",
   "metadata": {},
   "outputs": [],
   "source": [
    "# split into train, validate, test\n",
    "train, validate, test = train_validate_test_split(df, target='survived', seed=123)\n",
    "\n",
    "# create X & y version of train, where y is a series with just the target variable and X are all the features. \n",
    "\n",
    "X_train = train.drop(columns=['survived'])\n",
    "y_train = train.survived\n",
    "\n",
    "X_validate = validate.drop(columns=['survived'])\n",
    "y_validate = validate.survived\n",
    "\n",
    "X_test = test.drop(columns=['survived'])\n",
    "y_test = test.survived"
   ]
  },
  {
   "cell_type": "code",
   "execution_count": 12,
   "id": "f9ef4d44",
   "metadata": {},
   "outputs": [
    {
     "data": {
      "text/plain": [
       "((498, 8), (214, 8), (179, 8))"
      ]
     },
     "execution_count": 12,
     "metadata": {},
     "output_type": "execute_result"
    }
   ],
   "source": [
    "#sanity check\n",
    "train.shape, validate.shape, test.shape"
   ]
  },
  {
   "cell_type": "code",
   "execution_count": 13,
   "id": "efcc701d",
   "metadata": {},
   "outputs": [
    {
     "data": {
      "text/plain": [
       "0.6164658634538153"
      ]
     },
     "execution_count": 13,
     "metadata": {},
     "output_type": "execute_result"
    }
   ],
   "source": [
    "train['baseline_prediction'] = 0 #because I'm predicting more people did not survive\n",
    "accuracy_score(train.survived, train.baseline_prediction)"
   ]
  },
  {
   "cell_type": "code",
   "execution_count": 14,
   "id": "394181f6",
   "metadata": {},
   "outputs": [
    {
     "name": "stdout",
     "output_type": "stream",
     "text": [
      "training score: 93.78%\n",
      "validate score: 76.64%\n"
     ]
    }
   ],
   "source": [
    "\n",
    "## make the model\n",
    "model1 = DecisionTreeClassifier(splitter = 'best')\n",
    "\n",
    "## fit the model\n",
    "model1.fit(X_train, y_train)\n",
    "\n",
    "print(f'training score: {model1.score(X_train, y_train):.2%}')\n",
    "print(f'validate score: {model1.score(X_validate, y_validate):.2%}')"
   ]
  },
  {
   "cell_type": "code",
   "execution_count": 15,
   "id": "7ff7341b",
   "metadata": {},
   "outputs": [
    {
     "data": {
      "text/html": [
       "<div>\n",
       "<style scoped>\n",
       "    .dataframe tbody tr th:only-of-type {\n",
       "        vertical-align: middle;\n",
       "    }\n",
       "\n",
       "    .dataframe tbody tr th {\n",
       "        vertical-align: top;\n",
       "    }\n",
       "\n",
       "    .dataframe thead th {\n",
       "        text-align: right;\n",
       "    }\n",
       "</style>\n",
       "<table border=\"1\" class=\"dataframe\">\n",
       "  <thead>\n",
       "    <tr style=\"text-align: right;\">\n",
       "      <th></th>\n",
       "      <th>survived</th>\n",
       "      <th>fare</th>\n",
       "      <th>alone</th>\n",
       "      <th>is_female</th>\n",
       "      <th>embark_town_Queenstown</th>\n",
       "      <th>embark_town_Southampton</th>\n",
       "      <th>class_Second</th>\n",
       "      <th>class_Third</th>\n",
       "      <th>baseline_prediction</th>\n",
       "      <th>model1</th>\n",
       "    </tr>\n",
       "  </thead>\n",
       "  <tbody>\n",
       "    <tr>\n",
       "      <th>583</th>\n",
       "      <td>0</td>\n",
       "      <td>40.1250</td>\n",
       "      <td>1</td>\n",
       "      <td>False</td>\n",
       "      <td>0</td>\n",
       "      <td>0</td>\n",
       "      <td>0</td>\n",
       "      <td>0</td>\n",
       "      <td>0</td>\n",
       "      <td>0</td>\n",
       "    </tr>\n",
       "    <tr>\n",
       "      <th>165</th>\n",
       "      <td>1</td>\n",
       "      <td>20.5250</td>\n",
       "      <td>0</td>\n",
       "      <td>False</td>\n",
       "      <td>0</td>\n",
       "      <td>1</td>\n",
       "      <td>0</td>\n",
       "      <td>1</td>\n",
       "      <td>0</td>\n",
       "      <td>0</td>\n",
       "    </tr>\n",
       "    <tr>\n",
       "      <th>50</th>\n",
       "      <td>0</td>\n",
       "      <td>39.6875</td>\n",
       "      <td>0</td>\n",
       "      <td>False</td>\n",
       "      <td>0</td>\n",
       "      <td>1</td>\n",
       "      <td>0</td>\n",
       "      <td>1</td>\n",
       "      <td>0</td>\n",
       "      <td>0</td>\n",
       "    </tr>\n",
       "    <tr>\n",
       "      <th>259</th>\n",
       "      <td>1</td>\n",
       "      <td>26.0000</td>\n",
       "      <td>0</td>\n",
       "      <td>True</td>\n",
       "      <td>0</td>\n",
       "      <td>1</td>\n",
       "      <td>1</td>\n",
       "      <td>0</td>\n",
       "      <td>0</td>\n",
       "      <td>1</td>\n",
       "    </tr>\n",
       "    <tr>\n",
       "      <th>306</th>\n",
       "      <td>1</td>\n",
       "      <td>110.8833</td>\n",
       "      <td>1</td>\n",
       "      <td>True</td>\n",
       "      <td>0</td>\n",
       "      <td>0</td>\n",
       "      <td>0</td>\n",
       "      <td>0</td>\n",
       "      <td>0</td>\n",
       "      <td>1</td>\n",
       "    </tr>\n",
       "  </tbody>\n",
       "</table>\n",
       "</div>"
      ],
      "text/plain": [
       "     survived      fare  alone  is_female  embark_town_Queenstown  \\\n",
       "583         0   40.1250      1      False                       0   \n",
       "165         1   20.5250      0      False                       0   \n",
       "50          0   39.6875      0      False                       0   \n",
       "259         1   26.0000      0       True                       0   \n",
       "306         1  110.8833      1       True                       0   \n",
       "\n",
       "     embark_town_Southampton  class_Second  class_Third  baseline_prediction  \\\n",
       "583                        0             0            0                    0   \n",
       "165                        1             0            1                    0   \n",
       "50                         1             0            1                    0   \n",
       "259                        1             1            0                    0   \n",
       "306                        0             0            0                    0   \n",
       "\n",
       "     model1  \n",
       "583       0  \n",
       "165       0  \n",
       "50        0  \n",
       "259       1  \n",
       "306       1  "
      ]
     },
     "execution_count": 15,
     "metadata": {},
     "output_type": "execute_result"
    }
   ],
   "source": [
    "train['model1'] = model1.predict(X_train)\n",
    "train.head()"
   ]
  },
  {
   "cell_type": "code",
   "execution_count": 16,
   "id": "92a7d0b6",
   "metadata": {},
   "outputs": [],
   "source": [
    "## use the model\n",
    "\n",
    "y_pred = model1.predict(X_train)"
   ]
  },
  {
   "cell_type": "code",
   "execution_count": 17,
   "id": "079ec98b",
   "metadata": {
    "scrolled": true
   },
   "outputs": [
    {
     "data": {
      "text/plain": [
       "array([0, 0, 0, 1, 1, 0, 0, 0, 0, 0, 0, 0, 1, 0, 0, 0, 0, 1, 0, 0, 1, 0,\n",
       "       1, 1, 0, 0, 1, 0, 0, 0, 0, 0, 0, 1, 1, 0, 0, 1, 0, 1, 0, 0, 0, 1,\n",
       "       0, 0, 0, 0, 1, 0, 0, 0, 1, 1, 0, 1, 0, 1, 0, 0, 0, 0, 0, 0, 0, 0,\n",
       "       0, 0, 1, 1, 0, 0, 1, 1, 0, 0, 0, 0, 0, 1, 0, 1, 0, 0, 0, 0, 1, 1,\n",
       "       1, 0, 0, 0, 1, 1, 0, 0, 1, 0, 0, 1, 0, 0, 1, 0, 0, 1, 0, 1, 0, 0,\n",
       "       1, 1, 0, 0, 0, 1, 0, 0, 1, 1, 0, 0, 0, 0, 0, 1, 1, 0, 1, 0, 1, 0,\n",
       "       0, 1, 0, 0, 0, 0, 0, 0, 1, 0, 0, 0, 1, 0, 1, 1, 1, 1, 0, 1, 1, 0,\n",
       "       0, 1, 0, 0, 1, 0, 0, 1, 0, 1, 0, 0, 0, 0, 0, 0, 0, 1, 1, 0, 0, 0,\n",
       "       1, 0, 0, 0, 0, 0, 0, 1, 0, 1, 0, 1, 0, 1, 0, 1, 0, 0, 1, 1, 0, 1,\n",
       "       0, 0, 0, 1, 1, 0, 0, 0, 0, 0, 0, 1, 0, 0, 0, 1, 1, 1, 0, 0, 1, 0,\n",
       "       0, 0, 0, 1, 0, 0, 0, 0, 0, 1, 0, 0, 0, 0, 0, 1, 1, 0, 0, 0, 0, 0,\n",
       "       1, 0, 1, 0, 1, 0, 1, 1, 0, 0, 0, 1, 0, 1, 0, 1, 1, 1, 0, 0, 1, 1,\n",
       "       0, 0, 0, 0, 0, 0, 0, 0, 0, 1, 0, 0, 0, 0, 0, 0, 0, 1, 1, 1, 0, 0,\n",
       "       1, 0, 0, 0, 0, 0, 0, 0, 0, 1, 0, 0, 0, 0, 0, 0, 0, 1, 0, 0, 1, 0,\n",
       "       0, 0, 0, 0, 0, 1, 0, 0, 0, 1, 1, 0, 0, 0, 1, 0, 0, 1, 1, 0, 0, 1,\n",
       "       0, 1, 1, 1, 1, 1, 0, 1, 0, 0, 0, 1, 1, 1, 0, 1, 0, 0, 0, 0, 1, 0,\n",
       "       0, 1, 1, 1, 1, 0, 0, 1, 0, 1, 1, 0, 0, 0, 0, 0, 0, 0, 0, 0, 1, 0,\n",
       "       1, 0, 1, 0, 1, 1, 1, 1, 1, 0, 0, 1, 0, 0, 0, 0, 0, 0, 0, 1, 1, 0,\n",
       "       1, 0, 0, 0, 0, 1, 0, 0, 0, 0, 0, 0, 0, 0, 0, 0, 0, 0, 1, 1, 1, 0,\n",
       "       1, 0, 1, 0, 0, 1, 0, 1, 0, 1, 0, 0, 0, 0, 0, 0, 1, 0, 0, 0, 1, 0,\n",
       "       0, 0, 0, 0, 0, 1, 0, 0, 1, 0, 1, 1, 0, 0, 1, 0, 0, 0, 0, 0, 0, 0,\n",
       "       1, 0, 0, 1, 0, 0, 1, 0, 1, 0, 0, 0, 0, 0, 1, 0, 0, 0, 1, 1, 1, 1,\n",
       "       0, 1, 0, 1, 0, 0, 1, 0, 1, 0, 0, 0, 0, 0])"
      ]
     },
     "execution_count": 17,
     "metadata": {},
     "output_type": "execute_result"
    }
   ],
   "source": [
    "y_pred"
   ]
  },
  {
   "cell_type": "code",
   "execution_count": 18,
   "id": "e032a1bc",
   "metadata": {},
   "outputs": [
    {
     "data": {
      "text/plain": [
       "0.7663551401869159"
      ]
     },
     "execution_count": 18,
     "metadata": {},
     "output_type": "execute_result"
    }
   ],
   "source": [
    "#using model score\n",
    "model1.score(X_validate,y_validate)"
   ]
  },
  {
   "cell_type": "code",
   "execution_count": 19,
   "id": "b7ca50ed",
   "metadata": {},
   "outputs": [
    {
     "data": {
      "text/plain": [
       "array([[305,   2],\n",
       "       [ 29, 162]])"
      ]
     },
     "execution_count": 19,
     "metadata": {},
     "output_type": "execute_result"
    }
   ],
   "source": [
    "confusion_matrix(y_train, y_pred)"
   ]
  },
  {
   "cell_type": "code",
   "execution_count": 20,
   "id": "f073d8dd",
   "metadata": {},
   "outputs": [
    {
     "data": {
      "text/plain": [
       "0    307\n",
       "1    191\n",
       "Name: survived, dtype: int64"
      ]
     },
     "execution_count": 20,
     "metadata": {},
     "output_type": "execute_result"
    }
   ],
   "source": [
    "y_train.value_counts()"
   ]
  },
  {
   "cell_type": "code",
   "execution_count": 21,
   "id": "97fa4fbb",
   "metadata": {},
   "outputs": [
    {
     "data": {
      "text/html": [
       "<div>\n",
       "<style scoped>\n",
       "    .dataframe tbody tr th:only-of-type {\n",
       "        vertical-align: middle;\n",
       "    }\n",
       "\n",
       "    .dataframe tbody tr th {\n",
       "        vertical-align: top;\n",
       "    }\n",
       "\n",
       "    .dataframe thead th {\n",
       "        text-align: right;\n",
       "    }\n",
       "</style>\n",
       "<table border=\"1\" class=\"dataframe\">\n",
       "  <thead>\n",
       "    <tr style=\"text-align: right;\">\n",
       "      <th>col_0</th>\n",
       "      <th>0</th>\n",
       "      <th>1</th>\n",
       "    </tr>\n",
       "    <tr>\n",
       "      <th>survived</th>\n",
       "      <th></th>\n",
       "      <th></th>\n",
       "    </tr>\n",
       "  </thead>\n",
       "  <tbody>\n",
       "    <tr>\n",
       "      <th>0</th>\n",
       "      <td>305</td>\n",
       "      <td>2</td>\n",
       "    </tr>\n",
       "    <tr>\n",
       "      <th>1</th>\n",
       "      <td>29</td>\n",
       "      <td>162</td>\n",
       "    </tr>\n",
       "  </tbody>\n",
       "</table>\n",
       "</div>"
      ],
      "text/plain": [
       "col_0       0    1\n",
       "survived          \n",
       "0         305    2\n",
       "1          29  162"
      ]
     },
     "execution_count": 21,
     "metadata": {},
     "output_type": "execute_result"
    }
   ],
   "source": [
    "#confusion matrix\n",
    "pd.crosstab(y_train, y_pred)"
   ]
  },
  {
   "cell_type": "code",
   "execution_count": 22,
   "id": "65804800",
   "metadata": {},
   "outputs": [
    {
     "name": "stdout",
     "output_type": "stream",
     "text": [
      "              precision    recall  f1-score   support\n",
      "\n",
      "           0       0.91      0.99      0.95       307\n",
      "           1       0.99      0.85      0.91       191\n",
      "\n",
      "    accuracy                           0.94       498\n",
      "   macro avg       0.95      0.92      0.93       498\n",
      "weighted avg       0.94      0.94      0.94       498\n",
      "\n"
     ]
    }
   ],
   "source": [
    "print(classification_report(y_train, y_pred))"
   ]
  },
  {
   "cell_type": "markdown",
   "id": "47b668ad",
   "metadata": {},
   "source": [
    "Compute: Accuracy, true positive rate, false positive rate, true negative rate, false negative rate, precision, recall, f1-score, and support."
   ]
  },
  {
   "cell_type": "code",
   "execution_count": 23,
   "id": "098c4d30",
   "metadata": {},
   "outputs": [],
   "source": [
    "tp = 162\n",
    "tn = 305\n",
    "fp = 29\n",
    "fn = 2"
   ]
  },
  {
   "cell_type": "code",
   "execution_count": 24,
   "id": "b925d747",
   "metadata": {},
   "outputs": [
    {
     "name": "stdout",
     "output_type": "stream",
     "text": [
      "accuracy score is 0.9377510040160643\n",
      "true positive rate is 0.3253012048192771\n",
      "true negative rate is 0.6124497991967871\n",
      "false positive rate is 0.05823293172690763\n",
      "false negative rate is 0.004016064257028112\n",
      "recall score is 0.8481675392670157\n",
      "precision score is 0.9878048780487805\n",
      "f1 score is 0.9126760563380283\n"
     ]
    }
   ],
   "source": [
    "print(f'accuracy score is {accuracy_score(y_train, y_pred)}')\n",
    "print(f'true positive rate is {tp / (tn + tp+fn+fp)}')\n",
    "print(f'true negative rate is {tn / (tn + tp+fn+fp)}')\n",
    "print(f'false positive rate is {fp / (tn + tp+fn+fp)}')\n",
    "print(f'false negative rate is {fn / (tn + tp+fn+fp)}')\n",
    "print(f'recall score is {metrics.recall_score(y_train, y_pred)}')\n",
    "print(f'precision score is {metrics.precision_score(y_train, y_pred)}')\n",
    "print(f'f1 score is {metrics.f1_score(y_train, y_pred)}')"
   ]
  },
  {
   "cell_type": "markdown",
   "id": "7068d841",
   "metadata": {},
   "source": [
    "Accuracy = 76.6% TP Rate = 61.2% FP = 5% TN = 32.5% FN = .4%"
   ]
  },
  {
   "cell_type": "markdown",
   "id": "af00504e",
   "metadata": {},
   "source": [
    "Run through steps 2-4 using a different max_depth value."
   ]
  },
  {
   "cell_type": "code",
   "execution_count": 25,
   "id": "32642375",
   "metadata": {},
   "outputs": [],
   "source": [
    "from sklearn.tree import DecisionTreeClassifier, plot_tree, export_text"
   ]
  },
  {
   "cell_type": "code",
   "execution_count": 26,
   "id": "6fc68db7",
   "metadata": {
    "scrolled": true
   },
   "outputs": [
    {
     "name": "stdout",
     "output_type": "stream",
     "text": [
      "0.7616822429906542\n"
     ]
    },
    {
     "data": {
      "text/plain": [
       "[Text(167.4, 181.2, 'X[2] <= 0.5\\ngini = 0.473\\nsamples = 498\\nvalue = [307, 191]'),\n",
       " Text(83.7, 108.72, 'X[0] <= 18.275\\ngini = 0.295\\nsamples = 323\\nvalue = [265, 58]'),\n",
       " Text(41.85, 36.23999999999998, 'gini = 0.184\\nsamples = 205\\nvalue = [184, 21]'),\n",
       " Text(125.55000000000001, 36.23999999999998, 'gini = 0.43\\nsamples = 118\\nvalue = [81, 37]'),\n",
       " Text(251.10000000000002, 108.72, 'X[6] <= 0.5\\ngini = 0.365\\nsamples = 175\\nvalue = [42, 133]'),\n",
       " Text(209.25, 36.23999999999998, 'gini = 0.081\\nsamples = 94\\nvalue = [4, 90]'),\n",
       " Text(292.95, 36.23999999999998, 'gini = 0.498\\nsamples = 81\\nvalue = [38, 43]')]"
      ]
     },
     "execution_count": 26,
     "metadata": {},
     "output_type": "execute_result"
    },
    {
     "data": {
      "image/png": "[encoded data removed]",
      "text/plain": [
       "<Figure size 432x288 with 1 Axes>"
      ]
     },
     "metadata": {
      "needs_background": "light"
     },
     "output_type": "display_data"
    }
   ],
   "source": [
    "model2 = DecisionTreeClassifier(max_depth = 2)\n",
    "model2.fit(X_train, y_train)\n",
    "print(model2.score(X_validate,y_validate))\n",
    "plot_tree(model2)"
   ]
  },
  {
   "cell_type": "code",
   "execution_count": 27,
   "id": "3563b0fd",
   "metadata": {},
   "outputs": [
    {
     "name": "stdout",
     "output_type": "stream",
     "text": [
      "training score: 79.92%\n",
      "validate score: 76.17%\n"
     ]
    }
   ],
   "source": [
    "model2 = DecisionTreeClassifier(max_depth = 2)\n",
    "model2.fit(X_train, y_train)\n",
    "\n",
    "print(f'training score: {model2.score(X_train, y_train):.2%}')\n",
    "print(f'validate score: {model2.score(X_validate, y_validate):.2%}')"
   ]
  },
  {
   "cell_type": "code",
   "execution_count": 28,
   "id": "70e3fb2a",
   "metadata": {},
   "outputs": [
    {
     "data": {
      "text/html": [
       "<div>\n",
       "<style scoped>\n",
       "    .dataframe tbody tr th:only-of-type {\n",
       "        vertical-align: middle;\n",
       "    }\n",
       "\n",
       "    .dataframe tbody tr th {\n",
       "        vertical-align: top;\n",
       "    }\n",
       "\n",
       "    .dataframe thead th {\n",
       "        text-align: right;\n",
       "    }\n",
       "</style>\n",
       "<table border=\"1\" class=\"dataframe\">\n",
       "  <thead>\n",
       "    <tr style=\"text-align: right;\">\n",
       "      <th></th>\n",
       "      <th>survived</th>\n",
       "      <th>fare</th>\n",
       "      <th>alone</th>\n",
       "      <th>is_female</th>\n",
       "      <th>embark_town_Queenstown</th>\n",
       "      <th>embark_town_Southampton</th>\n",
       "      <th>class_Second</th>\n",
       "      <th>class_Third</th>\n",
       "      <th>baseline_prediction</th>\n",
       "      <th>model1</th>\n",
       "      <th>model2</th>\n",
       "    </tr>\n",
       "  </thead>\n",
       "  <tbody>\n",
       "    <tr>\n",
       "      <th>583</th>\n",
       "      <td>0</td>\n",
       "      <td>40.1250</td>\n",
       "      <td>1</td>\n",
       "      <td>False</td>\n",
       "      <td>0</td>\n",
       "      <td>0</td>\n",
       "      <td>0</td>\n",
       "      <td>0</td>\n",
       "      <td>0</td>\n",
       "      <td>0</td>\n",
       "      <td>0</td>\n",
       "    </tr>\n",
       "    <tr>\n",
       "      <th>165</th>\n",
       "      <td>1</td>\n",
       "      <td>20.5250</td>\n",
       "      <td>0</td>\n",
       "      <td>False</td>\n",
       "      <td>0</td>\n",
       "      <td>1</td>\n",
       "      <td>0</td>\n",
       "      <td>1</td>\n",
       "      <td>0</td>\n",
       "      <td>0</td>\n",
       "      <td>0</td>\n",
       "    </tr>\n",
       "    <tr>\n",
       "      <th>50</th>\n",
       "      <td>0</td>\n",
       "      <td>39.6875</td>\n",
       "      <td>0</td>\n",
       "      <td>False</td>\n",
       "      <td>0</td>\n",
       "      <td>1</td>\n",
       "      <td>0</td>\n",
       "      <td>1</td>\n",
       "      <td>0</td>\n",
       "      <td>0</td>\n",
       "      <td>0</td>\n",
       "    </tr>\n",
       "    <tr>\n",
       "      <th>259</th>\n",
       "      <td>1</td>\n",
       "      <td>26.0000</td>\n",
       "      <td>0</td>\n",
       "      <td>True</td>\n",
       "      <td>0</td>\n",
       "      <td>1</td>\n",
       "      <td>1</td>\n",
       "      <td>0</td>\n",
       "      <td>0</td>\n",
       "      <td>1</td>\n",
       "      <td>1</td>\n",
       "    </tr>\n",
       "    <tr>\n",
       "      <th>306</th>\n",
       "      <td>1</td>\n",
       "      <td>110.8833</td>\n",
       "      <td>1</td>\n",
       "      <td>True</td>\n",
       "      <td>0</td>\n",
       "      <td>0</td>\n",
       "      <td>0</td>\n",
       "      <td>0</td>\n",
       "      <td>0</td>\n",
       "      <td>1</td>\n",
       "      <td>1</td>\n",
       "    </tr>\n",
       "  </tbody>\n",
       "</table>\n",
       "</div>"
      ],
      "text/plain": [
       "     survived      fare  alone  is_female  embark_town_Queenstown  \\\n",
       "583         0   40.1250      1      False                       0   \n",
       "165         1   20.5250      0      False                       0   \n",
       "50          0   39.6875      0      False                       0   \n",
       "259         1   26.0000      0       True                       0   \n",
       "306         1  110.8833      1       True                       0   \n",
       "\n",
       "     embark_town_Southampton  class_Second  class_Third  baseline_prediction  \\\n",
       "583                        0             0            0                    0   \n",
       "165                        1             0            1                    0   \n",
       "50                         1             0            1                    0   \n",
       "259                        1             1            0                    0   \n",
       "306                        0             0            0                    0   \n",
       "\n",
       "     model1  model2  \n",
       "583       0       0  \n",
       "165       0       0  \n",
       "50        0       0  \n",
       "259       1       1  \n",
       "306       1       1  "
      ]
     },
     "execution_count": 28,
     "metadata": {},
     "output_type": "execute_result"
    }
   ],
   "source": [
    "train['model2'] = model2.predict(X_train)\n",
    "train.head()"
   ]
  },
  {
   "cell_type": "code",
   "execution_count": 29,
   "id": "2890cfc7",
   "metadata": {},
   "outputs": [],
   "source": [
    "y_pred = model2.predict(X_train)"
   ]
  },
  {
   "cell_type": "code",
   "execution_count": 30,
   "id": "4f1dfdef",
   "metadata": {},
   "outputs": [
    {
     "data": {
      "text/html": [
       "<div>\n",
       "<style scoped>\n",
       "    .dataframe tbody tr th:only-of-type {\n",
       "        vertical-align: middle;\n",
       "    }\n",
       "\n",
       "    .dataframe tbody tr th {\n",
       "        vertical-align: top;\n",
       "    }\n",
       "\n",
       "    .dataframe thead th {\n",
       "        text-align: right;\n",
       "    }\n",
       "</style>\n",
       "<table border=\"1\" class=\"dataframe\">\n",
       "  <thead>\n",
       "    <tr style=\"text-align: right;\">\n",
       "      <th>col_0</th>\n",
       "      <th>0</th>\n",
       "      <th>1</th>\n",
       "    </tr>\n",
       "    <tr>\n",
       "      <th>survived</th>\n",
       "      <th></th>\n",
       "      <th></th>\n",
       "    </tr>\n",
       "  </thead>\n",
       "  <tbody>\n",
       "    <tr>\n",
       "      <th>0</th>\n",
       "      <td>265</td>\n",
       "      <td>42</td>\n",
       "    </tr>\n",
       "    <tr>\n",
       "      <th>1</th>\n",
       "      <td>58</td>\n",
       "      <td>133</td>\n",
       "    </tr>\n",
       "  </tbody>\n",
       "</table>\n",
       "</div>"
      ],
      "text/plain": [
       "col_0       0    1\n",
       "survived          \n",
       "0         265   42\n",
       "1          58  133"
      ]
     },
     "execution_count": 30,
     "metadata": {},
     "output_type": "execute_result"
    }
   ],
   "source": [
    "pd.crosstab(y_train, y_pred)"
   ]
  },
  {
   "cell_type": "code",
   "execution_count": 31,
   "id": "18ccf1be",
   "metadata": {},
   "outputs": [
    {
     "name": "stdout",
     "output_type": "stream",
     "text": [
      "              precision    recall  f1-score   support\n",
      "\n",
      "           0       0.82      0.86      0.84       307\n",
      "           1       0.76      0.70      0.73       191\n",
      "\n",
      "    accuracy                           0.80       498\n",
      "   macro avg       0.79      0.78      0.78       498\n",
      "weighted avg       0.80      0.80      0.80       498\n",
      "\n"
     ]
    }
   ],
   "source": [
    "print(classification_report(y_train, y_pred))"
   ]
  },
  {
   "cell_type": "code",
   "execution_count": 32,
   "id": "d406af86",
   "metadata": {},
   "outputs": [],
   "source": [
    "tp = 133\n",
    "tn = 265\n",
    "fp = 58\n",
    "fn = 42"
   ]
  },
  {
   "cell_type": "code",
   "execution_count": 33,
   "id": "0071f623",
   "metadata": {},
   "outputs": [
    {
     "name": "stdout",
     "output_type": "stream",
     "text": [
      "accuracy score is 0.7991967871485943\n",
      "true positive rate is 0.26706827309236947\n",
      "true negative rate is 0.5321285140562249\n",
      "false positive rate is 0.11646586345381527\n",
      "false negative rate is 0.08433734939759036\n",
      "recall score is 0.6963350785340314\n",
      "precision score is 0.76\n",
      "f1 score is 0.726775956284153\n"
     ]
    }
   ],
   "source": [
    "print(f'accuracy score is {accuracy_score(y_train, y_pred)}')\n",
    "print(f'true positive rate is {tp / (tn + tp+fn+fp)}')\n",
    "print(f'true negative rate is {tn / (tn + tp+fn+fp)}')\n",
    "print(f'false positive rate is {fp / (tn + tp+fn+fp)}')\n",
    "print(f'false negative rate is {fn / (tn + tp+fn+fp)}')\n",
    "print(f'recall score is {metrics.recall_score(y_train, y_pred)}')\n",
    "print(f'precision score is {metrics.precision_score(y_train, y_pred)}')\n",
    "print(f'f1 score is {metrics.f1_score(y_train, y_pred)}')"
   ]
  },
  {
   "cell_type": "markdown",
   "id": "18ad641f",
   "metadata": {},
   "source": [
    "finish later Model2 with a higher max depth performed better than model1 for my in-data set. model2 also performs better on my out of sample data, it has a higher validate score at 76.9% while model1 has 76.6%."
   ]
  },
  {
   "cell_type": "code",
   "execution_count": 34,
   "id": "2b6666da",
   "metadata": {},
   "outputs": [],
   "source": [
    "## See initial notebook under classification project for running sequences for telco data"
   ]
  },
  {
   "cell_type": "markdown",
   "id": "b898032d",
   "metadata": {},
   "source": [
    "Continue working in your model file with titanic data to do the following:\n",
    "\n",
    "Fit the Random Forest classifier to your training sample and transform (i.e. make predictions on the training sample) setting the random_state accordingly and setting min_samples_leaf = 1 and max_depth = 10."
   ]
  },
  {
   "cell_type": "code",
   "execution_count": 35,
   "id": "90e909db",
   "metadata": {},
   "outputs": [],
   "source": [
    "from sklearn.ensemble import RandomForestClassifier\n",
    "from sklearn.model_selection import train_test_split\n",
    "\n",
    "def train_validate_test_split(df, target, seed=123):\n",
    "    '''\n",
    "    This function takes in a dataframe, the name of the target variable\n",
    "    (for stratification purposes), and an integer for a setting a seed\n",
    "    and splits the data into train, validate and test. \n",
    "    Test is 20% of the original dataset, validate is .30*.80= 24% of the \n",
    "    original dataset, and train is .70*.80= 56% of the original dataset. \n",
    "    The function returns, in this order, train, validate and test dataframes. \n",
    "    '''\n",
    "    train_validate, test = train_test_split(df, test_size=0.2, \n",
    "                                            random_state=seed, \n",
    "                                            stratify=df[target])\n",
    "    train, validate = train_test_split(train_validate, test_size=0.3, \n",
    "                                       random_state=seed,\n",
    "                                       stratify=train_validate[target])\n",
    "    return train, validate, test"
   ]
  },
  {
   "cell_type": "code",
   "execution_count": 36,
   "id": "073513a9",
   "metadata": {},
   "outputs": [],
   "source": [
    "# split into train, validate, test\n",
    "train, validate, test = train_validate_test_split(df, target='survived', seed=123)\n",
    "\n",
    "# create X & y version of train, where y is a series with just the target variable and X are all the features. \n",
    "\n",
    "X_train = train.drop(columns=['survived'])\n",
    "y_train = train.survived\n",
    "\n",
    "X_validate = validate.drop(columns=['survived'])\n",
    "y_validate = validate.survived\n",
    "\n",
    "X_test = test.drop(columns=['survived'])\n",
    "y_test = test.survived"
   ]
  },
  {
   "cell_type": "code",
   "execution_count": 37,
   "id": "80a08c77",
   "metadata": {},
   "outputs": [],
   "source": [
    "rf = RandomForestClassifier(bootstrap=True, \n",
    "                            class_weight=None, \n",
    "                            criterion='gini',\n",
    "                            min_samples_leaf=1,\n",
    "                            n_estimators=100,\n",
    "                            max_depth=10, \n",
    "                            random_state=123)"
   ]
  },
  {
   "cell_type": "code",
   "execution_count": 38,
   "id": "1bb1af25",
   "metadata": {},
   "outputs": [
    {
     "data": {
      "text/plain": [
       "RandomForestClassifier(max_depth=10, random_state=123)"
      ]
     },
     "execution_count": 38,
     "metadata": {},
     "output_type": "execute_result"
    }
   ],
   "source": [
    "rf.fit(X_train, y_train)"
   ]
  },
  {
   "cell_type": "code",
   "execution_count": 39,
   "id": "52248d79",
   "metadata": {},
   "outputs": [
    {
     "name": "stdout",
     "output_type": "stream",
     "text": [
      "[0.4722033  0.03597724 0.34596794 0.01424262 0.02909522 0.02125569\n",
      " 0.081258  ]\n"
     ]
    }
   ],
   "source": [
    "print(rf.feature_importances_)"
   ]
  },
  {
   "cell_type": "code",
   "execution_count": 40,
   "id": "72442bca",
   "metadata": {},
   "outputs": [],
   "source": [
    "y_pred = rf.predict(X_train)"
   ]
  },
  {
   "cell_type": "code",
   "execution_count": 41,
   "id": "9092e8cb",
   "metadata": {},
   "outputs": [
    {
     "data": {
      "text/plain": [
       "array([0, 0, 0, 1, 1, 0, 0, 0, 0, 0, 0, 0, 1, 0, 0, 0, 0, 1, 0, 0, 1, 0,\n",
       "       1, 1, 0, 0, 1, 0, 0, 0, 0, 0, 0, 1, 1, 0, 0, 1, 0, 1, 0, 0, 0, 1,\n",
       "       0, 0, 0, 0, 1, 0, 0, 0, 1, 1, 0, 1, 0, 1, 1, 0, 0, 0, 0, 0, 0, 0,\n",
       "       0, 0, 1, 1, 0, 0, 1, 1, 0, 0, 0, 0, 0, 1, 0, 1, 0, 0, 0, 0, 1, 1,\n",
       "       1, 0, 0, 0, 1, 1, 0, 0, 1, 0, 0, 1, 0, 0, 1, 0, 0, 1, 0, 1, 0, 0,\n",
       "       1, 1, 0, 0, 1, 1, 0, 0, 1, 1, 0, 0, 0, 0, 0, 1, 1, 0, 1, 0, 1, 0,\n",
       "       0, 1, 0, 0, 0, 0, 0, 0, 1, 0, 0, 0, 1, 0, 1, 1, 1, 1, 0, 1, 1, 0,\n",
       "       0, 1, 0, 0, 1, 0, 0, 1, 0, 1, 0, 0, 0, 0, 0, 0, 0, 1, 1, 0, 1, 0,\n",
       "       1, 0, 0, 0, 0, 0, 0, 1, 0, 1, 0, 1, 0, 1, 0, 1, 0, 0, 1, 1, 0, 1,\n",
       "       0, 0, 0, 1, 1, 0, 0, 0, 0, 0, 0, 1, 0, 0, 0, 1, 1, 1, 0, 0, 1, 0,\n",
       "       0, 0, 0, 1, 0, 0, 0, 0, 0, 1, 0, 0, 0, 0, 0, 1, 1, 0, 0, 0, 0, 0,\n",
       "       1, 0, 1, 0, 1, 0, 0, 1, 0, 0, 0, 1, 0, 1, 0, 1, 1, 1, 0, 0, 1, 1,\n",
       "       0, 0, 0, 0, 0, 0, 0, 0, 0, 1, 0, 0, 0, 0, 0, 0, 0, 1, 1, 1, 0, 0,\n",
       "       1, 1, 0, 0, 0, 0, 0, 0, 0, 1, 0, 0, 0, 0, 0, 0, 0, 1, 0, 0, 1, 0,\n",
       "       0, 0, 0, 0, 0, 1, 0, 0, 0, 1, 1, 0, 0, 0, 1, 0, 0, 1, 1, 0, 0, 1,\n",
       "       0, 1, 1, 1, 1, 1, 0, 1, 0, 0, 0, 1, 1, 1, 0, 1, 0, 0, 0, 0, 1, 0,\n",
       "       0, 1, 1, 1, 1, 0, 0, 1, 0, 1, 1, 0, 0, 0, 0, 0, 0, 0, 0, 0, 1, 0,\n",
       "       1, 0, 1, 0, 1, 1, 1, 1, 1, 0, 0, 1, 0, 1, 0, 0, 0, 0, 0, 1, 1, 0,\n",
       "       1, 0, 0, 0, 0, 1, 0, 0, 0, 0, 0, 0, 0, 1, 0, 0, 0, 0, 1, 1, 1, 1,\n",
       "       1, 0, 1, 0, 0, 1, 0, 1, 0, 1, 0, 0, 0, 0, 0, 0, 1, 0, 0, 0, 1, 0,\n",
       "       0, 0, 0, 0, 0, 1, 0, 0, 1, 0, 1, 1, 0, 0, 1, 0, 0, 0, 0, 0, 0, 0,\n",
       "       1, 0, 0, 1, 0, 0, 1, 0, 1, 0, 0, 0, 0, 0, 1, 0, 0, 0, 1, 1, 1, 1,\n",
       "       0, 1, 0, 1, 0, 1, 1, 0, 1, 0, 0, 0, 0, 0])"
      ]
     },
     "execution_count": 41,
     "metadata": {},
     "output_type": "execute_result"
    }
   ],
   "source": [
    "y_pred"
   ]
  },
  {
   "cell_type": "code",
   "execution_count": 42,
   "id": "39836dbc",
   "metadata": {},
   "outputs": [],
   "source": [
    "y_pred_proba = rf.predict_proba(X_train)"
   ]
  },
  {
   "cell_type": "code",
   "execution_count": 43,
   "id": "7c73c05b",
   "metadata": {},
   "outputs": [
    {
     "data": {
      "text/plain": [
       "array([[9.31307798e-01, 6.86922015e-02],\n",
       "       [5.84150183e-01, 4.15849817e-01],\n",
       "       [9.84845238e-01, 1.51547619e-02],\n",
       "       [3.33333333e-03, 9.96666667e-01],\n",
       "       [2.22222222e-03, 9.97777778e-01],\n",
       "       [8.35555556e-01, 1.64444444e-01],\n",
       "       [8.87466749e-01, 1.12533251e-01],\n",
       "       [8.74638752e-01, 1.25361248e-01],\n",
       "       [8.81590383e-01, 1.18409617e-01],\n",
       "       [9.58333333e-01, 4.16666667e-02],\n",
       "       [7.18681485e-01, 2.81318515e-01],\n",
       "       [5.43546124e-01, 4.56453876e-01],\n",
       "       [4.00000000e-02, 9.60000000e-01],\n",
       "       [6.31883009e-01, 3.68116991e-01],\n",
       "       [9.29522304e-01, 7.04776959e-02],\n",
       "       [9.49246229e-01, 5.07537709e-02],\n",
       "       [9.49246229e-01, 5.07537709e-02],\n",
       "       [1.50483405e-02, 9.84951659e-01],\n",
       "       [7.86961261e-01, 2.13038739e-01],\n",
       "       [7.28823593e-01, 2.71176407e-01],\n",
       "       [6.53712121e-02, 9.34628788e-01],\n",
       "       [9.93326456e-01, 6.67354365e-03],\n",
       "       [1.00000000e-02, 9.90000000e-01],\n",
       "       [7.08333333e-02, 9.29166667e-01],\n",
       "       [5.43546124e-01, 4.56453876e-01],\n",
       "       [9.88931263e-01, 1.10687371e-02],\n",
       "       [2.00000000e-02, 9.80000000e-01],\n",
       "       [7.40000000e-01, 2.60000000e-01],\n",
       "       [8.60535683e-01, 1.39464317e-01],\n",
       "       [7.86961261e-01, 2.13038739e-01],\n",
       "       [9.95356101e-01, 4.64389875e-03],\n",
       "       [8.74638752e-01, 1.25361248e-01],\n",
       "       [9.88931263e-01, 1.10687371e-02],\n",
       "       [5.85714286e-02, 9.41428571e-01],\n",
       "       [4.50821123e-02, 9.54917888e-01],\n",
       "       [8.74638752e-01, 1.25361248e-01],\n",
       "       [7.86961261e-01, 2.13038739e-01],\n",
       "       [0.00000000e+00, 1.00000000e+00],\n",
       "       [9.53554304e-01, 4.64456960e-02],\n",
       "       [4.00000000e-02, 9.60000000e-01],\n",
       "       [9.95356101e-01, 4.64389875e-03],\n",
       "       [9.95356101e-01, 4.64389875e-03],\n",
       "       [8.97540793e-01, 1.02459207e-01],\n",
       "       [2.00000000e-02, 9.80000000e-01],\n",
       "       [7.93345476e-01, 2.06654524e-01],\n",
       "       [9.05078755e-01, 9.49212454e-02],\n",
       "       [8.81590383e-01, 1.18409617e-01],\n",
       "       [9.33634048e-01, 6.63659515e-02],\n",
       "       [1.43689981e-01, 8.56310019e-01],\n",
       "       [9.55328755e-01, 4.46712454e-02],\n",
       "       [9.20348033e-01, 7.96519675e-02],\n",
       "       [8.74638752e-01, 1.25361248e-01],\n",
       "       [2.00000000e-02, 9.80000000e-01],\n",
       "       [7.00000000e-02, 9.30000000e-01],\n",
       "       [7.85411880e-01, 2.14588120e-01],\n",
       "       [1.37575758e-02, 9.86242424e-01],\n",
       "       [9.95356101e-01, 4.64389875e-03],\n",
       "       [1.14960900e-01, 8.85039100e-01],\n",
       "       [4.50468254e-01, 5.49531746e-01],\n",
       "       [7.83574379e-01, 2.16425621e-01],\n",
       "       [6.67333333e-01, 3.32666667e-01],\n",
       "       [9.95000000e-01, 5.00000000e-03],\n",
       "       [9.80642857e-01, 1.93571429e-02],\n",
       "       [7.86961261e-01, 2.13038739e-01],\n",
       "       [9.93326456e-01, 6.67354365e-03],\n",
       "       [8.81590383e-01, 1.18409617e-01],\n",
       "       [7.37354978e-01, 2.62645022e-01],\n",
       "       [6.83219780e-01, 3.16780220e-01],\n",
       "       [3.73333333e-01, 6.26666667e-01],\n",
       "       [0.00000000e+00, 1.00000000e+00],\n",
       "       [9.10000000e-01, 9.00000000e-02],\n",
       "       [9.88931263e-01, 1.10687371e-02],\n",
       "       [0.00000000e+00, 1.00000000e+00],\n",
       "       [2.96864436e-01, 7.03135564e-01],\n",
       "       [8.81590383e-01, 1.18409617e-01],\n",
       "       [9.59673455e-01, 4.03265450e-02],\n",
       "       [9.93989946e-01, 6.01005391e-03],\n",
       "       [7.86961261e-01, 2.13038739e-01],\n",
       "       [9.94899037e-01, 5.10096300e-03],\n",
       "       [3.78461310e-01, 6.21538690e-01],\n",
       "       [7.10390630e-01, 2.89609370e-01],\n",
       "       [1.22222222e-02, 9.87777778e-01],\n",
       "       [9.49246229e-01, 5.07537709e-02],\n",
       "       [7.86961261e-01, 2.13038739e-01],\n",
       "       [7.85411880e-01, 2.14588120e-01],\n",
       "       [7.92222222e-01, 2.07777778e-01],\n",
       "       [2.22222222e-03, 9.97777778e-01],\n",
       "       [3.88536103e-01, 6.11463897e-01],\n",
       "       [6.53712121e-02, 9.34628788e-01],\n",
       "       [7.86961261e-01, 2.13038739e-01],\n",
       "       [8.30314860e-01, 1.69685140e-01],\n",
       "       [8.81590383e-01, 1.18409617e-01],\n",
       "       [7.53712121e-02, 9.24628788e-01],\n",
       "       [3.00000000e-02, 9.70000000e-01],\n",
       "       [7.86961261e-01, 2.13038739e-01],\n",
       "       [9.85754652e-01, 1.42453480e-02],\n",
       "       [2.22222222e-03, 9.97777778e-01],\n",
       "       [6.33034566e-01, 3.66965434e-01],\n",
       "       [9.21307798e-01, 7.86922015e-02],\n",
       "       [0.00000000e+00, 1.00000000e+00],\n",
       "       [9.94921319e-01, 5.07868136e-03],\n",
       "       [9.67071429e-01, 3.29285714e-02],\n",
       "       [1.83333333e-01, 8.16666667e-01],\n",
       "       [8.30314860e-01, 1.69685140e-01],\n",
       "       [6.16666667e-01, 3.83333333e-01],\n",
       "       [0.00000000e+00, 1.00000000e+00],\n",
       "       [7.70845238e-01, 2.29154762e-01],\n",
       "       [1.01250000e-01, 8.98750000e-01],\n",
       "       [9.94921319e-01, 5.07868136e-03],\n",
       "       [9.88931263e-01, 1.10687371e-02],\n",
       "       [9.98664700e-02, 9.00133530e-01],\n",
       "       [9.98664700e-02, 9.00133530e-01],\n",
       "       [9.37777778e-01, 6.22222222e-02],\n",
       "       [9.33333333e-01, 6.66666667e-02],\n",
       "       [4.50468254e-01, 5.49531746e-01],\n",
       "       [3.33333333e-03, 9.96666667e-01],\n",
       "       [9.88571429e-01, 1.14285714e-02],\n",
       "       [9.88931263e-01, 1.10687371e-02],\n",
       "       [3.33333333e-02, 9.66666667e-01],\n",
       "       [0.00000000e+00, 1.00000000e+00],\n",
       "       [7.63446609e-01, 2.36553391e-01],\n",
       "       [9.95833333e-01, 4.16666667e-03],\n",
       "       [9.83333333e-01, 1.66666667e-02],\n",
       "       [8.97540793e-01, 1.02459207e-01],\n",
       "       [7.10390630e-01, 2.89609370e-01],\n",
       "       [3.33333333e-03, 9.96666667e-01],\n",
       "       [0.00000000e+00, 1.00000000e+00],\n",
       "       [5.63523810e-01, 4.36476190e-01],\n",
       "       [4.09134921e-01, 5.90865079e-01],\n",
       "       [7.95048008e-01, 2.04951992e-01],\n",
       "       [1.50483405e-02, 9.84951659e-01],\n",
       "       [8.05625237e-01, 1.94374763e-01],\n",
       "       [9.05373404e-01, 9.46265956e-02],\n",
       "       [2.00000000e-02, 9.80000000e-01],\n",
       "       [6.83104916e-01, 3.16895084e-01],\n",
       "       [9.94921319e-01, 5.07868136e-03],\n",
       "       [9.99285714e-01, 7.14285714e-04],\n",
       "       [9.49246229e-01, 5.07537709e-02],\n",
       "       [7.10390630e-01, 2.89609370e-01],\n",
       "       [6.06387164e-01, 3.93612836e-01],\n",
       "       [0.00000000e+00, 1.00000000e+00],\n",
       "       [9.99000000e-01, 1.00000000e-03],\n",
       "       [8.86180509e-01, 1.13819491e-01],\n",
       "       [8.81590383e-01, 1.18409617e-01],\n",
       "       [3.41309524e-01, 6.58690476e-01],\n",
       "       [5.43546124e-01, 4.56453876e-01],\n",
       "       [2.00000000e-02, 9.80000000e-01],\n",
       "       [5.27777778e-03, 9.94722222e-01],\n",
       "       [0.00000000e+00, 1.00000000e+00],\n",
       "       [0.00000000e+00, 1.00000000e+00],\n",
       "       [9.95000000e-01, 5.00000000e-03],\n",
       "       [0.00000000e+00, 1.00000000e+00],\n",
       "       [2.35000000e-01, 7.65000000e-01],\n",
       "       [8.86890329e-01, 1.13109671e-01],\n",
       "       [7.83446609e-01, 2.16553391e-01],\n",
       "       [5.85714286e-02, 9.41428571e-01],\n",
       "       [9.95754652e-01, 4.24534803e-03],\n",
       "       [9.36661374e-01, 6.33386255e-02],\n",
       "       [9.00000000e-02, 9.10000000e-01],\n",
       "       [6.31106457e-01, 3.68893543e-01],\n",
       "       [9.01307798e-01, 9.86922015e-02],\n",
       "       [1.14960900e-01, 8.85039100e-01],\n",
       "       [9.88666071e-01, 1.13339286e-02],\n",
       "       [3.38204545e-01, 6.61795455e-01],\n",
       "       [9.61249315e-01, 3.87506855e-02],\n",
       "       [9.74250000e-01, 2.57500000e-02],\n",
       "       [9.55559524e-01, 4.44404762e-02],\n",
       "       [9.88931263e-01, 1.10687371e-02],\n",
       "       [9.88666071e-01, 1.13339286e-02],\n",
       "       [9.49246229e-01, 5.07537709e-02],\n",
       "       [9.91188645e-01, 8.81135531e-03],\n",
       "       [1.80000000e-02, 9.82000000e-01],\n",
       "       [9.00000000e-02, 9.10000000e-01],\n",
       "       [9.18257576e-01, 8.17424242e-02],\n",
       "       [4.96002763e-01, 5.03997237e-01],\n",
       "       [8.50535683e-01, 1.49464317e-01],\n",
       "       [4.33766234e-02, 9.56623377e-01],\n",
       "       [7.37354978e-01, 2.62645022e-01],\n",
       "       [6.22274642e-01, 3.77725358e-01],\n",
       "       [5.43546124e-01, 4.56453876e-01],\n",
       "       [8.86890329e-01, 1.13109671e-01],\n",
       "       [9.88931263e-01, 1.10687371e-02],\n",
       "       [9.49246229e-01, 5.07537709e-02],\n",
       "       [0.00000000e+00, 1.00000000e+00],\n",
       "       [9.88931263e-01, 1.10687371e-02],\n",
       "       [4.36590909e-02, 9.56340909e-01],\n",
       "       [9.88666071e-01, 1.13339286e-02],\n",
       "       [0.00000000e+00, 1.00000000e+00],\n",
       "       [8.42916667e-01, 1.57083333e-01],\n",
       "       [4.11563492e-01, 5.88436508e-01],\n",
       "       [9.30000000e-01, 7.00000000e-02],\n",
       "       [0.00000000e+00, 1.00000000e+00],\n",
       "       [9.49246229e-01, 5.07537709e-02],\n",
       "       [7.86961261e-01, 2.13038739e-01],\n",
       "       [3.00000000e-02, 9.70000000e-01],\n",
       "       [1.43689981e-01, 8.56310019e-01],\n",
       "       [9.30000000e-01, 7.00000000e-02],\n",
       "       [3.90469697e-01, 6.09530303e-01],\n",
       "       [9.93326456e-01, 6.67354365e-03],\n",
       "       [8.86890329e-01, 1.13109671e-01],\n",
       "       [9.88571429e-01, 1.14285714e-02],\n",
       "       [2.22222222e-03, 9.97777778e-01],\n",
       "       [1.22222222e-02, 9.87777778e-01],\n",
       "       [9.74416667e-01, 2.55833333e-02],\n",
       "       [5.84150183e-01, 4.15849817e-01],\n",
       "       [9.49246229e-01, 5.07537709e-02],\n",
       "       [9.30000000e-01, 7.00000000e-02],\n",
       "       [9.93333333e-01, 6.66666667e-03],\n",
       "       [9.49246229e-01, 5.07537709e-02],\n",
       "       [6.00000000e-02, 9.40000000e-01],\n",
       "       [9.01039683e-01, 9.89603175e-02],\n",
       "       [9.88931263e-01, 1.10687371e-02],\n",
       "       [7.37354978e-01, 2.62645022e-01],\n",
       "       [1.88866023e-01, 8.11133977e-01],\n",
       "       [2.00000000e-02, 9.80000000e-01],\n",
       "       [8.98664700e-02, 9.10133530e-01],\n",
       "       [9.93326456e-01, 6.67354365e-03],\n",
       "       [8.81590383e-01, 1.18409617e-01],\n",
       "       [3.33333333e-03, 9.96666667e-01],\n",
       "       [9.95356101e-01, 4.64389875e-03],\n",
       "       [9.28333333e-01, 7.16666667e-02],\n",
       "       [9.49246229e-01, 5.07537709e-02],\n",
       "       [9.88931263e-01, 1.10687371e-02],\n",
       "       [1.00000000e-02, 9.90000000e-01],\n",
       "       [1.00000000e+00, 0.00000000e+00],\n",
       "       [8.30314860e-01, 1.69685140e-01],\n",
       "       [9.66268116e-01, 3.37318841e-02],\n",
       "       [6.31106457e-01, 3.68893543e-01],\n",
       "       [8.86890329e-01, 1.13109671e-01],\n",
       "       [5.85714286e-02, 9.41428571e-01],\n",
       "       [9.37751951e-01, 6.22480493e-02],\n",
       "       [7.85411880e-01, 2.14588120e-01],\n",
       "       [9.88931263e-01, 1.10687371e-02],\n",
       "       [9.73049570e-01, 2.69504299e-02],\n",
       "       [8.86890329e-01, 1.13109671e-01],\n",
       "       [0.00000000e+00, 1.00000000e+00],\n",
       "       [2.75020063e-01, 7.24979937e-01],\n",
       "       [9.80642857e-01, 1.93571429e-02],\n",
       "       [9.77500000e-01, 2.25000000e-02],\n",
       "       [9.75373404e-01, 2.46265956e-02],\n",
       "       [9.49246229e-01, 5.07537709e-02],\n",
       "       [9.31039683e-01, 6.89603175e-02],\n",
       "       [0.00000000e+00, 1.00000000e+00],\n",
       "       [7.86961261e-01, 2.13038739e-01],\n",
       "       [4.00000000e-02, 9.60000000e-01],\n",
       "       [9.95833333e-01, 4.16666667e-03],\n",
       "       [0.00000000e+00, 1.00000000e+00],\n",
       "       [9.95833333e-01, 4.16666667e-03],\n",
       "       [5.59432111e-01, 4.40567889e-01],\n",
       "       [0.00000000e+00, 1.00000000e+00],\n",
       "       [9.33328090e-01, 6.66719096e-02],\n",
       "       [7.10390630e-01, 2.89609370e-01],\n",
       "       [9.49246229e-01, 5.07537709e-02],\n",
       "       [1.54347826e-02, 9.84565217e-01],\n",
       "       [9.73662088e-01, 2.63379121e-02],\n",
       "       [6.09004329e-02, 9.39099567e-01],\n",
       "       [6.14345238e-01, 3.85654762e-01],\n",
       "       [0.00000000e+00, 1.00000000e+00],\n",
       "       [1.00000000e-02, 9.90000000e-01],\n",
       "       [4.30345987e-01, 5.69654013e-01],\n",
       "       [7.86961261e-01, 2.13038739e-01],\n",
       "       [9.94921319e-01, 5.07868136e-03],\n",
       "       [1.43689981e-01, 8.56310019e-01],\n",
       "       [0.00000000e+00, 1.00000000e+00],\n",
       "       [9.49246229e-01, 5.07537709e-02],\n",
       "       [9.77500000e-01, 2.25000000e-02],\n",
       "       [9.71783217e-01, 2.82167832e-02],\n",
       "       [6.22274642e-01, 3.77725358e-01],\n",
       "       [9.95754652e-01, 4.24534803e-03],\n",
       "       [7.95048008e-01, 2.04951992e-01],\n",
       "       [9.49211310e-01, 5.07886905e-02],\n",
       "       [9.47071429e-01, 5.29285714e-02],\n",
       "       [9.88931263e-01, 1.10687371e-02],\n",
       "       [1.00000000e-02, 9.90000000e-01],\n",
       "       [9.58333333e-01, 4.16666667e-02],\n",
       "       [6.22274642e-01, 3.77725358e-01],\n",
       "       [9.95754652e-01, 4.24534803e-03],\n",
       "       [9.49246229e-01, 5.07537709e-02],\n",
       "       [9.49246229e-01, 5.07537709e-02],\n",
       "       [9.49246229e-01, 5.07537709e-02],\n",
       "       [9.49246229e-01, 5.07537709e-02],\n",
       "       [2.22222222e-03, 9.97777778e-01],\n",
       "       [1.43689981e-01, 8.56310019e-01],\n",
       "       [1.43689981e-01, 8.56310019e-01],\n",
       "       [9.72069178e-01, 2.79308220e-02],\n",
       "       [9.59673455e-01, 4.03265450e-02],\n",
       "       [0.00000000e+00, 1.00000000e+00],\n",
       "       [4.96002763e-01, 5.03997237e-01],\n",
       "       [9.79000000e-01, 2.10000000e-02],\n",
       "       [9.88931263e-01, 1.10687371e-02],\n",
       "       [8.05712562e-01, 1.94287438e-01],\n",
       "       [9.88666071e-01, 1.13339286e-02],\n",
       "       [9.49246229e-01, 5.07537709e-02],\n",
       "       [9.88931263e-01, 1.10687371e-02],\n",
       "       [9.93333333e-01, 6.66666667e-03],\n",
       "       [2.08157963e-01, 7.91842037e-01],\n",
       "       [9.82163989e-01, 1.78360106e-02],\n",
       "       [9.36661374e-01, 6.33386255e-02],\n",
       "       [9.61783217e-01, 3.82167832e-02],\n",
       "       [9.02268047e-01, 9.77319525e-02],\n",
       "       [8.30314860e-01, 1.69685140e-01],\n",
       "       [9.95356101e-01, 4.64389875e-03],\n",
       "       [9.61249315e-01, 3.87506855e-02],\n",
       "       [1.43689981e-01, 8.56310019e-01],\n",
       "       [9.49246229e-01, 5.07537709e-02],\n",
       "       [5.43546124e-01, 4.56453876e-01],\n",
       "       [2.06666667e-01, 7.93333333e-01],\n",
       "       [9.88931263e-01, 1.10687371e-02],\n",
       "       [7.86961261e-01, 2.13038739e-01],\n",
       "       [9.98333333e-01, 1.66666667e-03],\n",
       "       [7.86961261e-01, 2.13038739e-01],\n",
       "       [9.59211310e-01, 4.07886905e-02],\n",
       "       [8.81590383e-01, 1.18409617e-01],\n",
       "       [5.36590909e-02, 9.46340909e-01],\n",
       "       [9.05373404e-01, 9.46265956e-02],\n",
       "       [9.98333333e-01, 1.66666667e-03],\n",
       "       [9.88931263e-01, 1.10687371e-02],\n",
       "       [0.00000000e+00, 1.00000000e+00],\n",
       "       [3.81447770e-01, 6.18552230e-01],\n",
       "       [9.80642857e-01, 1.93571429e-02],\n",
       "       [9.52123404e-01, 4.78765956e-02],\n",
       "       [8.86890329e-01, 1.13109671e-01],\n",
       "       [5.33333333e-02, 9.46666667e-01],\n",
       "       [6.63947770e-01, 3.36052230e-01],\n",
       "       [7.37354978e-01, 2.62645022e-01],\n",
       "       [1.54347826e-02, 9.84565217e-01],\n",
       "       [4.00833333e-01, 5.99166667e-01],\n",
       "       [7.10390630e-01, 2.89609370e-01],\n",
       "       [5.43546124e-01, 4.56453876e-01],\n",
       "       [1.14960900e-01, 8.85039100e-01],\n",
       "       [9.94899037e-01, 5.10096300e-03],\n",
       "       [1.01250000e-01, 8.98750000e-01],\n",
       "       [1.43689981e-01, 8.56310019e-01],\n",
       "       [1.64023810e-01, 8.35976190e-01],\n",
       "       [1.54347826e-02, 9.84565217e-01],\n",
       "       [1.50483405e-02, 9.84951659e-01],\n",
       "       [9.48794643e-01, 5.12053571e-02],\n",
       "       [2.48333333e-01, 7.51666667e-01],\n",
       "       [8.74638752e-01, 1.25361248e-01],\n",
       "       [8.81590383e-01, 1.18409617e-01],\n",
       "       [8.74638752e-01, 1.25361248e-01],\n",
       "       [5.84015152e-02, 9.41598485e-01],\n",
       "       [1.43689981e-01, 8.56310019e-01],\n",
       "       [2.08157963e-01, 7.91842037e-01],\n",
       "       [9.74416667e-01, 2.55833333e-02],\n",
       "       [9.01428571e-02, 9.09857143e-01],\n",
       "       [9.59673455e-01, 4.03265450e-02],\n",
       "       [8.86180509e-01, 1.13819491e-01],\n",
       "       [6.90900433e-01, 3.09099567e-01],\n",
       "       [5.43546124e-01, 4.56453876e-01],\n",
       "       [0.00000000e+00, 1.00000000e+00],\n",
       "       [7.32652315e-01, 2.67347685e-01],\n",
       "       [6.83219780e-01, 3.16780220e-01],\n",
       "       [2.52000000e-01, 7.48000000e-01],\n",
       "       [0.00000000e+00, 1.00000000e+00],\n",
       "       [1.00000000e-02, 9.90000000e-01],\n",
       "       [0.00000000e+00, 1.00000000e+00],\n",
       "       [8.40282738e-01, 1.59717262e-01],\n",
       "       [9.98333333e-01, 1.66666667e-03],\n",
       "       [3.10000000e-01, 6.90000000e-01],\n",
       "       [9.01039683e-01, 9.89603175e-02],\n",
       "       [1.88866023e-01, 8.11133977e-01],\n",
       "       [3.16666667e-02, 9.68333333e-01],\n",
       "       [7.88722222e-01, 2.11277778e-01],\n",
       "       [9.99285714e-01, 7.14285714e-04],\n",
       "       [7.53523810e-01, 2.46476190e-01],\n",
       "       [7.86961261e-01, 2.13038739e-01],\n",
       "       [6.83219780e-01, 3.16780220e-01],\n",
       "       [9.84845238e-01, 1.51547619e-02],\n",
       "       [7.29166667e-01, 2.70833333e-01],\n",
       "       [7.86961261e-01, 2.13038739e-01],\n",
       "       [9.71614913e-01, 2.83850871e-02],\n",
       "       [2.38023810e-01, 7.61976190e-01],\n",
       "       [9.20900433e-01, 7.90995671e-02],\n",
       "       [1.88333333e-01, 8.11666667e-01],\n",
       "       [9.52539683e-01, 4.74603175e-02],\n",
       "       [1.00000000e-02, 9.90000000e-01],\n",
       "       [6.33333333e-01, 3.66666667e-01],\n",
       "       [1.80000000e-02, 9.82000000e-01],\n",
       "       [3.76826507e-01, 6.23173493e-01],\n",
       "       [3.00000000e-01, 7.00000000e-01],\n",
       "       [2.89126984e-02, 9.71087302e-01],\n",
       "       [0.00000000e+00, 1.00000000e+00],\n",
       "       [8.88512111e-01, 1.11487889e-01],\n",
       "       [8.85434783e-01, 1.14565217e-01],\n",
       "       [6.87594113e-02, 9.31240589e-01],\n",
       "       [7.37354978e-01, 2.62645022e-01],\n",
       "       [4.76142857e-01, 5.23857143e-01],\n",
       "       [6.50000000e-01, 3.50000000e-01],\n",
       "       [8.74638752e-01, 1.25361248e-01],\n",
       "       [7.37354978e-01, 2.62645022e-01],\n",
       "       [7.86961261e-01, 2.13038739e-01],\n",
       "       [7.10390630e-01, 2.89609370e-01],\n",
       "       [1.14960900e-01, 8.85039100e-01],\n",
       "       [1.42523810e-01, 8.57476190e-01],\n",
       "       [9.52539683e-01, 4.74603175e-02],\n",
       "       [0.00000000e+00, 1.00000000e+00],\n",
       "       [9.95356101e-01, 4.64389875e-03],\n",
       "       [7.37354978e-01, 2.62645022e-01],\n",
       "       [5.69148268e-01, 4.30851732e-01],\n",
       "       [9.95356101e-01, 4.64389875e-03],\n",
       "       [3.41071429e-02, 9.65892857e-01],\n",
       "       [9.80328755e-01, 1.96712454e-02],\n",
       "       [9.80000000e-01, 2.00000000e-02],\n",
       "       [8.74638752e-01, 1.25361248e-01],\n",
       "       [8.86890329e-01, 1.13109671e-01],\n",
       "       [9.91188645e-01, 8.81135531e-03],\n",
       "       [8.10619880e-01, 1.89380120e-01],\n",
       "       [9.77500000e-01, 2.25000000e-02],\n",
       "       [4.03853397e-01, 5.96146603e-01],\n",
       "       [5.43546124e-01, 4.56453876e-01],\n",
       "       [1.00000000e+00, 0.00000000e+00],\n",
       "       [9.90328755e-01, 9.67124542e-03],\n",
       "       [1.00000000e+00, 0.00000000e+00],\n",
       "       [0.00000000e+00, 1.00000000e+00],\n",
       "       [1.14960900e-01, 8.85039100e-01],\n",
       "       [0.00000000e+00, 1.00000000e+00],\n",
       "       [4.76142857e-01, 5.23857143e-01],\n",
       "       [0.00000000e+00, 1.00000000e+00],\n",
       "       [8.46434714e-01, 1.53565286e-01],\n",
       "       [3.38301083e-01, 6.61698917e-01],\n",
       "       [9.94921319e-01, 5.07868136e-03],\n",
       "       [9.95000000e-01, 5.00000000e-03],\n",
       "       [4.00000000e-02, 9.60000000e-01],\n",
       "       [9.73662088e-01, 2.63379121e-02],\n",
       "       [2.77777778e-03, 9.97222222e-01],\n",
       "       [7.94373016e-01, 2.05626984e-01],\n",
       "       [0.00000000e+00, 1.00000000e+00],\n",
       "       [7.83574379e-01, 2.16425621e-01],\n",
       "       [9.28333333e-01, 7.16666667e-02],\n",
       "       [9.88931263e-01, 1.10687371e-02],\n",
       "       [8.70833333e-01, 1.29166667e-01],\n",
       "       [9.33333333e-01, 6.66666667e-02],\n",
       "       [8.74638752e-01, 1.25361248e-01],\n",
       "       [2.77261905e-01, 7.22738095e-01],\n",
       "       [7.86961261e-01, 2.13038739e-01],\n",
       "       [6.67261905e-01, 3.32738095e-01],\n",
       "       [8.30314860e-01, 1.69685140e-01],\n",
       "       [0.00000000e+00, 1.00000000e+00],\n",
       "       [9.49246229e-01, 5.07537709e-02],\n",
       "       [9.88931263e-01, 1.10687371e-02],\n",
       "       [9.42539683e-01, 5.74603175e-02],\n",
       "       [8.05625237e-01, 1.94374763e-01],\n",
       "       [7.86961261e-01, 2.13038739e-01],\n",
       "       [9.94921319e-01, 5.07868136e-03],\n",
       "       [1.76476190e-01, 8.23523810e-01],\n",
       "       [9.48794643e-01, 5.12053571e-02],\n",
       "       [9.88571429e-01, 1.14285714e-02],\n",
       "       [3.25197770e-01, 6.74802230e-01],\n",
       "       [9.98000000e-01, 2.00000000e-03],\n",
       "       [1.54347826e-02, 9.84565217e-01],\n",
       "       [5.00000000e-02, 9.50000000e-01],\n",
       "       [9.95833333e-01, 4.16666667e-03],\n",
       "       [9.88666071e-01, 1.13339286e-02],\n",
       "       [9.01428571e-02, 9.09857143e-01],\n",
       "       [5.43546124e-01, 4.56453876e-01],\n",
       "       [9.10000000e-01, 9.00000000e-02],\n",
       "       [9.21277778e-01, 7.87222222e-02],\n",
       "       [9.78000000e-01, 2.20000000e-02],\n",
       "       [7.86961261e-01, 2.13038739e-01],\n",
       "       [7.03556548e-01, 2.96443452e-01],\n",
       "       [9.93326456e-01, 6.67354365e-03],\n",
       "       [1.14960900e-01, 8.85039100e-01],\n",
       "       [9.00190476e-01, 9.98095238e-02],\n",
       "       [6.29204545e-01, 3.70795455e-01],\n",
       "       [1.00000000e-02, 9.90000000e-01],\n",
       "       [5.63523810e-01, 4.36476190e-01],\n",
       "       [9.73049570e-01, 2.69504299e-02],\n",
       "       [3.81904762e-01, 6.18095238e-01],\n",
       "       [7.83574379e-01, 2.16425621e-01],\n",
       "       [1.14960900e-01, 8.85039100e-01],\n",
       "       [7.74636364e-01, 2.25363636e-01],\n",
       "       [8.92268047e-01, 1.07731953e-01],\n",
       "       [7.85411880e-01, 2.14588120e-01],\n",
       "       [9.25919691e-01, 7.40803086e-02],\n",
       "       [7.37354978e-01, 2.62645022e-01],\n",
       "       [6.24054834e-02, 9.37594517e-01],\n",
       "       [9.84845238e-01, 1.51547619e-02],\n",
       "       [8.95500000e-01, 1.04500000e-01],\n",
       "       [9.88931263e-01, 1.10687371e-02],\n",
       "       [2.06625259e-01, 7.93374741e-01],\n",
       "       [0.00000000e+00, 1.00000000e+00],\n",
       "       [2.07220497e-01, 7.92779503e-01],\n",
       "       [1.37575758e-02, 9.86242424e-01],\n",
       "       [9.49246229e-01, 5.07537709e-02],\n",
       "       [2.96071429e-01, 7.03928571e-01],\n",
       "       [7.83574379e-01, 2.16425621e-01],\n",
       "       [1.28500000e-01, 8.71500000e-01],\n",
       "       [9.49246229e-01, 5.07537709e-02],\n",
       "       [4.03853397e-01, 5.96146603e-01],\n",
       "       [1.00000000e-02, 9.90000000e-01],\n",
       "       [9.91188645e-01, 8.81135531e-03],\n",
       "       [1.37575758e-02, 9.86242424e-01],\n",
       "       [9.88931263e-01, 1.10687371e-02],\n",
       "       [8.05625237e-01, 1.94374763e-01],\n",
       "       [9.49246229e-01, 5.07537709e-02],\n",
       "       [9.52123404e-01, 4.78765956e-02],\n",
       "       [8.05625237e-01, 1.94374763e-01]])"
      ]
     },
     "execution_count": 43,
     "metadata": {},
     "output_type": "execute_result"
    }
   ],
   "source": [
    "y_pred_proba"
   ]
  },
  {
   "cell_type": "code",
   "execution_count": 44,
   "id": "fc17f8f5",
   "metadata": {},
   "outputs": [
    {
     "name": "stdout",
     "output_type": "stream",
     "text": [
      "Accuracy of random forest classifier on training set: 0.94\n"
     ]
    }
   ],
   "source": [
    "print('Accuracy of random forest classifier on training set: {:.2f}'\n",
    "     .format(rf.score(X_train, y_train)))"
   ]
  },
  {
   "cell_type": "code",
   "execution_count": 45,
   "id": "0a0acbda",
   "metadata": {},
   "outputs": [
    {
     "name": "stdout",
     "output_type": "stream",
     "text": [
      "[[301   6]\n",
      " [ 26 165]]\n"
     ]
    }
   ],
   "source": [
    "print(confusion_matrix(y_train, y_pred))"
   ]
  },
  {
   "cell_type": "code",
   "execution_count": 46,
   "id": "4f0904dd",
   "metadata": {},
   "outputs": [
    {
     "data": {
      "text/plain": [
       "0.7757009345794392"
      ]
     },
     "execution_count": 46,
     "metadata": {},
     "output_type": "execute_result"
    }
   ],
   "source": [
    "#using model score\n",
    "rf.score(X_validate,y_validate)"
   ]
  },
  {
   "cell_type": "code",
   "execution_count": 47,
   "id": "f45908e8",
   "metadata": {},
   "outputs": [
    {
     "name": "stdout",
     "output_type": "stream",
     "text": [
      "              precision    recall  f1-score   support\n",
      "\n",
      "           0       0.92      0.98      0.95       307\n",
      "           1       0.96      0.86      0.91       191\n",
      "\n",
      "    accuracy                           0.94       498\n",
      "   macro avg       0.94      0.92      0.93       498\n",
      "weighted avg       0.94      0.94      0.93       498\n",
      "\n"
     ]
    }
   ],
   "source": [
    "print(classification_report(y_train, y_pred))"
   ]
  },
  {
   "cell_type": "markdown",
   "id": "98f3ea5f",
   "metadata": {},
   "source": [
    "Print and clearly label the following: Accuracy, true positive rate, false positive rate, true negative rate, false negative rate, precision, recall, f1-score, and support."
   ]
  },
  {
   "cell_type": "code",
   "execution_count": 48,
   "id": "d151536a",
   "metadata": {},
   "outputs": [
    {
     "name": "stdout",
     "output_type": "stream",
     "text": [
      "accuracy score is 0.9357429718875502\n",
      "true positive rate is 0.26706827309236947\n",
      "true negative rate is 0.5321285140562249\n",
      "false positive rate is 0.11646586345381527\n",
      "false negative rate is 0.08433734939759036\n",
      "recall score is 0.8638743455497382\n",
      "precision score is 0.9649122807017544\n",
      "f1 score is 0.9116022099447514\n"
     ]
    }
   ],
   "source": [
    "print(f'accuracy score is {accuracy_score(y_train, y_pred)}')\n",
    "print(f'true positive rate is {tp / (tn + tp+fn+fp)}')\n",
    "print(f'true negative rate is {tn / (tn + tp+fn+fp)}')\n",
    "print(f'false positive rate is {fp / (tn + tp+fn+fp)}')\n",
    "print(f'false negative rate is {fn / (tn + tp+fn+fp)}')\n",
    "print(f'recall score is {metrics.recall_score(y_train, y_pred)}')\n",
    "print(f'precision score is {metrics.precision_score(y_train, y_pred)}')\n",
    "print(f'f1 score is {metrics.f1_score(y_train, y_pred)}')"
   ]
  },
  {
   "cell_type": "code",
   "execution_count": null,
   "id": "554808e5",
   "metadata": {},
   "outputs": [],
   "source": []
  },
  {
   "cell_type": "markdown",
   "id": "f11e96e7",
   "metadata": {},
   "source": [
    "Run through steps increasing your min_samples_leaf and decreasing your max_depth.\n",
    "\n"
   ]
  },
  {
   "cell_type": "code",
   "execution_count": 49,
   "id": "b51a639a",
   "metadata": {},
   "outputs": [
    {
     "name": "stdout",
     "output_type": "stream",
     "text": [
      "Tree with max depth of 2\n",
      "min_samples_leaf 1\n",
      "                    0           1  accuracy   macro avg  weighted avg\n",
      "precision    0.800000    0.797386  0.799197    0.798693      0.798997\n",
      "recall       0.899023    0.638743  0.799197    0.768883      0.799197\n",
      "f1-score     0.846626    0.709302  0.799197    0.777964      0.793958\n",
      "support    307.000000  191.000000  0.799197  498.000000    498.000000\n",
      "\n",
      "Tree with max depth of 3\n",
      "min_samples_leaf 2\n",
      "                    0           1  accuracy   macro avg  weighted avg\n",
      "precision    0.796196    0.892308  0.821285    0.844252      0.833058\n",
      "recall       0.954397    0.607330  0.821285    0.780864      0.821285\n",
      "f1-score     0.868148    0.722741  0.821285    0.795445      0.812380\n",
      "support    307.000000  191.000000  0.821285  498.000000    498.000000\n",
      "\n",
      "Tree with max depth of 4\n",
      "min_samples_leaf 3\n",
      "                    0           1  accuracy   macro avg  weighted avg\n",
      "precision    0.792453    0.897638  0.819277    0.845045      0.832795\n",
      "recall       0.957655    0.596859  0.819277    0.777257      0.819277\n",
      "f1-score     0.867257    0.716981  0.819277    0.792119      0.809621\n",
      "support    307.000000  191.000000  0.819277  498.000000    498.000000\n",
      "\n",
      "Tree with max depth of 5\n",
      "min_samples_leaf 4\n",
      "                    0           1  accuracy   macro avg  weighted avg\n",
      "precision    0.815427    0.918519  0.843373    0.866973      0.854966\n",
      "recall       0.964169    0.649215  0.843373    0.806692      0.843373\n",
      "f1-score     0.883582    0.760736  0.843373    0.822159      0.836466\n",
      "support    307.000000  191.000000  0.843373  498.000000    498.000000\n",
      "\n",
      "Tree with max depth of 6\n",
      "min_samples_leaf 5\n",
      "                    0           1  accuracy   macro avg  weighted avg\n",
      "precision    0.811475    0.924242  0.841365    0.867859      0.854725\n",
      "recall       0.967427    0.638743  0.841365    0.803085      0.841365\n",
      "f1-score     0.882615    0.755418  0.841365    0.819017      0.833831\n",
      "support    307.000000  191.000000  0.841365  498.000000    498.000000\n",
      "\n",
      "Tree with max depth of 7\n",
      "min_samples_leaf 6\n",
      "                    0           1  accuracy   macro avg  weighted avg\n",
      "precision    0.810585    0.884892  0.831325    0.847739      0.839084\n",
      "recall       0.947883    0.643979  0.831325    0.795931      0.831325\n",
      "f1-score     0.873874    0.745455  0.831325    0.809664      0.824621\n",
      "support    307.000000  191.000000  0.831325  498.000000    498.000000\n",
      "\n",
      "Tree with max depth of 8\n",
      "min_samples_leaf 7\n",
      "                    0           1  accuracy   macro avg  weighted avg\n",
      "precision    0.808333    0.884058  0.829317    0.846196      0.837376\n",
      "recall       0.947883    0.638743  0.829317    0.793313      0.829317\n",
      "f1-score     0.872564    0.741641  0.829317    0.807103      0.822351\n",
      "support    307.000000  191.000000  0.829317  498.000000    498.000000\n",
      "\n",
      "Tree with max depth of 9\n",
      "min_samples_leaf 8\n",
      "                    0           1  accuracy   macro avg  weighted avg\n",
      "precision    0.805479    0.902256  0.831325    0.853868      0.842596\n",
      "recall       0.957655    0.628272  0.831325    0.792963      0.831325\n",
      "f1-score     0.875000    0.740741  0.831325    0.807870      0.823507\n",
      "support    307.000000  191.000000  0.831325  498.000000    498.000000\n",
      "\n",
      "Tree with max depth of 10\n",
      "min_samples_leaf 9\n",
      "                    0           1  accuracy   macro avg  weighted avg\n",
      "precision    0.792453    0.897638  0.819277    0.845045      0.832795\n",
      "recall       0.957655    0.596859  0.819277    0.777257      0.819277\n",
      "f1-score     0.867257    0.716981  0.819277    0.792119      0.809621\n",
      "support    307.000000  191.000000  0.819277  498.000000    498.000000\n",
      "\n"
     ]
    }
   ],
   "source": [
    "for i in range(2, 11):\n",
    "    # Make the model\n",
    "    tree = RandomForestClassifier(max_depth=i, min_samples_leaf = i, random_state=123)\n",
    "\n",
    "    # Fit the model (on train and only train)\n",
    "    tree = tree.fit(X_train, y_train)\n",
    "\n",
    "    # Use the model\n",
    "    # We'll evaluate the model's performance on train, first\n",
    "    y_predictions = tree.predict(X_train)\n",
    "\n",
    "    # Produce the classification report on the actual y values and this model's predicted y values\n",
    "    report = classification_report(y_train, y_predictions, output_dict=True)\n",
    "    print(f\"Tree with max depth of {i}\")\n",
    "    print(f\"min_samples_leaf {i-1}\")\n",
    "    print(pd.DataFrame(report))\n",
    "    print()"
   ]
  },
  {
   "cell_type": "markdown",
   "id": "d49e1981",
   "metadata": {},
   "source": [
    "Fit a K-Nearest Neighbors classifier to your training sample and transform (i.e. make predictions on the training sample)"
   ]
  },
  {
   "cell_type": "code",
   "execution_count": 50,
   "id": "9e89c347",
   "metadata": {},
   "outputs": [],
   "source": [
    "from sklearn.neighbors import KNeighborsClassifier\n",
    "from sklearn.preprocessing import MinMaxScaler, minmax_scale"
   ]
  },
  {
   "cell_type": "code",
   "execution_count": 51,
   "id": "4fb04aa5",
   "metadata": {},
   "outputs": [
    {
     "data": {
      "text/plain": [
       "KNeighborsClassifier(n_neighbors=4)"
      ]
     },
     "execution_count": 51,
     "metadata": {},
     "output_type": "execute_result"
    }
   ],
   "source": [
    "knn = KNeighborsClassifier(n_neighbors = 4)\n",
    "knn.fit(X_train, y_train)"
   ]
  },
  {
   "cell_type": "code",
   "execution_count": 52,
   "id": "1401932d",
   "metadata": {},
   "outputs": [],
   "source": [
    "y_pred = knn.predict(X_train)"
   ]
  },
  {
   "cell_type": "code",
   "execution_count": 53,
   "id": "14af5342",
   "metadata": {},
   "outputs": [
    {
     "data": {
      "text/plain": [
       "array([0, 0, 0, 1, 1, 0, 0, 0, 0, 0, 0, 0, 1, 0, 0, 0, 0, 1, 0, 0, 1, 0,\n",
       "       1, 0, 0, 0, 1, 0, 0, 0, 0, 0, 0, 1, 1, 0, 0, 1, 0, 1, 0, 0, 0, 0,\n",
       "       0, 0, 0, 0, 1, 0, 0, 0, 1, 0, 0, 1, 0, 1, 1, 0, 0, 0, 0, 0, 0, 0,\n",
       "       0, 0, 0, 1, 0, 0, 1, 0, 0, 0, 0, 0, 0, 0, 0, 1, 0, 0, 0, 0, 1, 0,\n",
       "       1, 0, 0, 0, 1, 0, 0, 0, 1, 0, 0, 1, 0, 0, 1, 0, 0, 1, 0, 1, 0, 0,\n",
       "       1, 1, 0, 0, 1, 1, 0, 0, 0, 1, 0, 0, 1, 0, 0, 1, 1, 1, 0, 0, 1, 0,\n",
       "       0, 1, 0, 0, 0, 0, 0, 0, 1, 0, 0, 0, 1, 0, 0, 1, 1, 0, 0, 0, 0, 0,\n",
       "       0, 1, 0, 0, 1, 0, 0, 1, 0, 0, 0, 0, 0, 0, 0, 0, 0, 1, 1, 0, 0, 0,\n",
       "       1, 0, 0, 0, 0, 0, 0, 1, 0, 1, 0, 1, 0, 0, 0, 1, 0, 0, 0, 1, 0, 0,\n",
       "       0, 0, 0, 1, 1, 0, 0, 0, 0, 0, 0, 1, 0, 0, 0, 1, 1, 1, 0, 0, 1, 0,\n",
       "       0, 0, 0, 1, 0, 0, 0, 0, 0, 1, 0, 0, 0, 0, 0, 1, 1, 0, 0, 0, 0, 0,\n",
       "       1, 0, 1, 0, 1, 0, 0, 1, 0, 0, 0, 1, 0, 0, 1, 1, 1, 0, 0, 0, 1, 1,\n",
       "       0, 0, 0, 0, 0, 0, 0, 1, 0, 1, 0, 0, 0, 0, 0, 0, 0, 0, 1, 1, 0, 0,\n",
       "       1, 0, 0, 0, 0, 0, 0, 0, 0, 0, 0, 0, 0, 0, 0, 0, 0, 1, 0, 0, 0, 0,\n",
       "       0, 0, 0, 0, 0, 1, 0, 0, 0, 1, 0, 0, 0, 0, 1, 1, 0, 1, 0, 0, 0, 1,\n",
       "       0, 1, 1, 1, 1, 1, 0, 1, 0, 0, 0, 1, 1, 0, 0, 0, 0, 0, 1, 0, 1, 0,\n",
       "       0, 0, 1, 1, 1, 0, 0, 1, 0, 1, 0, 0, 0, 0, 0, 0, 0, 0, 0, 0, 0, 0,\n",
       "       1, 0, 1, 0, 1, 0, 0, 1, 1, 0, 0, 1, 0, 1, 1, 0, 0, 0, 0, 1, 1, 0,\n",
       "       1, 0, 0, 0, 0, 1, 0, 1, 0, 0, 0, 0, 0, 1, 0, 0, 0, 0, 1, 1, 1, 1,\n",
       "       1, 0, 1, 0, 0, 1, 0, 1, 0, 1, 0, 0, 0, 0, 0, 0, 1, 0, 1, 0, 1, 0,\n",
       "       0, 0, 0, 0, 0, 0, 0, 0, 1, 0, 1, 1, 0, 0, 0, 0, 0, 1, 0, 0, 0, 0,\n",
       "       1, 0, 0, 1, 1, 0, 0, 0, 1, 0, 0, 0, 0, 0, 1, 0, 1, 0, 0, 0, 1, 1,\n",
       "       0, 1, 0, 1, 0, 1, 1, 0, 1, 0, 0, 0, 0, 0])"
      ]
     },
     "execution_count": 53,
     "metadata": {},
     "output_type": "execute_result"
    }
   ],
   "source": [
    "y_pred"
   ]
  },
  {
   "cell_type": "code",
   "execution_count": 54,
   "id": "4c60c805",
   "metadata": {},
   "outputs": [],
   "source": [
    "y_pred_proba = knn.predict_proba(X_train)"
   ]
  },
  {
   "cell_type": "code",
   "execution_count": 55,
   "id": "57b32862",
   "metadata": {},
   "outputs": [
    {
     "name": "stdout",
     "output_type": "stream",
     "text": [
      "Accuracy of KNN classifier on training set: 0.84\n"
     ]
    }
   ],
   "source": [
    "print('Accuracy of KNN classifier on training set: {:.2f}'\n",
    "     .format(knn.score(X_train, y_train)))"
   ]
  },
  {
   "cell_type": "markdown",
   "id": "cbf1151d",
   "metadata": {},
   "source": [
    "Create a confusion matrix"
   ]
  },
  {
   "cell_type": "code",
   "execution_count": 56,
   "id": "aa8d1877",
   "metadata": {},
   "outputs": [
    {
     "name": "stdout",
     "output_type": "stream",
     "text": [
      "[[291  16]\n",
      " [ 63 128]]\n"
     ]
    }
   ],
   "source": [
    "print(confusion_matrix(y_train, y_pred))"
   ]
  },
  {
   "cell_type": "markdown",
   "id": "b1f80680",
   "metadata": {},
   "source": [
    "Create a classificaiton report"
   ]
  },
  {
   "cell_type": "code",
   "execution_count": 57,
   "id": "e929b7e1",
   "metadata": {},
   "outputs": [
    {
     "name": "stdout",
     "output_type": "stream",
     "text": [
      "              precision    recall  f1-score   support\n",
      "\n",
      "           0       0.82      0.95      0.88       307\n",
      "           1       0.89      0.67      0.76       191\n",
      "\n",
      "    accuracy                           0.84       498\n",
      "   macro avg       0.86      0.81      0.82       498\n",
      "weighted avg       0.85      0.84      0.84       498\n",
      "\n"
     ]
    }
   ],
   "source": [
    "print(classification_report(y_train, y_pred))"
   ]
  },
  {
   "cell_type": "code",
   "execution_count": 58,
   "id": "12652c74",
   "metadata": {},
   "outputs": [],
   "source": [
    "tp = 128\n",
    "tn = 291\n",
    "fp = 63\n",
    "fn = 16"
   ]
  },
  {
   "cell_type": "markdown",
   "id": "4837f771",
   "metadata": {},
   "source": [
    "Print and clearly label the following: Accuracy, true positive rate, false positive rate, true negative rate, false negative rate, precision, recall, f1-score, and support."
   ]
  },
  {
   "cell_type": "code",
   "execution_count": 59,
   "id": "70e94ff2",
   "metadata": {},
   "outputs": [
    {
     "name": "stdout",
     "output_type": "stream",
     "text": [
      "accuracy score is 0.8413654618473896\n",
      "true positive rate is 0.2570281124497992\n",
      "true negative rate is 0.5843373493975904\n",
      "false positive rate is 0.12650602409638553\n",
      "false negative rate is 0.0321285140562249\n",
      "recall score is 0.6701570680628273\n",
      "precision score is 0.8888888888888888\n",
      "f1 score is 0.764179104477612\n"
     ]
    }
   ],
   "source": [
    "print(f'accuracy score is {accuracy_score(y_train, y_pred)}')\n",
    "print(f'true positive rate is {tp / (tn + tp+fn+fp)}')\n",
    "print(f'true negative rate is {tn / (tn + tp+fn+fp)}')\n",
    "print(f'false positive rate is {fp / (tn + tp+fn+fp)}')\n",
    "print(f'false negative rate is {fn / (tn + tp+fn+fp)}')\n",
    "print(f'recall score is {metrics.recall_score(y_train, y_pred)}')\n",
    "print(f'precision score is {metrics.precision_score(y_train, y_pred)}')\n",
    "print(f'f1 score is {metrics.f1_score(y_train, y_pred)}')"
   ]
  },
  {
   "cell_type": "markdown",
   "id": "06c23f6f",
   "metadata": {},
   "source": [
    "Run through steps 2-4 setting k to 10"
   ]
  },
  {
   "cell_type": "code",
   "execution_count": 60,
   "id": "987f8200",
   "metadata": {},
   "outputs": [
    {
     "data": {
      "text/plain": [
       "KNeighborsClassifier(n_neighbors=10)"
      ]
     },
     "execution_count": 60,
     "metadata": {},
     "output_type": "execute_result"
    }
   ],
   "source": [
    "knn10 = KNeighborsClassifier(n_neighbors = 10)\n",
    "knn10.fit(X_train, y_train)"
   ]
  },
  {
   "cell_type": "code",
   "execution_count": 61,
   "id": "f6f13afa",
   "metadata": {},
   "outputs": [],
   "source": [
    "y_pred = knn10.predict(X_train)"
   ]
  },
  {
   "cell_type": "code",
   "execution_count": 62,
   "id": "1f505752",
   "metadata": {},
   "outputs": [
    {
     "data": {
      "text/plain": [
       "array([0, 0, 0, 1, 1, 0, 0, 0, 0, 0, 0, 0, 1, 0, 0, 0, 0, 1, 0, 0, 1, 0,\n",
       "       1, 0, 0, 0, 1, 0, 0, 0, 0, 0, 0, 1, 1, 0, 0, 1, 0, 1, 0, 0, 0, 1,\n",
       "       1, 0, 0, 0, 1, 0, 0, 0, 1, 0, 0, 1, 0, 1, 0, 0, 0, 0, 0, 0, 0, 0,\n",
       "       0, 0, 0, 1, 0, 0, 1, 1, 0, 0, 0, 0, 0, 0, 0, 1, 0, 0, 0, 0, 1, 0,\n",
       "       1, 0, 0, 0, 1, 1, 0, 0, 1, 1, 0, 1, 0, 1, 0, 0, 1, 1, 0, 1, 0, 0,\n",
       "       1, 1, 0, 0, 0, 1, 0, 0, 1, 1, 0, 0, 1, 0, 0, 1, 1, 1, 0, 0, 1, 0,\n",
       "       0, 0, 0, 0, 0, 0, 0, 1, 1, 1, 1, 0, 0, 0, 0, 1, 1, 0, 0, 0, 0, 0,\n",
       "       0, 1, 0, 0, 0, 0, 0, 1, 0, 0, 0, 0, 0, 0, 0, 0, 0, 1, 0, 0, 1, 0,\n",
       "       1, 0, 0, 0, 0, 0, 0, 1, 0, 1, 0, 1, 1, 0, 0, 1, 0, 0, 1, 1, 0, 0,\n",
       "       0, 0, 0, 1, 1, 0, 0, 0, 0, 1, 0, 1, 0, 0, 0, 0, 1, 1, 0, 0, 1, 0,\n",
       "       0, 0, 0, 1, 0, 0, 0, 0, 0, 1, 0, 0, 0, 0, 0, 1, 0, 0, 0, 1, 0, 0,\n",
       "       1, 0, 1, 0, 1, 0, 0, 1, 0, 0, 0, 1, 0, 0, 1, 1, 1, 0, 0, 0, 1, 1,\n",
       "       0, 0, 0, 0, 0, 0, 0, 1, 0, 1, 0, 0, 0, 0, 0, 0, 0, 0, 1, 1, 0, 0,\n",
       "       1, 1, 1, 0, 0, 0, 0, 0, 1, 0, 0, 0, 0, 0, 0, 0, 0, 1, 0, 0, 1, 0,\n",
       "       0, 0, 0, 0, 0, 1, 0, 0, 0, 1, 0, 0, 1, 0, 0, 1, 0, 1, 1, 0, 0, 1,\n",
       "       0, 1, 1, 1, 1, 1, 0, 1, 0, 0, 0, 1, 1, 0, 0, 0, 0, 1, 1, 0, 1, 0,\n",
       "       0, 1, 0, 1, 1, 0, 0, 1, 0, 0, 0, 0, 0, 1, 0, 0, 0, 1, 0, 0, 0, 0,\n",
       "       0, 0, 0, 0, 1, 0, 0, 1, 1, 0, 1, 1, 0, 0, 1, 0, 0, 0, 0, 1, 1, 0,\n",
       "       0, 0, 0, 1, 0, 1, 0, 1, 0, 0, 0, 0, 0, 0, 0, 0, 0, 0, 1, 1, 1, 0,\n",
       "       1, 0, 1, 0, 0, 1, 0, 1, 0, 1, 0, 0, 0, 0, 0, 0, 1, 0, 1, 0, 1, 0,\n",
       "       0, 0, 0, 0, 0, 0, 0, 0, 1, 0, 1, 1, 0, 0, 0, 0, 0, 1, 0, 0, 0, 0,\n",
       "       1, 1, 0, 1, 1, 0, 0, 0, 1, 0, 0, 0, 0, 0, 1, 0, 1, 0, 0, 0, 1, 1,\n",
       "       0, 1, 0, 0, 0, 0, 1, 0, 1, 0, 0, 0, 1, 0])"
      ]
     },
     "execution_count": 62,
     "metadata": {},
     "output_type": "execute_result"
    }
   ],
   "source": [
    "y_pred"
   ]
  },
  {
   "cell_type": "code",
   "execution_count": 63,
   "id": "9bb2ce69",
   "metadata": {},
   "outputs": [],
   "source": [
    "y_pred_proba = knn10.predict_proba(X_train)"
   ]
  },
  {
   "cell_type": "code",
   "execution_count": 64,
   "id": "3379a21d",
   "metadata": {},
   "outputs": [
    {
     "data": {
      "text/plain": [
       "0.79"
      ]
     },
     "execution_count": 64,
     "metadata": {},
     "output_type": "execute_result"
    }
   ],
   "source": [
    "#model score\n",
    "round(knn10.score(X_train,y_train),2)"
   ]
  },
  {
   "cell_type": "code",
   "execution_count": 65,
   "id": "b758a23a",
   "metadata": {},
   "outputs": [
    {
     "name": "stdout",
     "output_type": "stream",
     "text": [
      "[[273  34]\n",
      " [ 71 120]]\n"
     ]
    }
   ],
   "source": [
    "#confusion matrix\n",
    "print(confusion_matrix(y_train, y_pred))"
   ]
  },
  {
   "cell_type": "code",
   "execution_count": 66,
   "id": "d23c17a4",
   "metadata": {},
   "outputs": [
    {
     "name": "stdout",
     "output_type": "stream",
     "text": [
      "              precision    recall  f1-score   support\n",
      "\n",
      "           0       0.79      0.89      0.84       307\n",
      "           1       0.78      0.63      0.70       191\n",
      "\n",
      "    accuracy                           0.79       498\n",
      "   macro avg       0.79      0.76      0.77       498\n",
      "weighted avg       0.79      0.79      0.78       498\n",
      "\n"
     ]
    }
   ],
   "source": [
    "print(classification_report(y_train, y_pred))"
   ]
  },
  {
   "cell_type": "code",
   "execution_count": 67,
   "id": "43d95b3e",
   "metadata": {},
   "outputs": [],
   "source": [
    "tp = 120\n",
    "tn = 273\n",
    "fp = 71\n",
    "fn = 34"
   ]
  },
  {
   "cell_type": "code",
   "execution_count": 68,
   "id": "75a17008",
   "metadata": {},
   "outputs": [
    {
     "name": "stdout",
     "output_type": "stream",
     "text": [
      "accuracy score is 0.7891566265060241\n",
      "true positive rate is 0.24096385542168675\n",
      "true negative rate is 0.5481927710843374\n",
      "false positive rate is 0.142570281124498\n",
      "false negative rate is 0.06827309236947791\n",
      "recall score is 0.6282722513089005\n",
      "precision score is 0.7792207792207793\n",
      "f1 score is 0.6956521739130436\n"
     ]
    }
   ],
   "source": [
    "print(f'accuracy score is {accuracy_score(y_train, y_pred)}')\n",
    "print(f'true positive rate is {tp / (tn + tp+fn+fp)}')\n",
    "print(f'true negative rate is {tn / (tn + tp+fn+fp)}')\n",
    "print(f'false positive rate is {fp / (tn + tp+fn+fp)}')\n",
    "print(f'false negative rate is {fn / (tn + tp+fn+fp)}')\n",
    "print(f'recall score is {metrics.recall_score(y_train, y_pred)}')\n",
    "print(f'precision score is {metrics.precision_score(y_train, y_pred)}')\n",
    "print(f'f1 score is {metrics.f1_score(y_train, y_pred)}')"
   ]
  },
  {
   "cell_type": "markdown",
   "id": "a6a9135d",
   "metadata": {},
   "source": [
    "5.) Run through setps 2-4 setting k to 20"
   ]
  },
  {
   "cell_type": "code",
   "execution_count": 69,
   "id": "2f18025b",
   "metadata": {},
   "outputs": [
    {
     "data": {
      "text/plain": [
       "KNeighborsClassifier(n_neighbors=20)"
      ]
     },
     "execution_count": 69,
     "metadata": {},
     "output_type": "execute_result"
    }
   ],
   "source": [
    "knn20 = KNeighborsClassifier(n_neighbors = 20)\n",
    "knn20.fit(X_train, y_train)"
   ]
  },
  {
   "cell_type": "code",
   "execution_count": 70,
   "id": "ff25c5a0",
   "metadata": {},
   "outputs": [],
   "source": [
    "y_pred = knn20.predict(X_train)"
   ]
  },
  {
   "cell_type": "code",
   "execution_count": 71,
   "id": "08be0b79",
   "metadata": {},
   "outputs": [],
   "source": [
    "y_pred_proba = knn20.predict_proba(X_train)"
   ]
  },
  {
   "cell_type": "code",
   "execution_count": 72,
   "id": "7bf909b5",
   "metadata": {},
   "outputs": [
    {
     "data": {
      "text/plain": [
       "0.74"
      ]
     },
     "execution_count": 72,
     "metadata": {},
     "output_type": "execute_result"
    }
   ],
   "source": [
    "#model score\n",
    "round(knn20.score(X_train,y_train),2)"
   ]
  },
  {
   "cell_type": "code",
   "execution_count": 73,
   "id": "e50d9262",
   "metadata": {},
   "outputs": [
    {
     "name": "stdout",
     "output_type": "stream",
     "text": [
      "[[265  42]\n",
      " [ 86 105]]\n"
     ]
    }
   ],
   "source": [
    "#confusion matrix\n",
    "print(confusion_matrix(y_train, y_pred))"
   ]
  },
  {
   "cell_type": "code",
   "execution_count": 74,
   "id": "c2fed606",
   "metadata": {},
   "outputs": [
    {
     "name": "stdout",
     "output_type": "stream",
     "text": [
      "              precision    recall  f1-score   support\n",
      "\n",
      "           0       0.75      0.86      0.81       307\n",
      "           1       0.71      0.55      0.62       191\n",
      "\n",
      "    accuracy                           0.74       498\n",
      "   macro avg       0.73      0.71      0.71       498\n",
      "weighted avg       0.74      0.74      0.73       498\n",
      "\n"
     ]
    }
   ],
   "source": [
    "print(classification_report(y_train, y_pred))"
   ]
  },
  {
   "cell_type": "code",
   "execution_count": 75,
   "id": "9912dc8d",
   "metadata": {},
   "outputs": [],
   "source": [
    "tp = 105\n",
    "tn = 265\n",
    "fp = 86\n",
    "fn = 42"
   ]
  },
  {
   "cell_type": "code",
   "execution_count": 76,
   "id": "cd5bdc80",
   "metadata": {},
   "outputs": [
    {
     "name": "stdout",
     "output_type": "stream",
     "text": [
      "accuracy score is 0.7429718875502008\n",
      "true positive rate is 0.21084337349397592\n",
      "true negative rate is 0.5321285140562249\n",
      "false positive rate is 0.17269076305220885\n",
      "false negative rate is 0.08433734939759036\n",
      "recall score is 0.5497382198952879\n",
      "precision score is 0.7142857142857143\n",
      "f1 score is 0.621301775147929\n"
     ]
    }
   ],
   "source": [
    "print(f'accuracy score is {accuracy_score(y_train, y_pred)}')\n",
    "print(f'true positive rate is {tp / (tn + tp+fn+fp)}')\n",
    "print(f'true negative rate is {tn / (tn + tp+fn+fp)}')\n",
    "print(f'false positive rate is {fp / (tn + tp+fn+fp)}')\n",
    "print(f'false negative rate is {fn / (tn + tp+fn+fp)}')\n",
    "print(f'recall score is {metrics.recall_score(y_train, y_pred)}')\n",
    "print(f'precision score is {metrics.precision_score(y_train, y_pred)}')\n",
    "print(f'f1 score is {metrics.f1_score(y_train, y_pred)}')"
   ]
  },
  {
   "cell_type": "code",
   "execution_count": 77,
   "id": "a86a6676",
   "metadata": {},
   "outputs": [
    {
     "data": {
      "text/plain": [
       "(265, 42, 86, 105)"
      ]
     },
     "execution_count": 77,
     "metadata": {},
     "output_type": "execute_result"
    }
   ],
   "source": [
    "tn, fp, fn, tp = confusion_matrix(y_train, y_pred).ravel()\n",
    "tn, fp, fn, tp"
   ]
  },
  {
   "cell_type": "markdown",
   "id": "6e53eac3",
   "metadata": {},
   "source": [
    "6.) What are the differences in the evaluation metrics? Which performs better on your in-sample data? Why?"
   ]
  },
  {
   "cell_type": "code",
   "execution_count": 78,
   "id": "c48b787b",
   "metadata": {},
   "outputs": [],
   "source": [
    "#My first model performed the best for in-sample data. The more you increased the k, the less accuracy, recall and precision it has."
   ]
  },
  {
   "cell_type": "markdown",
   "id": "a31f4674",
   "metadata": {},
   "source": [
    "7.) Which model performs best on our out-of-sample data from validate?"
   ]
  },
  {
   "cell_type": "code",
   "execution_count": 79,
   "id": "57b3972a",
   "metadata": {},
   "outputs": [
    {
     "name": "stdout",
     "output_type": "stream",
     "text": [
      "Accuracy of KNN classifier on training set n_neighbors set to 5: 0.84\n",
      "Accuracy of KNN classifier on validate set with n_neighbors set to 5: 0.74\n",
      "\n",
      "Accuracy of KNN classifier on training set n_neighbors set to 10: 0.79\n",
      "Accuracy of KNN classifier on validate set with n_neighbors set to 10: 0.72\n",
      "\n",
      "Accuracy of KNN classifier on training set n_neighbors set to 20: 0.74\n",
      "Accuracy of KNN classifier on validate set with n_neighbors set to 20: 0.70\n"
     ]
    }
   ],
   "source": [
    "print('Accuracy of KNN classifier on training set n_neighbors set to 5: {:.2f}'\n",
    "     .format(knn.score(X_train, y_train)))\n",
    "print('Accuracy of KNN classifier on validate set with n_neighbors set to 5: {:.2f}\\n'\n",
    "     .format(knn.score(X_validate, y_validate)))\n",
    "print('Accuracy of KNN classifier on training set n_neighbors set to 10: {:.2f}'\n",
    "     .format(knn10.score(X_train, y_train)))\n",
    "print('Accuracy of KNN classifier on validate set with n_neighbors set to 10: {:.2f}\\n'\n",
    "     .format(knn10.score(X_validate, y_validate)))\n",
    "print('Accuracy of KNN classifier on training set n_neighbors set to 20: {:.2f}'\n",
    "     .format(knn20.score(X_train, y_train)))\n",
    "print('Accuracy of KNN classifier on validate set with n_neighbors set to 20: {:.2f}'\n",
    "     .format(knn20.score(X_validate, y_validate)))"
   ]
  },
  {
   "cell_type": "markdown",
   "id": "d9669907",
   "metadata": {},
   "source": [
    "Create a model that includes age in addition to fare and pclass. Does this model perform better than your baseline?\n",
    "\n",
    "Include sex in your model as well. Note that you'll need to encode or create a dummy variable of this feature before including it in a model.\n",
    "\n",
    "Try out other combinations of features and models.\n",
    "\n",
    "Use you best 3 models to predict and evaluate on your validate sample.\n",
    "\n",
    "Choose you best model from the validation performation, and evaluate it on the test dataset. How do the performance metrics compare to validate? to train?"
   ]
  },
  {
   "cell_type": "code",
   "execution_count": 80,
   "id": "ff197645",
   "metadata": {},
   "outputs": [],
   "source": [
    "#acquire data\n",
    "df = acquire.get_titanic_data()"
   ]
  },
  {
   "cell_type": "code",
   "execution_count": 81,
   "id": "b5ed5cdc",
   "metadata": {},
   "outputs": [
    {
     "data": {
      "text/html": [
       "<div>\n",
       "<style scoped>\n",
       "    .dataframe tbody tr th:only-of-type {\n",
       "        vertical-align: middle;\n",
       "    }\n",
       "\n",
       "    .dataframe tbody tr th {\n",
       "        vertical-align: top;\n",
       "    }\n",
       "\n",
       "    .dataframe thead th {\n",
       "        text-align: right;\n",
       "    }\n",
       "</style>\n",
       "<table border=\"1\" class=\"dataframe\">\n",
       "  <thead>\n",
       "    <tr style=\"text-align: right;\">\n",
       "      <th></th>\n",
       "      <th>passenger_id</th>\n",
       "      <th>survived</th>\n",
       "      <th>pclass</th>\n",
       "      <th>sex</th>\n",
       "      <th>age</th>\n",
       "      <th>sibsp</th>\n",
       "      <th>parch</th>\n",
       "      <th>fare</th>\n",
       "      <th>embarked</th>\n",
       "      <th>class</th>\n",
       "      <th>deck</th>\n",
       "      <th>embark_town</th>\n",
       "      <th>alone</th>\n",
       "    </tr>\n",
       "  </thead>\n",
       "  <tbody>\n",
       "    <tr>\n",
       "      <th>0</th>\n",
       "      <td>0</td>\n",
       "      <td>0</td>\n",
       "      <td>3</td>\n",
       "      <td>male</td>\n",
       "      <td>22.0</td>\n",
       "      <td>1</td>\n",
       "      <td>0</td>\n",
       "      <td>7.2500</td>\n",
       "      <td>S</td>\n",
       "      <td>Third</td>\n",
       "      <td>NaN</td>\n",
       "      <td>Southampton</td>\n",
       "      <td>0</td>\n",
       "    </tr>\n",
       "    <tr>\n",
       "      <th>1</th>\n",
       "      <td>1</td>\n",
       "      <td>1</td>\n",
       "      <td>1</td>\n",
       "      <td>female</td>\n",
       "      <td>38.0</td>\n",
       "      <td>1</td>\n",
       "      <td>0</td>\n",
       "      <td>71.2833</td>\n",
       "      <td>C</td>\n",
       "      <td>First</td>\n",
       "      <td>C</td>\n",
       "      <td>Cherbourg</td>\n",
       "      <td>0</td>\n",
       "    </tr>\n",
       "    <tr>\n",
       "      <th>2</th>\n",
       "      <td>2</td>\n",
       "      <td>1</td>\n",
       "      <td>3</td>\n",
       "      <td>female</td>\n",
       "      <td>26.0</td>\n",
       "      <td>0</td>\n",
       "      <td>0</td>\n",
       "      <td>7.9250</td>\n",
       "      <td>S</td>\n",
       "      <td>Third</td>\n",
       "      <td>NaN</td>\n",
       "      <td>Southampton</td>\n",
       "      <td>1</td>\n",
       "    </tr>\n",
       "    <tr>\n",
       "      <th>3</th>\n",
       "      <td>3</td>\n",
       "      <td>1</td>\n",
       "      <td>1</td>\n",
       "      <td>female</td>\n",
       "      <td>35.0</td>\n",
       "      <td>1</td>\n",
       "      <td>0</td>\n",
       "      <td>53.1000</td>\n",
       "      <td>S</td>\n",
       "      <td>First</td>\n",
       "      <td>C</td>\n",
       "      <td>Southampton</td>\n",
       "      <td>0</td>\n",
       "    </tr>\n",
       "    <tr>\n",
       "      <th>4</th>\n",
       "      <td>4</td>\n",
       "      <td>0</td>\n",
       "      <td>3</td>\n",
       "      <td>male</td>\n",
       "      <td>35.0</td>\n",
       "      <td>0</td>\n",
       "      <td>0</td>\n",
       "      <td>8.0500</td>\n",
       "      <td>S</td>\n",
       "      <td>Third</td>\n",
       "      <td>NaN</td>\n",
       "      <td>Southampton</td>\n",
       "      <td>1</td>\n",
       "    </tr>\n",
       "  </tbody>\n",
       "</table>\n",
       "</div>"
      ],
      "text/plain": [
       "   passenger_id  survived  pclass     sex   age  sibsp  parch     fare  \\\n",
       "0             0         0       3    male  22.0      1      0   7.2500   \n",
       "1             1         1       1  female  38.0      1      0  71.2833   \n",
       "2             2         1       3  female  26.0      0      0   7.9250   \n",
       "3             3         1       1  female  35.0      1      0  53.1000   \n",
       "4             4         0       3    male  35.0      0      0   8.0500   \n",
       "\n",
       "  embarked  class deck  embark_town  alone  \n",
       "0        S  Third  NaN  Southampton      0  \n",
       "1        C  First    C    Cherbourg      0  \n",
       "2        S  Third  NaN  Southampton      1  \n",
       "3        S  First    C  Southampton      0  \n",
       "4        S  Third  NaN  Southampton      1  "
      ]
     },
     "execution_count": 81,
     "metadata": {},
     "output_type": "execute_result"
    }
   ],
   "source": [
    "df.head()"
   ]
  },
  {
   "cell_type": "code",
   "execution_count": 82,
   "id": "233d0351",
   "metadata": {},
   "outputs": [
    {
     "data": {
      "text/plain": [
       "(891, 13)"
      ]
     },
     "execution_count": 82,
     "metadata": {},
     "output_type": "execute_result"
    }
   ],
   "source": [
    "df.shape"
   ]
  },
  {
   "cell_type": "code",
   "execution_count": 84,
   "id": "0707778b",
   "metadata": {},
   "outputs": [],
   "source": [
    "#split data\n",
    "train, validate, test = prepare.prep_titanic_data(df, column = 'age', method = 'median', dummies = ['embarked', 'sex'])"
   ]
  },
  {
   "cell_type": "code",
   "execution_count": 85,
   "id": "2599d80f",
   "metadata": {},
   "outputs": [
    {
     "data": {
      "text/html": [
       "<div>\n",
       "<style scoped>\n",
       "    .dataframe tbody tr th:only-of-type {\n",
       "        vertical-align: middle;\n",
       "    }\n",
       "\n",
       "    .dataframe tbody tr th {\n",
       "        vertical-align: top;\n",
       "    }\n",
       "\n",
       "    .dataframe thead th {\n",
       "        text-align: right;\n",
       "    }\n",
       "</style>\n",
       "<table border=\"1\" class=\"dataframe\">\n",
       "  <thead>\n",
       "    <tr style=\"text-align: right;\">\n",
       "      <th></th>\n",
       "      <th>passenger_id</th>\n",
       "      <th>survived</th>\n",
       "      <th>pclass</th>\n",
       "      <th>age</th>\n",
       "      <th>sibsp</th>\n",
       "      <th>parch</th>\n",
       "      <th>fare</th>\n",
       "      <th>alone</th>\n",
       "      <th>embarked_Q</th>\n",
       "      <th>embarked_S</th>\n",
       "      <th>sex_male</th>\n",
       "    </tr>\n",
       "  </thead>\n",
       "  <tbody>\n",
       "    <tr>\n",
       "      <th>583</th>\n",
       "      <td>583</td>\n",
       "      <td>0</td>\n",
       "      <td>1</td>\n",
       "      <td>36.0</td>\n",
       "      <td>0</td>\n",
       "      <td>0</td>\n",
       "      <td>40.1250</td>\n",
       "      <td>1</td>\n",
       "      <td>0</td>\n",
       "      <td>0</td>\n",
       "      <td>1</td>\n",
       "    </tr>\n",
       "    <tr>\n",
       "      <th>165</th>\n",
       "      <td>165</td>\n",
       "      <td>1</td>\n",
       "      <td>3</td>\n",
       "      <td>9.0</td>\n",
       "      <td>0</td>\n",
       "      <td>2</td>\n",
       "      <td>20.5250</td>\n",
       "      <td>0</td>\n",
       "      <td>0</td>\n",
       "      <td>1</td>\n",
       "      <td>1</td>\n",
       "    </tr>\n",
       "    <tr>\n",
       "      <th>50</th>\n",
       "      <td>50</td>\n",
       "      <td>0</td>\n",
       "      <td>3</td>\n",
       "      <td>7.0</td>\n",
       "      <td>4</td>\n",
       "      <td>1</td>\n",
       "      <td>39.6875</td>\n",
       "      <td>0</td>\n",
       "      <td>0</td>\n",
       "      <td>1</td>\n",
       "      <td>1</td>\n",
       "    </tr>\n",
       "    <tr>\n",
       "      <th>259</th>\n",
       "      <td>259</td>\n",
       "      <td>1</td>\n",
       "      <td>2</td>\n",
       "      <td>50.0</td>\n",
       "      <td>0</td>\n",
       "      <td>1</td>\n",
       "      <td>26.0000</td>\n",
       "      <td>0</td>\n",
       "      <td>0</td>\n",
       "      <td>1</td>\n",
       "      <td>0</td>\n",
       "    </tr>\n",
       "    <tr>\n",
       "      <th>306</th>\n",
       "      <td>306</td>\n",
       "      <td>1</td>\n",
       "      <td>1</td>\n",
       "      <td>28.0</td>\n",
       "      <td>0</td>\n",
       "      <td>0</td>\n",
       "      <td>110.8833</td>\n",
       "      <td>1</td>\n",
       "      <td>0</td>\n",
       "      <td>0</td>\n",
       "      <td>0</td>\n",
       "    </tr>\n",
       "  </tbody>\n",
       "</table>\n",
       "</div>"
      ],
      "text/plain": [
       "     passenger_id  survived  pclass   age  sibsp  parch      fare  alone  \\\n",
       "583           583         0       1  36.0      0      0   40.1250      1   \n",
       "165           165         1       3   9.0      0      2   20.5250      0   \n",
       "50             50         0       3   7.0      4      1   39.6875      0   \n",
       "259           259         1       2  50.0      0      1   26.0000      0   \n",
       "306           306         1       1  28.0      0      0  110.8833      1   \n",
       "\n",
       "     embarked_Q  embarked_S  sex_male  \n",
       "583           0           0         1  \n",
       "165           0           1         1  \n",
       "50            0           1         1  \n",
       "259           0           1         0  \n",
       "306           0           0         0  "
      ]
     },
     "execution_count": 85,
     "metadata": {},
     "output_type": "execute_result"
    }
   ],
   "source": [
    "train.head()"
   ]
  },
  {
   "cell_type": "code",
   "execution_count": 86,
   "id": "b7b9da3a",
   "metadata": {},
   "outputs": [
    {
     "data": {
      "text/plain": [
       "(498, 11)"
      ]
     },
     "execution_count": 86,
     "metadata": {},
     "output_type": "execute_result"
    }
   ],
   "source": [
    "train.shape"
   ]
  },
  {
   "cell_type": "code",
   "execution_count": 87,
   "id": "9bbe220b",
   "metadata": {},
   "outputs": [],
   "source": [
    "#other way to do the split is decide wich columns we are going to use\n",
    "X_cols = [ 'age','pclass', 'fare']\n",
    "y_col = 'survived'\n",
    "\n",
    "X_train, y_train = train[X_cols], train[y_col]\n",
    "X_validate, y_validate = validate[X_cols], validate[y_col]\n",
    "X_test, y_test = test[X_cols], test[y_col]"
   ]
  },
  {
   "cell_type": "code",
   "execution_count": 88,
   "id": "05aac99a",
   "metadata": {},
   "outputs": [
    {
     "data": {
      "text/plain": [
       "((498, 3), (214, 3), (179, 3))"
      ]
     },
     "execution_count": 88,
     "metadata": {},
     "output_type": "execute_result"
    }
   ],
   "source": [
    "X_train.shape, X_validate.shape, X_test.shape"
   ]
  },
  {
   "cell_type": "code",
   "execution_count": 89,
   "id": "0c5a4180",
   "metadata": {},
   "outputs": [
    {
     "data": {
      "text/plain": [
       "0    307\n",
       "1    191\n",
       "Name: survived, dtype: int64"
      ]
     },
     "execution_count": 89,
     "metadata": {},
     "output_type": "execute_result"
    }
   ],
   "source": [
    "train.survived.value_counts()"
   ]
  },
  {
   "cell_type": "code",
   "execution_count": 90,
   "id": "f0a4cf9d",
   "metadata": {},
   "outputs": [],
   "source": [
    "#so the baselined is survived = 0\n",
    "train['baseline'] = 0"
   ]
  },
  {
   "cell_type": "code",
   "execution_count": 91,
   "id": "a41493e6",
   "metadata": {},
   "outputs": [
    {
     "name": "stdout",
     "output_type": "stream",
     "text": [
      "The baseline accuracy for nonsurvival in all cases on the Titanic Dataset is 0.616\n"
     ]
    }
   ],
   "source": [
    "print(f'The baseline accuracy for nonsurvival in all cases on the Titanic Dataset is {(train.baseline == train.survived).mean():.3}')"
   ]
  },
  {
   "cell_type": "code",
   "execution_count": 94,
   "id": "b4ed25d4",
   "metadata": {},
   "outputs": [
    {
     "data": {
      "text/plain": [
       "LogisticRegression(random_state=123)"
      ]
     },
     "execution_count": 94,
     "metadata": {},
     "output_type": "execute_result"
    }
   ],
   "source": [
    "from sklearn.linear_model import LogisticRegression\n",
    "logit =LogisticRegression(C=1.0 , random_state=123)\n",
    "logit.fit(X_train, y_train)"
   ]
  },
  {
   "cell_type": "code",
   "execution_count": 95,
   "id": "cfc93f3a",
   "metadata": {},
   "outputs": [],
   "source": [
    "# now use the model to make predictions\n",
    "y_pred = logit.predict(X_train)"
   ]
  },
  {
   "cell_type": "code",
   "execution_count": 96,
   "id": "d719d309",
   "metadata": {},
   "outputs": [
    {
     "name": "stdout",
     "output_type": "stream",
     "text": [
      "Accuracy: 0.70\n"
     ]
    }
   ],
   "source": [
    "print('Accuracy: {:.2f}'.format(logit.score(X_train, y_train)))"
   ]
  },
  {
   "cell_type": "code",
   "execution_count": 97,
   "id": "abc54008",
   "metadata": {},
   "outputs": [
    {
     "name": "stdout",
     "output_type": "stream",
     "text": [
      "              precision    recall  f1-score   support\n",
      "\n",
      "           0       0.71      0.87      0.78       307\n",
      "           1       0.67      0.43      0.53       191\n",
      "\n",
      "    accuracy                           0.70       498\n",
      "   macro avg       0.69      0.65      0.66       498\n",
      "weighted avg       0.70      0.70      0.69       498\n",
      "\n"
     ]
    }
   ],
   "source": [
    "print(classification_report(y_train, y_pred))"
   ]
  },
  {
   "cell_type": "code",
   "execution_count": 98,
   "id": "d9bbc3e4",
   "metadata": {},
   "outputs": [
    {
     "name": "stdout",
     "output_type": "stream",
     "text": [
      "training score: 70.28%\n",
      "validate score: 71.03%\n"
     ]
    }
   ],
   "source": [
    "print(f'training score: {logit.score(X_train, y_train):.2%}')\n",
    "print(f'validate score: {logit.score(X_validate, y_validate):.2%}')"
   ]
  },
  {
   "cell_type": "code",
   "execution_count": 99,
   "id": "1e60164d",
   "metadata": {},
   "outputs": [],
   "source": [
    "X_cols = [ 'age','pclass', 'fare', 'sex_male']\n",
    "y_col = 'survived'\n",
    "\n",
    "X_train, y_train = train[X_cols], train[y_col]\n",
    "X_validate, y_validate = validate[X_cols], validate[y_col]\n",
    "X_test, y_test = test[X_cols], test[y_col]"
   ]
  },
  {
   "cell_type": "code",
   "execution_count": 100,
   "id": "b99ec5c0",
   "metadata": {},
   "outputs": [
    {
     "data": {
      "text/plain": [
       "LogisticRegression(random_state=123)"
      ]
     },
     "execution_count": 100,
     "metadata": {},
     "output_type": "execute_result"
    }
   ],
   "source": [
    "logit2 =LogisticRegression(C=1.0 , random_state=123)\n",
    "logit2.fit(X_train, y_train)"
   ]
  },
  {
   "cell_type": "code",
   "execution_count": 101,
   "id": "f6a51d67",
   "metadata": {},
   "outputs": [],
   "source": [
    "# now use the model to make predictions\n",
    "y_pred = logit2.predict(X_train)"
   ]
  },
  {
   "cell_type": "code",
   "execution_count": 102,
   "id": "141c5314",
   "metadata": {},
   "outputs": [
    {
     "name": "stdout",
     "output_type": "stream",
     "text": [
      "training score: 80.72%\n",
      "validate score: 78.04%\n"
     ]
    }
   ],
   "source": [
    "print(f'training score: {logit2.score(X_train, y_train):.2%}')\n",
    "print(f'validate score: {logit2.score(X_validate, y_validate):.2%}')"
   ]
  },
  {
   "cell_type": "code",
   "execution_count": 103,
   "id": "1f210e8b",
   "metadata": {},
   "outputs": [
    {
     "name": "stdout",
     "output_type": "stream",
     "text": [
      "              precision    recall  f1-score   support\n",
      "\n",
      "           0       0.84      0.85      0.85       307\n",
      "           1       0.76      0.73      0.74       191\n",
      "\n",
      "    accuracy                           0.81       498\n",
      "   macro avg       0.80      0.79      0.79       498\n",
      "weighted avg       0.81      0.81      0.81       498\n",
      "\n"
     ]
    }
   ],
   "source": [
    "print(classification_report(y_train, y_pred))"
   ]
  },
  {
   "cell_type": "code",
   "execution_count": 104,
   "id": "82cbd788",
   "metadata": {},
   "outputs": [
    {
     "data": {
      "text/plain": [
       "LogisticRegression(C=1, class_weight='balanced', random_state=123)"
      ]
     },
     "execution_count": 104,
     "metadata": {},
     "output_type": "execute_result"
    }
   ],
   "source": [
    "logit3 =LogisticRegression(C=1 ,class_weight='balanced', random_state=123)\n",
    "logit3.fit(X_train, y_train)"
   ]
  },
  {
   "cell_type": "code",
   "execution_count": 106,
   "id": "999b01a2",
   "metadata": {},
   "outputs": [],
   "source": [
    "# now use the model to make predictions\n",
    "y_pred = logit3.predict(X_train)"
   ]
  },
  {
   "cell_type": "code",
   "execution_count": 107,
   "id": "98407da6",
   "metadata": {},
   "outputs": [
    {
     "name": "stdout",
     "output_type": "stream",
     "text": [
      "training score: 80.12%\n",
      "validate score: 75.70%\n"
     ]
    }
   ],
   "source": [
    "print(f'training score: {logit3.score(X_train, y_train):.2%}')\n",
    "print(f'validate score: {logit3.score(X_validate, y_validate):.2%}')"
   ]
  },
  {
   "cell_type": "code",
   "execution_count": 108,
   "id": "58ebcb8d",
   "metadata": {},
   "outputs": [
    {
     "data": {
      "text/plain": [
       "LogisticRegression(C=0.5, class_weight={0: 61, 1: 39}, random_state=123)"
      ]
     },
     "execution_count": 108,
     "metadata": {},
     "output_type": "execute_result"
    }
   ],
   "source": [
    "logit4 =LogisticRegression(penalty='l2',C=0.5, random_state=123, class_weight={0:61, 1:39})\n",
    "logit4.fit(X_train, y_train)"
   ]
  },
  {
   "cell_type": "code",
   "execution_count": 109,
   "id": "d2e790d0",
   "metadata": {},
   "outputs": [
    {
     "name": "stdout",
     "output_type": "stream",
     "text": [
      "training score: 79.72%\n",
      "validate score: 76.64%\n"
     ]
    }
   ],
   "source": [
    "print(f'training score: {logit4.score(X_train, y_train):.2%}')\n",
    "print(f'validate score: {logit4.score(X_validate, y_validate):.2%}')"
   ]
  },
  {
   "cell_type": "code",
   "execution_count": 110,
   "id": "d9e546af",
   "metadata": {},
   "outputs": [
    {
     "data": {
      "text/plain": [
       "LogisticRegression(random_state=123)"
      ]
     },
     "execution_count": 110,
     "metadata": {},
     "output_type": "execute_result"
    }
   ],
   "source": [
    "logit2 =LogisticRegression(C=1.0 , random_state=123)\n",
    "logit2.fit(X_train, y_train)"
   ]
  },
  {
   "cell_type": "code",
   "execution_count": 111,
   "id": "9a0ffa74",
   "metadata": {},
   "outputs": [
    {
     "data": {
      "text/plain": [
       "LogisticRegression(C=0.5, class_weight={0: 61, 1: 39}, random_state=123)"
      ]
     },
     "execution_count": 111,
     "metadata": {},
     "output_type": "execute_result"
    }
   ],
   "source": [
    "logit4 =LogisticRegression(penalty='l2',C=0.5, random_state=123, class_weight={0:61, 1:39})\n",
    "logit4.fit(X_train, y_train)"
   ]
  },
  {
   "cell_type": "code",
   "execution_count": null,
   "id": "610c40e3",
   "metadata": {},
   "outputs": [],
   "source": []
  }
 ],
 "metadata": {
  "kernelspec": {
   "display_name": "Python 3",
   "language": "python",
   "name": "python3"
  },
  "language_info": {
   "codemirror_mode": {
    "name": "ipython",
    "version": 3
   },
   "file_extension": ".py",
   "mimetype": "text/x-python",
   "name": "python",
   "nbconvert_exporter": "python",
   "pygments_lexer": "ipython3",
   "version": "3.8.8"
  }
 },
 "nbformat": 4,
 "nbformat_minor": 5
}
