{
 "cells": [
  {
   "cell_type": "code",
   "execution_count": 2,
   "id": "09d7ba7a",
   "metadata": {},
   "outputs": [],
   "source": [
    "import pandas as pd\n",
    "import os\n",
    "import aquire\n",
    "iris_df = aquire.get_iris_data()\n",
    "\n",
    "def clean_data(df):\n",
    "    iris_df = df.drop(columns = ['species_id', 'measurement_id'])\n",
    "    iris_df = df.rename(columns=({'species_name': 'species'}))\n",
    "    iris_df = pd.get_dummies(df, prefix = ['species'])\n",
    "    return iris_df\n",
    "\n",
    "def prep_iris(df):\n",
    "    iris_df = clean_data(df)\n",
    "    return iris_df"
   ]
  },
  {
   "cell_type": "code",
   "execution_count": null,
   "id": "a81507c0",
   "metadata": {},
   "outputs": [],
   "source": []
  }
 ],
 "metadata": {
  "kernelspec": {
   "display_name": "Python 3",
   "language": "python",
   "name": "python3"
  },
  "language_info": {
   "codemirror_mode": {
    "name": "ipython",
    "version": 3
   },
   "file_extension": ".py",
   "mimetype": "text/x-python",
   "name": "python",
   "nbconvert_exporter": "python",
   "pygments_lexer": "ipython3",
   "version": "3.8.8"
  }
 },
 "nbformat": 4,
 "nbformat_minor": 5
}
