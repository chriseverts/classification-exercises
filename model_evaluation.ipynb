{
 "cells": [
  {
   "cell_type": "markdown",
   "id": "47afb9dc",
   "metadata": {},
   "source": [
    "Given the following confusion matrix, evaluate (by hand) the model's performance.\n",
    "\n",
    "\n",
    "|               | pred dog   | pred cat   |\n",
    "|:------------  |-----------:|-----------:|\n",
    "| actual dog    |         46 |         7  |\n",
    "| actual cat    |         13 |         34 |\n",
    "In the context of this problem, what is a false positive?\n",
    "In the context of this problem, what is a false negative?\n",
    "How would you describe this model?"
   ]
  },
  {
   "cell_type": "code",
   "execution_count": 1,
   "id": "06f7c8b3",
   "metadata": {},
   "outputs": [],
   "source": [
    "import numpy as np \n",
    "import pandas as pd"
   ]
  },
  {
   "cell_type": "code",
   "execution_count": null,
   "id": "aa17de63",
   "metadata": {},
   "outputs": [],
   "source": [
    "# 2a.) In the context of this problem, what is a false positive? \n",
    "##-A false positive would be that we predicted dog, but it was a cat. \n",
    "##(saying dog is positive)#2b.) In the context of this problem, what is a false negative? - \n",
    "##A false negative would be that we predicted cat, but it was a dog. (saying dog is positive)\n"
   ]
  },
  {
   "cell_type": "code",
   "execution_count": 3,
   "id": "2de1428b",
   "metadata": {},
   "outputs": [
    {
     "name": "stdout",
     "output_type": "stream",
     "text": [
      " the accuracy is 80.0%, precision is 77.97%, and recall is 86.79%\n"
     ]
    }
   ],
   "source": [
    "##2c.) How would you describe this model?\n",
    "tp = 46 #true positive\n",
    "tn = 34 #true negative\n",
    "fp = 13 #false positive\n",
    "fn = 7 #false negative\n",
    "\n",
    "accuracy = (tp + tn)/(tp+tn+fp+fn)\n",
    "precision = round(tp/(tp+fp),4)\n",
    "recall = round(tp/(tp+fn),4)\n",
    "\n",
    "print(f' the accuracy is {accuracy*100}%, precision is {precision*100}%, and recall is {recall*100}%')\n",
    "#The model is 80% accurate, and since its precision is lower than its recall, it is better at catching when it will be a dog."
   ]
  },
  {
   "cell_type": "markdown",
   "id": "642219ac",
   "metadata": {},
   "source": [
    "3.) You are working as a datascientist working for Codeup Cody Creator (C3 for short), a rubber-duck manufacturing plant. Unfortunately, some of the rubber ducks that are produced will have defects. Your team has built several models that try to predict those defects, and the data from their predictions can be found here.\n",
    "\n",
    "3a.) An internal team wants to investigate the cause of the manufacturing defects. They tell you that they want to identify as many of the ducks that have a defect as possible. Which evaluation metric would be appropriate here? Which model would be the best fit for this use case?"
   ]
  },
  {
   "cell_type": "markdown",
   "id": "3c9a724f",
   "metadata": {},
   "source": [
    "Recall tells us how many defects we were able to correctly predict, so we will test all these models to see which one \n",
    "has the highest recall rate."
   ]
  },
  {
   "cell_type": "code",
   "execution_count": 6,
   "id": "c001f317",
   "metadata": {},
   "outputs": [
    {
     "data": {
      "text/html": [
       "<div>\n",
       "<style scoped>\n",
       "    .dataframe tbody tr th:only-of-type {\n",
       "        vertical-align: middle;\n",
       "    }\n",
       "\n",
       "    .dataframe tbody tr th {\n",
       "        vertical-align: top;\n",
       "    }\n",
       "\n",
       "    .dataframe thead th {\n",
       "        text-align: right;\n",
       "    }\n",
       "</style>\n",
       "<table border=\"1\" class=\"dataframe\">\n",
       "  <thead>\n",
       "    <tr style=\"text-align: right;\">\n",
       "      <th></th>\n",
       "      <th>actual</th>\n",
       "      <th>model1</th>\n",
       "      <th>model2</th>\n",
       "      <th>model3</th>\n",
       "    </tr>\n",
       "  </thead>\n",
       "  <tbody>\n",
       "    <tr>\n",
       "      <th>0</th>\n",
       "      <td>No Defect</td>\n",
       "      <td>No Defect</td>\n",
       "      <td>Defect</td>\n",
       "      <td>No Defect</td>\n",
       "    </tr>\n",
       "    <tr>\n",
       "      <th>1</th>\n",
       "      <td>No Defect</td>\n",
       "      <td>No Defect</td>\n",
       "      <td>Defect</td>\n",
       "      <td>Defect</td>\n",
       "    </tr>\n",
       "    <tr>\n",
       "      <th>2</th>\n",
       "      <td>No Defect</td>\n",
       "      <td>No Defect</td>\n",
       "      <td>Defect</td>\n",
       "      <td>No Defect</td>\n",
       "    </tr>\n",
       "    <tr>\n",
       "      <th>3</th>\n",
       "      <td>No Defect</td>\n",
       "      <td>Defect</td>\n",
       "      <td>Defect</td>\n",
       "      <td>Defect</td>\n",
       "    </tr>\n",
       "    <tr>\n",
       "      <th>4</th>\n",
       "      <td>No Defect</td>\n",
       "      <td>No Defect</td>\n",
       "      <td>Defect</td>\n",
       "      <td>No Defect</td>\n",
       "    </tr>\n",
       "  </tbody>\n",
       "</table>\n",
       "</div>"
      ],
      "text/plain": [
       "      actual     model1  model2     model3\n",
       "0  No Defect  No Defect  Defect  No Defect\n",
       "1  No Defect  No Defect  Defect     Defect\n",
       "2  No Defect  No Defect  Defect  No Defect\n",
       "3  No Defect     Defect  Defect     Defect\n",
       "4  No Defect  No Defect  Defect  No Defect"
      ]
     },
     "execution_count": 6,
     "metadata": {},
     "output_type": "execute_result"
    }
   ],
   "source": [
    "c3 = pd.read_csv('c3.csv')\n",
    "c3.head()"
   ]
  },
  {
   "cell_type": "code",
   "execution_count": 7,
   "id": "9406419f",
   "metadata": {},
   "outputs": [
    {
     "name": "stdout",
     "output_type": "stream",
     "text": [
      "     actual     model1     model2     model3\n",
      "13   Defect  No Defect     Defect     Defect\n",
      "30   Defect     Defect  No Defect     Defect\n",
      "65   Defect     Defect     Defect     Defect\n",
      "70   Defect     Defect     Defect     Defect\n",
      "74   Defect  No Defect  No Defect     Defect\n",
      "87   Defect  No Defect     Defect     Defect\n",
      "118  Defect  No Defect     Defect  No Defect\n",
      "135  Defect     Defect  No Defect     Defect\n",
      "140  Defect  No Defect     Defect     Defect\n",
      "147  Defect     Defect  No Defect     Defect\n",
      "163  Defect     Defect     Defect     Defect\n",
      "171  Defect  No Defect     Defect     Defect\n",
      "176  Defect  No Defect     Defect     Defect\n",
      "186  Defect  No Defect  No Defect  No Defect\n",
      "194  Defect     Defect  No Defect     Defect\n",
      "196  Defect     Defect  No Defect  No Defect\n"
     ]
    },
    {
     "data": {
      "text/plain": [
       "0.5"
      ]
     },
     "execution_count": 7,
     "metadata": {},
     "output_type": "execute_result"
    }
   ],
   "source": [
    "#model 1\n",
    "subset = c3[c3.actual == 'Defect']\n",
    "print(subset)\n",
    "(subset.model1 == subset.actual).mean()\n",
    "#recall rate= 50%"
   ]
  },
  {
   "cell_type": "code",
   "execution_count": 8,
   "id": "15bbf6bd",
   "metadata": {},
   "outputs": [
    {
     "name": "stdout",
     "output_type": "stream",
     "text": [
      "     actual     model1     model2     model3\n",
      "13   Defect  No Defect     Defect     Defect\n",
      "30   Defect     Defect  No Defect     Defect\n",
      "65   Defect     Defect     Defect     Defect\n",
      "70   Defect     Defect     Defect     Defect\n",
      "74   Defect  No Defect  No Defect     Defect\n",
      "87   Defect  No Defect     Defect     Defect\n",
      "118  Defect  No Defect     Defect  No Defect\n",
      "135  Defect     Defect  No Defect     Defect\n",
      "140  Defect  No Defect     Defect     Defect\n",
      "147  Defect     Defect  No Defect     Defect\n",
      "163  Defect     Defect     Defect     Defect\n",
      "171  Defect  No Defect     Defect     Defect\n",
      "176  Defect  No Defect     Defect     Defect\n",
      "186  Defect  No Defect  No Defect  No Defect\n",
      "194  Defect     Defect  No Defect     Defect\n",
      "196  Defect     Defect  No Defect  No Defect\n"
     ]
    },
    {
     "data": {
      "text/plain": [
       "0.5625"
      ]
     },
     "execution_count": 8,
     "metadata": {},
     "output_type": "execute_result"
    }
   ],
   "source": [
    "#model 2\n",
    "subset = c3[c3.actual == 'Defect']\n",
    "print(subset)\n",
    "(subset.model2 == subset.actual).mean()\n",
    "#recall rate= 56.25%"
   ]
  },
  {
   "cell_type": "code",
   "execution_count": 9,
   "id": "57318c2f",
   "metadata": {},
   "outputs": [
    {
     "name": "stdout",
     "output_type": "stream",
     "text": [
      "     actual     model1     model2     model3\n",
      "13   Defect  No Defect     Defect     Defect\n",
      "30   Defect     Defect  No Defect     Defect\n",
      "65   Defect     Defect     Defect     Defect\n",
      "70   Defect     Defect     Defect     Defect\n",
      "74   Defect  No Defect  No Defect     Defect\n",
      "87   Defect  No Defect     Defect     Defect\n",
      "118  Defect  No Defect     Defect  No Defect\n",
      "135  Defect     Defect  No Defect     Defect\n",
      "140  Defect  No Defect     Defect     Defect\n",
      "147  Defect     Defect  No Defect     Defect\n",
      "163  Defect     Defect     Defect     Defect\n",
      "171  Defect  No Defect     Defect     Defect\n",
      "176  Defect  No Defect     Defect     Defect\n",
      "186  Defect  No Defect  No Defect  No Defect\n",
      "194  Defect     Defect  No Defect     Defect\n",
      "196  Defect     Defect  No Defect  No Defect\n"
     ]
    },
    {
     "data": {
      "text/plain": [
       "0.8125"
      ]
     },
     "execution_count": 9,
     "metadata": {},
     "output_type": "execute_result"
    }
   ],
   "source": [
    "#model 3\n",
    "subset = c3[c3.actual == 'Defect']\n",
    "print(subset)\n",
    "(subset.model3 == subset.actual).mean()\n",
    "#recall rate= 81.25%"
   ]
  },
  {
   "cell_type": "code",
   "execution_count": 11,
   "id": "dd9da4e6",
   "metadata": {},
   "outputs": [],
   "source": [
    "#Model 3 is the best at predicting defects, and being correct. We should use this one."
   ]
  },
  {
   "cell_type": "markdown",
   "id": "55b743ad",
   "metadata": {},
   "source": [
    "3b.) Recently several stories in the local news have come out highlighting customers who received a rubber duck with a defect, and portraying C3 in a bad light. The PR team has decided to launch a program that gives customers with a defective duck a vacation to Hawaii. They need you to predict which ducks will have defects, but tell you the really don't want to accidentally give out a vacation package when the duck really doesn't have a defect. Which evaluation metric would be appropriate here? Which model would be the best fit for this use case?"
   ]
  },
  {
   "cell_type": "code",
   "execution_count": 12,
   "id": "fd94febd",
   "metadata": {},
   "outputs": [],
   "source": [
    "#We want to find out which model has the best precision rate, because precision tells us how good/accurate\n",
    "#our defect predictions are"
   ]
  },
  {
   "cell_type": "code",
   "execution_count": 13,
   "id": "d983c24e",
   "metadata": {},
   "outputs": [
    {
     "name": "stdout",
     "output_type": "stream",
     "text": [
      "        actual  model1     model2     model3\n",
      "3    No Defect  Defect     Defect     Defect\n",
      "30      Defect  Defect  No Defect     Defect\n",
      "62   No Defect  Defect  No Defect  No Defect\n",
      "65      Defect  Defect     Defect     Defect\n",
      "70      Defect  Defect     Defect     Defect\n",
      "135     Defect  Defect  No Defect     Defect\n",
      "147     Defect  Defect  No Defect     Defect\n",
      "163     Defect  Defect     Defect     Defect\n",
      "194     Defect  Defect  No Defect     Defect\n",
      "196     Defect  Defect  No Defect  No Defect\n"
     ]
    },
    {
     "data": {
      "text/plain": [
       "0.8"
      ]
     },
     "execution_count": 13,
     "metadata": {},
     "output_type": "execute_result"
    }
   ],
   "source": [
    "#model 1\n",
    "subset = c3[c3.model1 == 'Defect']\n",
    "print(subset)\n",
    "(subset.model1 == subset.actual).mean()\n",
    "#model 1 has an 80% precision rate"
   ]
  },
  {
   "cell_type": "code",
   "execution_count": 14,
   "id": "9258edea",
   "metadata": {},
   "outputs": [
    {
     "name": "stdout",
     "output_type": "stream",
     "text": [
      "        actual     model1  model2     model3\n",
      "0    No Defect  No Defect  Defect  No Defect\n",
      "1    No Defect  No Defect  Defect     Defect\n",
      "2    No Defect  No Defect  Defect  No Defect\n",
      "3    No Defect     Defect  Defect     Defect\n",
      "4    No Defect  No Defect  Defect  No Defect\n",
      "..         ...        ...     ...        ...\n",
      "183  No Defect  No Defect  Defect  No Defect\n",
      "185  No Defect  No Defect  Defect  No Defect\n",
      "193  No Defect  No Defect  Defect     Defect\n",
      "195  No Defect  No Defect  Defect     Defect\n",
      "198  No Defect  No Defect  Defect     Defect\n",
      "\n",
      "[90 rows x 4 columns]\n"
     ]
    },
    {
     "data": {
      "text/plain": [
       "0.1"
      ]
     },
     "execution_count": 14,
     "metadata": {},
     "output_type": "execute_result"
    }
   ],
   "source": [
    "#model 2\n",
    "subset = c3[c3.model2 == 'Defect']\n",
    "print(subset)\n",
    "(subset.model2 == subset.actual).mean()\n",
    "#model 1 has an 10% precision rate"
   ]
  },
  {
   "cell_type": "code",
   "execution_count": 15,
   "id": "abbf3785",
   "metadata": {},
   "outputs": [
    {
     "name": "stdout",
     "output_type": "stream",
     "text": [
      "        actual     model1     model2  model3\n",
      "1    No Defect  No Defect     Defect  Defect\n",
      "3    No Defect     Defect     Defect  Defect\n",
      "5    No Defect  No Defect  No Defect  Defect\n",
      "9    No Defect  No Defect  No Defect  Defect\n",
      "13      Defect  No Defect     Defect  Defect\n",
      "..         ...        ...        ...     ...\n",
      "193  No Defect  No Defect     Defect  Defect\n",
      "194     Defect     Defect  No Defect  Defect\n",
      "195  No Defect  No Defect     Defect  Defect\n",
      "198  No Defect  No Defect     Defect  Defect\n",
      "199  No Defect  No Defect  No Defect  Defect\n",
      "\n",
      "[99 rows x 4 columns]\n"
     ]
    },
    {
     "data": {
      "text/plain": [
       "0.13131313131313133"
      ]
     },
     "execution_count": 15,
     "metadata": {},
     "output_type": "execute_result"
    }
   ],
   "source": [
    "#model 3\n",
    "subset = c3[c3.model3 == 'Defect']\n",
    "print(subset)\n",
    "(subset.model3 == subset.actual).mean()\n",
    "#model 1 has an 13.1% precision rate\n"
   ]
  },
  {
   "cell_type": "code",
   "execution_count": 16,
   "id": "2cadf2ae",
   "metadata": {},
   "outputs": [],
   "source": [
    "#We should use model 1 for this case."
   ]
  },
  {
   "cell_type": "markdown",
   "id": "6e55328f",
   "metadata": {},
   "source": [
    "4.) You are working as a data scientist for Gives You Paws ™, a subscription based service that shows you cute pictures of dogs or cats (or both for an additional fee). At Gives You Paws, anyone can upload pictures of their cats or dogs. The photos are then put through a two step process. First an automated algorithm tags pictures as either a cat or a dog (Phase I). Next, the photos that have been initially identified are put through another round of review, possibly with some human oversight, before being presented to the users (Phase II). Several models have already been developed with the data, and you can find their results here."
   ]
  },
  {
   "cell_type": "code",
   "execution_count": 17,
   "id": "dcf9ab50",
   "metadata": {},
   "outputs": [
    {
     "data": {
      "text/html": [
       "<div>\n",
       "<style scoped>\n",
       "    .dataframe tbody tr th:only-of-type {\n",
       "        vertical-align: middle;\n",
       "    }\n",
       "\n",
       "    .dataframe tbody tr th {\n",
       "        vertical-align: top;\n",
       "    }\n",
       "\n",
       "    .dataframe thead th {\n",
       "        text-align: right;\n",
       "    }\n",
       "</style>\n",
       "<table border=\"1\" class=\"dataframe\">\n",
       "  <thead>\n",
       "    <tr style=\"text-align: right;\">\n",
       "      <th></th>\n",
       "      <th>actual</th>\n",
       "      <th>model1</th>\n",
       "      <th>model2</th>\n",
       "      <th>model3</th>\n",
       "      <th>model4</th>\n",
       "    </tr>\n",
       "  </thead>\n",
       "  <tbody>\n",
       "    <tr>\n",
       "      <th>0</th>\n",
       "      <td>cat</td>\n",
       "      <td>cat</td>\n",
       "      <td>dog</td>\n",
       "      <td>cat</td>\n",
       "      <td>dog</td>\n",
       "    </tr>\n",
       "    <tr>\n",
       "      <th>1</th>\n",
       "      <td>dog</td>\n",
       "      <td>dog</td>\n",
       "      <td>cat</td>\n",
       "      <td>cat</td>\n",
       "      <td>dog</td>\n",
       "    </tr>\n",
       "    <tr>\n",
       "      <th>2</th>\n",
       "      <td>dog</td>\n",
       "      <td>cat</td>\n",
       "      <td>cat</td>\n",
       "      <td>cat</td>\n",
       "      <td>dog</td>\n",
       "    </tr>\n",
       "    <tr>\n",
       "      <th>3</th>\n",
       "      <td>dog</td>\n",
       "      <td>dog</td>\n",
       "      <td>dog</td>\n",
       "      <td>cat</td>\n",
       "      <td>dog</td>\n",
       "    </tr>\n",
       "    <tr>\n",
       "      <th>4</th>\n",
       "      <td>cat</td>\n",
       "      <td>cat</td>\n",
       "      <td>cat</td>\n",
       "      <td>dog</td>\n",
       "      <td>dog</td>\n",
       "    </tr>\n",
       "  </tbody>\n",
       "</table>\n",
       "</div>"
      ],
      "text/plain": [
       "  actual model1 model2 model3 model4\n",
       "0    cat    cat    dog    cat    dog\n",
       "1    dog    dog    cat    cat    dog\n",
       "2    dog    cat    cat    cat    dog\n",
       "3    dog    dog    dog    cat    dog\n",
       "4    cat    cat    cat    dog    dog"
      ]
     },
     "execution_count": 17,
     "metadata": {},
     "output_type": "execute_result"
    }
   ],
   "source": [
    "paws = pd.read_csv('gives_you_paws.csv')\n",
    "paws.head()"
   ]
  },
  {
   "cell_type": "code",
   "execution_count": 19,
   "id": "1ca17737",
   "metadata": {},
   "outputs": [],
   "source": [
    "paws['baseline'] = 'dog'"
   ]
  },
  {
   "cell_type": "code",
   "execution_count": 20,
   "id": "3eabd78a",
   "metadata": {},
   "outputs": [
    {
     "data": {
      "text/html": [
       "<div>\n",
       "<style scoped>\n",
       "    .dataframe tbody tr th:only-of-type {\n",
       "        vertical-align: middle;\n",
       "    }\n",
       "\n",
       "    .dataframe tbody tr th {\n",
       "        vertical-align: top;\n",
       "    }\n",
       "\n",
       "    .dataframe thead th {\n",
       "        text-align: right;\n",
       "    }\n",
       "</style>\n",
       "<table border=\"1\" class=\"dataframe\">\n",
       "  <thead>\n",
       "    <tr style=\"text-align: right;\">\n",
       "      <th></th>\n",
       "      <th>actual</th>\n",
       "      <th>model1</th>\n",
       "      <th>model2</th>\n",
       "      <th>model3</th>\n",
       "      <th>model4</th>\n",
       "      <th>baseline</th>\n",
       "    </tr>\n",
       "  </thead>\n",
       "  <tbody>\n",
       "    <tr>\n",
       "      <th>0</th>\n",
       "      <td>cat</td>\n",
       "      <td>cat</td>\n",
       "      <td>dog</td>\n",
       "      <td>cat</td>\n",
       "      <td>dog</td>\n",
       "      <td>dog</td>\n",
       "    </tr>\n",
       "    <tr>\n",
       "      <th>1</th>\n",
       "      <td>dog</td>\n",
       "      <td>dog</td>\n",
       "      <td>cat</td>\n",
       "      <td>cat</td>\n",
       "      <td>dog</td>\n",
       "      <td>dog</td>\n",
       "    </tr>\n",
       "    <tr>\n",
       "      <th>2</th>\n",
       "      <td>dog</td>\n",
       "      <td>cat</td>\n",
       "      <td>cat</td>\n",
       "      <td>cat</td>\n",
       "      <td>dog</td>\n",
       "      <td>dog</td>\n",
       "    </tr>\n",
       "    <tr>\n",
       "      <th>3</th>\n",
       "      <td>dog</td>\n",
       "      <td>dog</td>\n",
       "      <td>dog</td>\n",
       "      <td>cat</td>\n",
       "      <td>dog</td>\n",
       "      <td>dog</td>\n",
       "    </tr>\n",
       "    <tr>\n",
       "      <th>4</th>\n",
       "      <td>cat</td>\n",
       "      <td>cat</td>\n",
       "      <td>cat</td>\n",
       "      <td>dog</td>\n",
       "      <td>dog</td>\n",
       "      <td>dog</td>\n",
       "    </tr>\n",
       "  </tbody>\n",
       "</table>\n",
       "</div>"
      ],
      "text/plain": [
       "  actual model1 model2 model3 model4 baseline\n",
       "0    cat    cat    dog    cat    dog      dog\n",
       "1    dog    dog    cat    cat    dog      dog\n",
       "2    dog    cat    cat    cat    dog      dog\n",
       "3    dog    dog    dog    cat    dog      dog\n",
       "4    cat    cat    cat    dog    dog      dog"
      ]
     },
     "execution_count": 20,
     "metadata": {},
     "output_type": "execute_result"
    }
   ],
   "source": [
    "paws.head()"
   ]
  },
  {
   "cell_type": "code",
   "execution_count": 21,
   "id": "85fc119b",
   "metadata": {},
   "outputs": [
    {
     "name": "stdout",
     "output_type": "stream",
     "text": [
      "\n",
      "positive: dog\n",
      "\n",
      "         | accuracy | recall | precision\n",
      "         | -------- | ------ | ---------         \n",
      "   model1|    80.7% |  80.3% |     89.0%\n",
      "baseline |    65.1% | 100.0% |     65.1%\n"
     ]
    }
   ],
   "source": [
    "positive = 'dog'\n",
    "\n",
    "# accuracy -- overall hit rate\n",
    "model_accuracy = (paws.model1 == paws.actual).mean()\n",
    "baseline_accuracy = (paws.baseline == paws.actual).mean()\n",
    "\n",
    "# precision -- how good are our positive predictions?\n",
    "# precision -- model performance | predicted positive\n",
    "subset = paws[paws.model1 == positive]\n",
    "model_precision = (subset.model1 == subset.actual).mean()\n",
    "subset = paws[paws.baseline == positive]\n",
    "baseline_precision = (subset.baseline == subset.actual).mean()\n",
    "\n",
    "# recall -- how good are we at detecting actual positives?\n",
    "# recall -- model performance | actual positive\n",
    "subset = paws[paws.actual == positive]\n",
    "model_recall = (subset.model1 == subset.actual).mean()\n",
    "baseline_recall = (subset.baseline == subset.actual).mean()\n",
    "\n",
    "\n",
    "print(f'''\n",
    "positive: {positive}\n",
    "\n",
    "         | accuracy | recall | precision\n",
    "         | -------- | ------ | ---------         \n",
    "   model1| {model_accuracy:8.1%} | {model_recall:6.1%} | {model_precision:9.1%}\n",
    "baseline | {baseline_accuracy:8.1%} | {baseline_recall:6.1%} | {baseline_precision:9.1%}''')"
   ]
  },
  {
   "cell_type": "code",
   "execution_count": 22,
   "id": "8422c9de",
   "metadata": {},
   "outputs": [
    {
     "name": "stdout",
     "output_type": "stream",
     "text": [
      "\n",
      "positive: dog\n",
      "\n",
      "         | accuracy | recall | precision\n",
      "         | -------- | ------ | ---------         \n",
      "   model2|    63.0% |  49.1% |     89.3%\n",
      "baseline |    65.1% | 100.0% |     65.1%\n"
     ]
    }
   ],
   "source": [
    "positive = 'dog'\n",
    "\n",
    "# accuracy -- overall hit rate\n",
    "model_accuracy = (paws.model2 == paws.actual).mean()\n",
    "baseline_accuracy = (paws.baseline == paws.actual).mean()\n",
    "\n",
    "# precision -- how good are our positive predictions?\n",
    "# precision -- model performance | predicted positive\n",
    "subset = paws[paws.model2 == positive]\n",
    "model_precision = (subset.model2 == subset.actual).mean()\n",
    "subset = paws[paws.baseline == positive]\n",
    "baseline_precision = (subset.baseline == subset.actual).mean()\n",
    "\n",
    "# recall -- how good are we at detecting actual positives?\n",
    "# recall -- model performance | actual positive\n",
    "subset = paws[paws.actual == positive]\n",
    "model_recall = (subset.model2 == subset.actual).mean()\n",
    "baseline_recall = (subset.baseline == subset.actual).mean()\n",
    "\n",
    "\n",
    "print(f'''\n",
    "positive: {positive}\n",
    "\n",
    "         | accuracy | recall | precision\n",
    "         | -------- | ------ | ---------         \n",
    "   model2| {model_accuracy:8.1%} | {model_recall:6.1%} | {model_precision:9.1%}\n",
    "baseline | {baseline_accuracy:8.1%} | {baseline_recall:6.1%} | {baseline_precision:9.1%}''')"
   ]
  },
  {
   "cell_type": "code",
   "execution_count": 23,
   "id": "abd2cfd4",
   "metadata": {},
   "outputs": [
    {
     "name": "stdout",
     "output_type": "stream",
     "text": [
      "\n",
      "positive: dog\n",
      "\n",
      "         | accuracy | recall | precision\n",
      "         | -------- | ------ | ---------         \n",
      "   model3|    51.0% |  50.9% |     66.0%\n",
      "baseline |    65.1% | 100.0% |     65.1%\n"
     ]
    }
   ],
   "source": [
    "positive = 'dog'\n",
    "\n",
    "# accuracy -- overall hit rate\n",
    "model_accuracy = (paws.model3 == paws.actual).mean()\n",
    "baseline_accuracy = (paws.baseline == paws.actual).mean()\n",
    "\n",
    "# precision -- how good are our positive predictions?\n",
    "# precision -- model performance | predicted positive\n",
    "subset = paws[paws.model3 == positive]\n",
    "model_precision = (subset.model3 == subset.actual).mean()\n",
    "subset = paws[paws.baseline == positive]\n",
    "baseline_precision = (subset.baseline == subset.actual).mean()\n",
    "\n",
    "# recall -- how good are we at detecting actual positives?\n",
    "# recall -- model performance | actual positive\n",
    "subset = paws[paws.actual == positive]\n",
    "model_recall = (subset.model3 == subset.actual).mean()\n",
    "baseline_recall = (subset.baseline == subset.actual).mean()\n",
    "\n",
    "\n",
    "print(f'''\n",
    "positive: {positive}\n",
    "\n",
    "         | accuracy | recall | precision\n",
    "         | -------- | ------ | ---------         \n",
    "   model3| {model_accuracy:8.1%} | {model_recall:6.1%} | {model_precision:9.1%}\n",
    "baseline | {baseline_accuracy:8.1%} | {baseline_recall:6.1%} | {baseline_precision:9.1%}''')"
   ]
  },
  {
   "cell_type": "code",
   "execution_count": 24,
   "id": "b18d0029",
   "metadata": {},
   "outputs": [
    {
     "name": "stdout",
     "output_type": "stream",
     "text": [
      "\n",
      "positive: dog\n",
      "\n",
      "         | accuracy | recall | precision\n",
      "         | -------- | ------ | ---------         \n",
      "   model4|    74.3% |  95.6% |     73.1%\n",
      "baseline |    65.1% | 100.0% |     65.1%\n"
     ]
    }
   ],
   "source": [
    "positive = 'dog'\n",
    "\n",
    "# accuracy -- overall hit rate\n",
    "model_accuracy = (paws.model4 == paws.actual).mean()\n",
    "baseline_accuracy = (paws.baseline == paws.actual).mean()\n",
    "\n",
    "# precision -- how good are our positive predictions?\n",
    "# precision -- model performance | predicted positive\n",
    "subset = paws[paws.model4 == positive]\n",
    "model_precision = (subset.model4 == subset.actual).mean()\n",
    "subset = paws[paws.baseline == positive]\n",
    "baseline_precision = (subset.baseline == subset.actual).mean()\n",
    "\n",
    "# recall -- how good are we at detecting actual positives?\n",
    "# recall -- model performance | actual positive\n",
    "subset = paws[paws.actual == positive]\n",
    "model_recall = (subset.model4 == subset.actual).mean()\n",
    "baseline_recall = (subset.baseline == subset.actual).mean()\n",
    "\n",
    "\n",
    "print(f'''\n",
    "positive: {positive}\n",
    "\n",
    "         | accuracy | recall | precision\n",
    "         | -------- | ------ | ---------         \n",
    "   model4| {model_accuracy:8.1%} | {model_recall:6.1%} | {model_precision:9.1%}\n",
    "baseline | {baseline_accuracy:8.1%} | {baseline_recall:6.1%} | {baseline_precision:9.1%}''')"
   ]
  },
  {
   "cell_type": "code",
   "execution_count": 25,
   "id": "8b2a498b",
   "metadata": {},
   "outputs": [],
   "source": [
    "#model 1 and model 4 seem to be better than the baseline."
   ]
  },
  {
   "cell_type": "markdown",
   "id": "f37e8261",
   "metadata": {},
   "source": [
    "4b.) Suppose you are working on a team that solely deals with dog pictures. Which of these models would you recomend for Phase I? For Phase II?"
   ]
  },
  {
   "cell_type": "code",
   "execution_count": 26,
   "id": "87255842",
   "metadata": {},
   "outputs": [
    {
     "name": "stdout",
     "output_type": "stream",
     "text": [
      "accuracy of model 1 is 80.74%\n"
     ]
    }
   ],
   "source": [
    "#for phase 1 we want a high accuracy.\n",
    "print(f'accuracy of model 1 is {(paws.actual == paws.model1).mean()*100}%')"
   ]
  },
  {
   "cell_type": "code",
   "execution_count": 27,
   "id": "03c8a9d6",
   "metadata": {},
   "outputs": [
    {
     "name": "stdout",
     "output_type": "stream",
     "text": [
      "accuracy of model 2 is 63.04%\n"
     ]
    }
   ],
   "source": [
    "print(f'accuracy of model 2 is {(paws.actual == paws.model2).mean()*100}%')"
   ]
  },
  {
   "cell_type": "code",
   "execution_count": 28,
   "id": "79ac5df7",
   "metadata": {},
   "outputs": [
    {
     "name": "stdout",
     "output_type": "stream",
     "text": [
      "accuracy of model 3 is 50.96000000000001%\n"
     ]
    }
   ],
   "source": [
    "print(f'accuracy of model 3 is {(paws.actual == paws.model3).mean()*100}%')"
   ]
  },
  {
   "cell_type": "code",
   "execution_count": 29,
   "id": "04b597d1",
   "metadata": {},
   "outputs": [
    {
     "name": "stdout",
     "output_type": "stream",
     "text": [
      "accuracy of model 4 is 74.26%\n"
     ]
    }
   ],
   "source": [
    "print(f'accuracy of model 4 is {(paws.actual == paws.model4).mean()*100}%')"
   ]
  },
  {
   "cell_type": "code",
   "execution_count": 30,
   "id": "5aca87a3",
   "metadata": {},
   "outputs": [],
   "source": [
    "#I would recommend model 1 for phase 1."
   ]
  },
  {
   "cell_type": "code",
   "execution_count": 31,
   "id": "96d7972c",
   "metadata": {},
   "outputs": [],
   "source": [
    "#for phase 2 we want a high recall."
   ]
  },
  {
   "cell_type": "code",
   "execution_count": 32,
   "id": "832115cc",
   "metadata": {},
   "outputs": [
    {
     "name": "stdout",
     "output_type": "stream",
     "text": [
      "     actual model1 model2 model3 model4 baseline\n",
      "1       dog    dog    cat    cat    dog      dog\n",
      "2       dog    cat    cat    cat    dog      dog\n",
      "3       dog    dog    dog    cat    dog      dog\n",
      "5       dog    dog    dog    dog    dog      dog\n",
      "8       dog    dog    cat    dog    dog      dog\n",
      "...     ...    ...    ...    ...    ...      ...\n",
      "4993    dog    dog    cat    dog    dog      dog\n",
      "4995    dog    dog    dog    dog    dog      dog\n",
      "4996    dog    dog    cat    cat    dog      dog\n",
      "4997    dog    cat    cat    dog    dog      dog\n",
      "4999    dog    dog    dog    dog    dog      dog\n",
      "\n",
      "[3254 rows x 6 columns]\n",
      "model 1 has a recall rate of 80.33%\n"
     ]
    }
   ],
   "source": [
    "subset = paws[paws.actual == 'dog']\n",
    "print(subset)\n",
    "(subset.model1 == subset.actual).mean()\n",
    "print(f'model 1 has a recall rate of {round((subset.model1 == subset.actual).mean(),4)*100}%')"
   ]
  },
  {
   "cell_type": "code",
   "execution_count": 33,
   "id": "7bfd7f66",
   "metadata": {},
   "outputs": [
    {
     "name": "stdout",
     "output_type": "stream",
     "text": [
      "     actual model1 model2 model3 model4 baseline\n",
      "1       dog    dog    cat    cat    dog      dog\n",
      "2       dog    cat    cat    cat    dog      dog\n",
      "3       dog    dog    dog    cat    dog      dog\n",
      "5       dog    dog    dog    dog    dog      dog\n",
      "8       dog    dog    cat    dog    dog      dog\n",
      "...     ...    ...    ...    ...    ...      ...\n",
      "4993    dog    dog    cat    dog    dog      dog\n",
      "4995    dog    dog    dog    dog    dog      dog\n",
      "4996    dog    dog    cat    cat    dog      dog\n",
      "4997    dog    cat    cat    dog    dog      dog\n",
      "4999    dog    dog    dog    dog    dog      dog\n",
      "\n",
      "[3254 rows x 6 columns]\n",
      "model 2 has a recall rate of 49.08%\n"
     ]
    }
   ],
   "source": [
    "subset = paws[paws.actual == 'dog']\n",
    "print(subset)\n",
    "(subset.model2 == subset.actual).mean()\n",
    "print(f'model 2 has a recall rate of {round((subset.model2 == subset.actual).mean(),4)*100}%')"
   ]
  },
  {
   "cell_type": "code",
   "execution_count": 34,
   "id": "7214079c",
   "metadata": {},
   "outputs": [
    {
     "name": "stdout",
     "output_type": "stream",
     "text": [
      "     actual model1 model2 model3 model4 baseline\n",
      "1       dog    dog    cat    cat    dog      dog\n",
      "2       dog    cat    cat    cat    dog      dog\n",
      "3       dog    dog    dog    cat    dog      dog\n",
      "5       dog    dog    dog    dog    dog      dog\n",
      "8       dog    dog    cat    dog    dog      dog\n",
      "...     ...    ...    ...    ...    ...      ...\n",
      "4993    dog    dog    cat    dog    dog      dog\n",
      "4995    dog    dog    dog    dog    dog      dog\n",
      "4996    dog    dog    cat    cat    dog      dog\n",
      "4997    dog    cat    cat    dog    dog      dog\n",
      "4999    dog    dog    dog    dog    dog      dog\n",
      "\n",
      "[3254 rows x 6 columns]\n",
      "model 3 has a recall rate of 50.86000000000001%\n"
     ]
    }
   ],
   "source": [
    "subset = paws[paws.actual == 'dog']\n",
    "print(subset)\n",
    "(subset.model3 == subset.actual).mean()\n",
    "print(f'model 3 has a recall rate of {round((subset.model3 == subset.actual).mean(),4)*100}%')"
   ]
  },
  {
   "cell_type": "code",
   "execution_count": 35,
   "id": "9a4fc328",
   "metadata": {},
   "outputs": [
    {
     "name": "stdout",
     "output_type": "stream",
     "text": [
      "     actual model1 model2 model3 model4 baseline\n",
      "1       dog    dog    cat    cat    dog      dog\n",
      "2       dog    cat    cat    cat    dog      dog\n",
      "3       dog    dog    dog    cat    dog      dog\n",
      "5       dog    dog    dog    dog    dog      dog\n",
      "8       dog    dog    cat    dog    dog      dog\n",
      "...     ...    ...    ...    ...    ...      ...\n",
      "4993    dog    dog    cat    dog    dog      dog\n",
      "4995    dog    dog    dog    dog    dog      dog\n",
      "4996    dog    dog    cat    cat    dog      dog\n",
      "4997    dog    cat    cat    dog    dog      dog\n",
      "4999    dog    dog    dog    dog    dog      dog\n",
      "\n",
      "[3254 rows x 6 columns]\n",
      "model 4 has a recall rate of 95.57%\n"
     ]
    }
   ],
   "source": [
    "subset = paws[paws.actual == 'dog']\n",
    "print(subset)\n",
    "(subset.model4 == subset.actual).mean()\n",
    "print(f'model 4 has a recall rate of {round((subset.model4 == subset.actual).mean(),4)*100}%')"
   ]
  },
  {
   "cell_type": "code",
   "execution_count": 36,
   "id": "4b4f45ea",
   "metadata": {},
   "outputs": [],
   "source": [
    "#I would pick model 4 for phase 2, it has the highest recall rate."
   ]
  },
  {
   "cell_type": "markdown",
   "id": "2892d75c",
   "metadata": {},
   "source": [
    "4c.) Suppose you are working on a team that solely deals with cat pictures. Which of these models would you recomend for Phase I? For Phase II?"
   ]
  },
  {
   "cell_type": "code",
   "execution_count": 37,
   "id": "16468cf9",
   "metadata": {},
   "outputs": [],
   "source": [
    "#Since phase 1 is still dealing with both cats and dogs initially, we would still want model 1 for its high accuracy."
   ]
  },
  {
   "cell_type": "code",
   "execution_count": 38,
   "id": "5c4f0546",
   "metadata": {},
   "outputs": [
    {
     "name": "stdout",
     "output_type": "stream",
     "text": [
      "accuracy of model 1 is 80.74%\n",
      "accuracy of model 2 is 63.04%\n",
      "accuracy of model 3 is 50.96000000000001%\n",
      "accuracy of model 4 is 74.26%\n"
     ]
    }
   ],
   "source": [
    "print(f'accuracy of model 1 is {(paws.actual == paws.model1).mean()*100}%')\n",
    "print(f'accuracy of model 2 is {(paws.actual == paws.model2).mean()*100}%')\n",
    "print(f'accuracy of model 3 is {(paws.actual == paws.model3).mean()*100}%')\n",
    "print(f'accuracy of model 4 is {(paws.actual == paws.model4).mean()*100}%')"
   ]
  },
  {
   "cell_type": "code",
   "execution_count": 39,
   "id": "582ca045",
   "metadata": {},
   "outputs": [
    {
     "name": "stdout",
     "output_type": "stream",
     "text": [
      "     actual model1 model2 model3 model4 baseline\n",
      "0       cat    cat    dog    cat    dog      dog\n",
      "4       cat    cat    cat    dog    dog      dog\n",
      "6       cat    cat    cat    cat    dog      dog\n",
      "7       cat    dog    cat    cat    dog      dog\n",
      "11      cat    cat    dog    cat    cat      dog\n",
      "...     ...    ...    ...    ...    ...      ...\n",
      "4987    cat    dog    cat    dog    dog      dog\n",
      "4989    cat    cat    cat    dog    cat      dog\n",
      "4991    cat    cat    cat    cat    dog      dog\n",
      "4994    cat    cat    cat    dog    dog      dog\n",
      "4998    cat    cat    cat    cat    dog      dog\n",
      "\n",
      "[1746 rows x 6 columns]\n",
      "model 1 has a recall rate of 81.5%\n"
     ]
    }
   ],
   "source": [
    "# for phase 2 we are going to find the highest recall value for cats.\n",
    "subset = paws[paws.actual == 'cat']\n",
    "print(subset)\n",
    "(subset.model1 == subset.actual).mean()\n",
    "print(f'model 1 has a recall rate of {round((subset.model1 == subset.actual).mean(),4)*100}%')"
   ]
  },
  {
   "cell_type": "code",
   "execution_count": 40,
   "id": "60ab4bbd",
   "metadata": {},
   "outputs": [
    {
     "name": "stdout",
     "output_type": "stream",
     "text": [
      "     actual model1 model2 model3 model4 baseline\n",
      "0       cat    cat    dog    cat    dog      dog\n",
      "4       cat    cat    cat    dog    dog      dog\n",
      "6       cat    cat    cat    cat    dog      dog\n",
      "7       cat    dog    cat    cat    dog      dog\n",
      "11      cat    cat    dog    cat    cat      dog\n",
      "...     ...    ...    ...    ...    ...      ...\n",
      "4987    cat    dog    cat    dog    dog      dog\n",
      "4989    cat    cat    cat    dog    cat      dog\n",
      "4991    cat    cat    cat    cat    dog      dog\n",
      "4994    cat    cat    cat    dog    dog      dog\n",
      "4998    cat    cat    cat    cat    dog      dog\n",
      "\n",
      "[1746 rows x 6 columns]\n",
      "model 2 has a recall rate of 89.1%\n"
     ]
    }
   ],
   "source": [
    "subset = paws[paws.actual == 'cat']\n",
    "print(subset)\n",
    "(subset.model1 == subset.actual).mean()\n",
    "print(f'model 2 has a recall rate of {round((subset.model2 == subset.actual).mean(),3)*100}%')"
   ]
  },
  {
   "cell_type": "code",
   "execution_count": 41,
   "id": "a4b53ddf",
   "metadata": {},
   "outputs": [
    {
     "name": "stdout",
     "output_type": "stream",
     "text": [
      "     actual model1 model2 model3 model4 baseline\n",
      "0       cat    cat    dog    cat    dog      dog\n",
      "4       cat    cat    cat    dog    dog      dog\n",
      "6       cat    cat    cat    cat    dog      dog\n",
      "7       cat    dog    cat    cat    dog      dog\n",
      "11      cat    cat    dog    cat    cat      dog\n",
      "...     ...    ...    ...    ...    ...      ...\n",
      "4987    cat    dog    cat    dog    dog      dog\n",
      "4989    cat    cat    cat    dog    cat      dog\n",
      "4991    cat    cat    cat    cat    dog      dog\n",
      "4994    cat    cat    cat    dog    dog      dog\n",
      "4998    cat    cat    cat    cat    dog      dog\n",
      "\n",
      "[1746 rows x 6 columns]\n",
      "model 3 has a recall rate of 51.1%\n"
     ]
    }
   ],
   "source": [
    "subset = paws[paws.actual == 'cat']\n",
    "print(subset)\n",
    "(subset.model1 == subset.actual).mean()\n",
    "print(f'model 3 has a recall rate of {round((subset.model3 == subset.actual).mean(),3)*100}%')"
   ]
  },
  {
   "cell_type": "code",
   "execution_count": 42,
   "id": "38e72c8d",
   "metadata": {},
   "outputs": [
    {
     "name": "stdout",
     "output_type": "stream",
     "text": [
      "     actual model1 model2 model3 model4 baseline\n",
      "0       cat    cat    dog    cat    dog      dog\n",
      "4       cat    cat    cat    dog    dog      dog\n",
      "6       cat    cat    cat    cat    dog      dog\n",
      "7       cat    dog    cat    cat    dog      dog\n",
      "11      cat    cat    dog    cat    cat      dog\n",
      "...     ...    ...    ...    ...    ...      ...\n",
      "4987    cat    dog    cat    dog    dog      dog\n",
      "4989    cat    cat    cat    dog    cat      dog\n",
      "4991    cat    cat    cat    cat    dog      dog\n",
      "4994    cat    cat    cat    dog    dog      dog\n",
      "4998    cat    cat    cat    cat    dog      dog\n",
      "\n",
      "[1746 rows x 6 columns]\n",
      "model 4 has a recall rate of 34.5%\n"
     ]
    }
   ],
   "source": [
    "subset = paws[paws.actual == 'cat']\n",
    "print(subset)\n",
    "(subset.model1 == subset.actual).mean()\n",
    "print(f'model 4 has a recall rate of {round((subset.model4 == subset.actual).mean(),3)*100}%')"
   ]
  },
  {
   "cell_type": "code",
   "execution_count": 44,
   "id": "4919d126",
   "metadata": {},
   "outputs": [],
   "source": [
    "#I would pick model 2 for phase 2 if I was working solely with cats."
   ]
  },
  {
   "cell_type": "markdown",
   "id": "8e1b621a",
   "metadata": {},
   "source": [
    "5.) Follow the links below to read the documentation about each function, then apply those functions to the data from the previous problem."
   ]
  },
  {
   "cell_type": "code",
   "execution_count": 51,
   "id": "2ed036e7",
   "metadata": {},
   "outputs": [],
   "source": [
    "from sklearn.metrics import accuracy_score\n",
    "#computes subset accuracy: the set of predictions for a sample must match exactly the labels in actual."
   ]
  },
  {
   "cell_type": "code",
   "execution_count": 54,
   "id": "e925ec71",
   "metadata": {},
   "outputs": [
    {
     "ename": "NameError",
     "evalue": "name 'sklearn' is not defined",
     "output_type": "error",
     "traceback": [
      "\u001b[0;31m---------------------------------------------------------------------------\u001b[0m",
      "\u001b[0;31mNameError\u001b[0m                                 Traceback (most recent call last)",
      "\u001b[0;32m<ipython-input-54-f4446892e5eb>\u001b[0m in \u001b[0;36m<module>\u001b[0;34m\u001b[0m\n\u001b[0;32m----> 1\u001b[0;31m \u001b[0msklearn\u001b[0m\u001b[0;34m.\u001b[0m\u001b[0mmetrics\u001b[0m\u001b[0;34m.\u001b[0m\u001b[0maccuracy_score\u001b[0m\u001b[0;34m(\u001b[0m\u001b[0mpaws\u001b[0m\u001b[0;34m.\u001b[0m\u001b[0mactual\u001b[0m\u001b[0;34m,\u001b[0m \u001b[0mpaws\u001b[0m\u001b[0;34m.\u001b[0m\u001b[0mbaseline\u001b[0m\u001b[0;34m,\u001b[0m \u001b[0mnormalize\u001b[0m\u001b[0;34m=\u001b[0m\u001b[0;32mTrue\u001b[0m\u001b[0;34m,\u001b[0m \u001b[0msample_weight\u001b[0m\u001b[0;34m=\u001b[0m\u001b[0;32mNone\u001b[0m\u001b[0;34m)\u001b[0m \u001b[0;31m#testing\u001b[0m\u001b[0;34m\u001b[0m\u001b[0;34m\u001b[0m\u001b[0m\n\u001b[0m",
      "\u001b[0;31mNameError\u001b[0m: name 'sklearn' is not defined"
     ]
    }
   ],
   "source": [
    "sklearn.metrics.accuracy_score(paws.actual, paws.baseline, normalize=True, sample_weight=None) #testing"
   ]
  },
  {
   "cell_type": "code",
   "execution_count": 55,
   "id": "d9402ba7",
   "metadata": {},
   "outputs": [],
   "source": [
    "y_pred1 = paws.model1\n",
    "y_pred2 = paws.model2\n",
    "y_pred3 = paws.model3\n",
    "y_pred4 = paws.model4\n",
    "y_true = paws.actual"
   ]
  },
  {
   "cell_type": "code",
   "execution_count": 56,
   "id": "9631983c",
   "metadata": {},
   "outputs": [
    {
     "name": "stdout",
     "output_type": "stream",
     "text": [
      "The accuracy score of model1 is: 80.74%\n",
      "The accuracy score of model2 is: 63.04%\n",
      "The accuracy score of model3 is: 50.96%\n",
      "The accuracy score of model4 is: 74.26%\n"
     ]
    }
   ],
   "source": [
    "accuracy_score1 = accuracy_score(y_true,y_pred1)\n",
    "accuracy_score2 = accuracy_score(y_true,y_pred2)\n",
    "accuracy_score3 = accuracy_score(y_true,y_pred3)\n",
    "accuracy_score4 = accuracy_score(y_true,y_pred4)\n",
    "\n",
    "\n",
    "print(f'The accuracy score of model1 is: {accuracy_score1:.2%}')\n",
    "print(f'The accuracy score of model2 is: {accuracy_score2:.2%}')\n",
    "print(f'The accuracy score of model3 is: {accuracy_score3:.2%}')\n",
    "print(f'The accuracy score of model4 is: {accuracy_score4:.2%}')"
   ]
  },
  {
   "cell_type": "code",
   "execution_count": 57,
   "id": "7c47b2db",
   "metadata": {},
   "outputs": [],
   "source": [
    "from sklearn.metrics import precision_score\n",
    "#best value is 1, worst is 0. Shows the ability of the classifier not to label something as positive, that is negative."
   ]
  },
  {
   "cell_type": "code",
   "execution_count": 58,
   "id": "e18dc992",
   "metadata": {},
   "outputs": [
    {
     "name": "stdout",
     "output_type": "stream",
     "text": [
      "The precision score of model1 is: 80.92%\n",
      "The precision score of model2 is: 69.07%\n",
      "The precision score of model3 is: 51.00%\n",
      "The precision score of model4 is: 65.06%\n"
     ]
    }
   ],
   "source": [
    "precision_score1 = precision_score(y_pred1, y_true, average='macro')\n",
    "precision_score2 = precision_score(y_pred2, y_true, average='macro')\n",
    "precision_score3 = precision_score(y_pred3, y_true, average='macro')\n",
    "precision_score4 = precision_score(y_pred4, y_true, average='macro')\n",
    " \n",
    "\n",
    "print(f'The precision score of model1 is: {precision_score1:.2%}')\n",
    "print(f'The precision score of model2 is: {precision_score2:.2%}')\n",
    "print(f'The precision score of model3 is: {precision_score3:.2%}')\n",
    "print(f'The precision score of model4 is: {precision_score4:.2%}')"
   ]
  },
  {
   "cell_type": "code",
   "execution_count": 59,
   "id": "54053dbd",
   "metadata": {},
   "outputs": [],
   "source": [
    "from sklearn.metrics import recall_score\n",
    "#best value is 1, worst is 0. Ability of classifier to find all of the positive samples"
   ]
  },
  {
   "cell_type": "code",
   "execution_count": 60,
   "id": "e0dd2da3",
   "metadata": {},
   "outputs": [
    {
     "name": "stdout",
     "output_type": "stream",
     "text": [
      "The recall score of model1 is: 80.92%\n",
      "The recall score of model2 is: 69.07%\n",
      "The recall score of model3 is: 51.00%\n",
      "The recall score of model4 is: 65.06%\n"
     ]
    }
   ],
   "source": [
    "recall_score1 = recall_score(y_true, y_pred1, average='macro')\n",
    "recall_score2 = recall_score(y_true, y_pred2, average='macro')\n",
    "recall_score3 = recall_score(y_true, y_pred3, average='macro')\n",
    "recall_score4 = recall_score(y_true, y_pred4, average='macro')\n",
    " \n",
    "\n",
    "print(f'The recall score of model1 is: {recall_score1:.2%}')\n",
    "print(f'The recall score of model2 is: {recall_score2:.2%}')\n",
    "print(f'The recall score of model3 is: {recall_score3:.2%}')\n",
    "print(f'The recall score of model4 is: {recall_score4:.2%}')"
   ]
  },
  {
   "cell_type": "code",
   "execution_count": 61,
   "id": "20569a6c",
   "metadata": {},
   "outputs": [],
   "source": [
    "from sklearn.metrics import classification_report\n",
    "#main classification metrics"
   ]
  },
  {
   "cell_type": "code",
   "execution_count": 62,
   "id": "1ea844a6",
   "metadata": {},
   "outputs": [
    {
     "name": "stdout",
     "output_type": "stream",
     "text": [
      "The classification report of model1 is:\n",
      "              precision    recall  f1-score   support\n",
      "\n",
      "         cat       0.69      0.82      0.75      1746\n",
      "         dog       0.89      0.80      0.84      3254\n",
      "\n",
      "    accuracy                           0.81      5000\n",
      "   macro avg       0.79      0.81      0.80      5000\n",
      "weighted avg       0.82      0.81      0.81      5000\n",
      "\n",
      "The classification report of model2 is:\n",
      "               precision    recall  f1-score   support\n",
      "\n",
      "         cat       0.48      0.89      0.63      1746\n",
      "         dog       0.89      0.49      0.63      3254\n",
      "\n",
      "    accuracy                           0.63      5000\n",
      "   macro avg       0.69      0.69      0.63      5000\n",
      "weighted avg       0.75      0.63      0.63      5000\n",
      "\n",
      "The classification report of model3 is:\n",
      "               precision    recall  f1-score   support\n",
      "\n",
      "         cat       0.36      0.51      0.42      1746\n",
      "         dog       0.66      0.51      0.57      3254\n",
      "\n",
      "    accuracy                           0.51      5000\n",
      "   macro avg       0.51      0.51      0.50      5000\n",
      "weighted avg       0.55      0.51      0.52      5000\n",
      "\n",
      "The classification report of model4 is:\n",
      "               precision    recall  f1-score   support\n",
      "\n",
      "         cat       0.81      0.35      0.48      1746\n",
      "         dog       0.73      0.96      0.83      3254\n",
      "\n",
      "    accuracy                           0.74      5000\n",
      "   macro avg       0.77      0.65      0.66      5000\n",
      "weighted avg       0.76      0.74      0.71      5000\n",
      "\n"
     ]
    }
   ],
   "source": [
    "classification_report1 = classification_report(y_true,y_pred1)\n",
    "classification_report2 = classification_report(y_true,y_pred2)\n",
    "classification_report3 = classification_report(y_true,y_pred3)\n",
    "classification_report4 = classification_report(y_true,y_pred4)\n",
    "\n",
    "\n",
    "print(f'The classification report of model1 is:\\n{classification_report1}')\n",
    "print(f'The classification report of model2 is:\\n {classification_report2}')\n",
    "print(f'The classification report of model3 is:\\n {classification_report3}')\n",
    "print(f'The classification report of model4 is:\\n {classification_report4}')"
   ]
  },
  {
   "cell_type": "code",
   "execution_count": 63,
   "id": "2c6c580a",
   "metadata": {},
   "outputs": [
    {
     "data": {
      "text/plain": [
       "{'cat': {'precision': 0.8150057273768614,\n",
       "  'recall': 0.6897721764420747,\n",
       "  'f1-score': 0.7471777369388292,\n",
       "  'support': 2063},\n",
       " 'dog': {'precision': 0.803318992009834,\n",
       "  'recall': 0.8900238338440586,\n",
       "  'f1-score': 0.8444516233241802,\n",
       "  'support': 2937},\n",
       " 'accuracy': 0.8074,\n",
       " 'macro avg': {'precision': 0.8091623596933477,\n",
       "  'recall': 0.7898980051430666,\n",
       "  'f1-score': 0.7958146801315047,\n",
       "  'support': 5000},\n",
       " 'weighted avg': {'precision': 0.8081409390222695,\n",
       "  'recall': 0.8074,\n",
       "  'f1-score': 0.8043164178015845,\n",
       "  'support': 5000}}"
      ]
     },
     "execution_count": 63,
     "metadata": {},
     "output_type": "execute_result"
    }
   ],
   "source": [
    "classification_report(y_pred1,y_true, output_dict = True)"
   ]
  },
  {
   "cell_type": "code",
   "execution_count": null,
   "id": "e14a349c",
   "metadata": {},
   "outputs": [],
   "source": []
  }
 ],
 "metadata": {
  "kernelspec": {
   "display_name": "Python 3",
   "language": "python",
   "name": "python3"
  },
  "language_info": {
   "codemirror_mode": {
    "name": "ipython",
    "version": 3
   },
   "file_extension": ".py",
   "mimetype": "text/x-python",
   "name": "python",
   "nbconvert_exporter": "python",
   "pygments_lexer": "ipython3",
   "version": "3.8.8"
  }
 },
 "nbformat": 4,
 "nbformat_minor": 5
}
